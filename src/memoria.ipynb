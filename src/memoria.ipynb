{
 "cells": [
  {
   "attachments": {},
   "cell_type": "markdown",
   "metadata": {},
   "source": [
    "## MACHINE LEARNING PROJECT: PREDICTING FORMULA 1 RESULTS\n",
    "\n",
    "Ramón Fernández Cerezo"
   ]
  },
  {
   "attachments": {},
   "cell_type": "markdown",
   "metadata": {},
   "source": [
    "### 1. Introduction\n",
    "\n",
    "Formula 1 is a very complex sport, where results depend on a lot of factors, from the engineering behind the car, to the weather forecast. Of course, we will admit that driver's ability plays an important role in order to know how a race is going to finish, although some haters doubt it. Every sport has a certain part of uncertainty, which makes them funnier, but in this project we are going to minimize that, until we get the better predictions possible.\n",
    "\n",
    "**Why do we need to know the results of a race before it happen?**\n",
    "\n",
    "There are several reasons:\n",
    "\n",
    "- First that come to mind is betting odds. With a high and safe ML model, we could reach an interesting benefit along the season.\n",
    "\n",
    "- A model like this could also be an objective reason to convince a company to be a sponsor, or to sign a more benefitial contract. \n",
    "\n",
    "- Also, Formula 1 teams usually have systems to decide which driver to help more and, in some occasion, which one they would sacrifice in order to help the main driver to win. But those decissions are not easy to take, and having an objective model that tells you which driver has more chances to get a bunch of points would help to avoid a lot of controversial situations between teammates.\n",
    "\n",
    "**Objectives**\n",
    "\n",
    "- Create a **ML classifier model** to predict the final results of a race based on previous features.\n",
    "- Understand the different features that have influence in the final results, and emphasize in them."
   ]
  },
  {
   "attachments": {},
   "cell_type": "markdown",
   "metadata": {},
   "source": [
    "### 2. Creating our dataset"
   ]
  },
  {
   "attachments": {},
   "cell_type": "markdown",
   "metadata": {},
   "source": [
    "The original database we will use comes from the API: 'http://ergast.com/mrd/'. Nevertheless, someone already did the work for us, because we can obtain the same dataset from Kaggle: 'https://www.kaggle.com/datasets/rohanrao/formula-1-world-championship-1950-2020', divided in 13 csv files."
   ]
  },
  {
   "attachments": {},
   "cell_type": "markdown",
   "metadata": {},
   "source": [
    "#### 2.1. Reading CSVs"
   ]
  },
  {
   "cell_type": "code",
   "execution_count": 61,
   "metadata": {},
   "outputs": [],
   "source": [
    "import pandas as pd\n",
    "\n",
    "results = pd.read_csv('Formula 1 Actualizad/results.csv')\n",
    "qualifying = pd.read_csv('Formula 1 Actualizad/qualifying.csv')\n",
    "races = pd.read_csv('Formula 1 Actualizad/races.csv')\n",
    "constructors = pd.read_csv('Formula 1 Actualizad/constructors.csv')\n",
    "drivers = pd.read_csv('Formula 1 Actualizad/drivers.csv')\n",
    "lap_times = pd.read_csv('Formula 1 Actualizad/lap_times.csv')\n",
    "circuits = pd.read_csv('Formula 1 Actualizad/circuits.csv')\n",
    "driver_standings = pd.read_csv(\"Formula 1 Actualizad/driver_standings.csv\")\n",
    "constructor_standings = pd.read_csv(\"Formula 1 Actualizad/constructor_standings.csv\")"
   ]
  },
  {
   "attachments": {},
   "cell_type": "markdown",
   "metadata": {},
   "source": [
    "#### 2.2 Merging CSVs\n",
    "\n",
    "##### MERGE 1 - dff1 \n",
    "+ Race results : To obtain positions, resultId to identify every observation, points, rythm, fastest lap and status\n",
    "+ qualifying results : to obtain qualifying positions and lap times\n",
    "\n",
    "**On raceId, driverId and constructorId, the skeleton of most of our merges**"
   ]
  },
  {
   "cell_type": "code",
   "execution_count": 62,
   "metadata": {},
   "outputs": [],
   "source": [
    "dff1 = pd.merge(results, qualifying, on=['raceId', 'driverId', 'constructorId'], how= 'outer')"
   ]
  },
  {
   "attachments": {},
   "cell_type": "markdown",
   "metadata": {},
   "source": [
    "#### MERGE 2 - dff2\n",
    "+ dff1 (results + qualifying)\n",
    "+ races : to obtain year and GP order (column 'round')\n",
    "\n",
    "**Extra steps:** \n",
    "1. Drop every unnecesary column by now (dates and times of different events, driver number -because we already have the Id-, urls)\n",
    "2. Drop every row from seasons before 2017"
   ]
  },
  {
   "cell_type": "code",
   "execution_count": 63,
   "metadata": {},
   "outputs": [],
   "source": [
    "dff2 = pd.merge(dff1, races, on='raceId')\n",
    "dff2.drop(['time_y', 'url', 'fp1_date', 'fp1_time', 'fp2_date', 'fp2_time',\n",
    "       'fp3_date', 'fp3_time', 'quali_date', 'quali_time', 'sprint_date',\n",
    "       'sprint_time', 'name', 'date', 'number_y', 'number_x', 'position_x'], axis=1, inplace=True)\n",
    "dff2 = dff2[dff2['year']>=2017]"
   ]
  },
  {
   "attachments": {},
   "cell_type": "markdown",
   "metadata": {},
   "source": [
    "#### MERGE 3 - dff3\n",
    "\n",
    "+ dff2 (results + qualifying + races)\n",
    "+ constructors: to associate the name of the team with every constructorId for a better visual understanding of the dataFrame"
   ]
  },
  {
   "cell_type": "code",
   "execution_count": 64,
   "metadata": {},
   "outputs": [],
   "source": [
    "dff3 = pd.merge(dff2, constructors[['constructorId', 'name']], on = 'constructorId')"
   ]
  },
  {
   "attachments": {},
   "cell_type": "markdown",
   "metadata": {},
   "source": [
    "#### MERGE 4 - dff4\n",
    "\n",
    "+ dff3 (results + qualifying + races + constructors)\n",
    "+ drivers: to associate drivers surnames with every driversId for a better visual understanding of the dataFrame"
   ]
  },
  {
   "cell_type": "code",
   "execution_count": 65,
   "metadata": {},
   "outputs": [],
   "source": [
    "dff4 = pd.merge(dff3, drivers[['driverId', 'surname']], on='driverId')"
   ]
  },
  {
   "attachments": {},
   "cell_type": "markdown",
   "metadata": {},
   "source": [
    "#### MERGE 5 - dff5\n",
    "\n",
    "**Previous step:** groupby of every laptimes per driver per race, taking the average value of all of them\n",
    "\n",
    "+ dff4 (results + qualifying + races + constructors)\n",
    "+ average_laptimes"
   ]
  },
  {
   "cell_type": "code",
   "execution_count": 66,
   "metadata": {},
   "outputs": [],
   "source": [
    "average_laptimes = lap_times.groupby(['raceId', 'driverId'])[['milliseconds']].mean()\n",
    "average_laptimes.reset_index(level=['raceId', 'driverId'], inplace=True)\n",
    "dff5 = pd.merge(dff4, average_laptimes, on= ['raceId', 'driverId'], how='left')"
   ]
  },
  {
   "attachments": {},
   "cell_type": "markdown",
   "metadata": {},
   "source": [
    "#### MERGE 6 - dff6\n",
    "+ dff5 (results + qualifying + races + constructors + average lap times)\n",
    "+ circuits: to associate circuit names with every circuitId for a better visual understanding of the dataFrame"
   ]
  },
  {
   "cell_type": "code",
   "execution_count": 67,
   "metadata": {},
   "outputs": [],
   "source": [
    "dff6 = pd.merge(dff5, circuits[['circuitId', 'circuitRef']], on='circuitId')"
   ]
  },
  {
   "attachments": {},
   "cell_type": "markdown",
   "metadata": {},
   "source": [
    "#### MERGE 7 - dff7\n",
    "\n",
    "+ dff6 (results + qualifying + races + constructors + average lap times + circuits)\n",
    "+ driver_standings: to obtain points and number of victories of each driver"
   ]
  },
  {
   "cell_type": "code",
   "execution_count": 68,
   "metadata": {},
   "outputs": [],
   "source": [
    "dff7 = pd.merge(dff6, driver_standings, on= ['raceId','driverId'])"
   ]
  },
  {
   "attachments": {},
   "cell_type": "markdown",
   "metadata": {},
   "source": [
    "#### MERGE 8 - dff8\n",
    "+ dff7 (results + qualifying + races + constructors + average lap times + circuits + driver_standings)\n",
    "+ constructor standings: to obtain points and number of victories of each team"
   ]
  },
  {
   "cell_type": "code",
   "execution_count": 69,
   "metadata": {},
   "outputs": [],
   "source": [
    "dff8 = pd.merge(dff7, constructor_standings, on = ['raceId', 'constructorId'], suffixes=['_driver', '_constructor'])"
   ]
  },
  {
   "attachments": {},
   "cell_type": "markdown",
   "metadata": {},
   "source": [
    "#### 3. Feature Engineering\n",
    "\n",
    "In our dataset we obtain data from the results of the current races, but it is non-sense to predict a result that we already know. The point of most of our feature engineering is to create new columns that only use information already existing before the beginning of the race, or trying to predict a concrete feature of the race."
   ]
  },
  {
   "attachments": {},
   "cell_type": "markdown",
   "metadata": {},
   "source": [
    "1. 'DNF'"
   ]
  },
  {
   "cell_type": "code",
   "execution_count": 70,
   "metadata": {},
   "outputs": [],
   "source": [
    "dff8['DNF'] = dff8['positionText_x'][dff8['positionText_x']== 'R']\n",
    "dff8['DNF'].replace('R', 1, inplace=True)\n",
    "dff8['DNF'].fillna(0, inplace=True)             # New column with a boolean that is True (1) if DNF, and False (0), if it was not"
   ]
  },
  {
   "attachments": {},
   "cell_type": "markdown",
   "metadata": {},
   "source": [
    "2. Average points per race and driver until the current race"
   ]
  },
  {
   "cell_type": "code",
   "execution_count": 71,
   "metadata": {},
   "outputs": [],
   "source": [
    "dff8['Pts Cmp'] = (dff8['points_y'] - dff8['points_x']) / (dff8['round']-1)\n",
    "dff8['Pts Cmp'].fillna(0, inplace=True)"
   ]
  },
  {
   "attachments": {},
   "cell_type": "markdown",
   "metadata": {},
   "source": [
    "3. Average points per race and team until the current race"
   ]
  },
  {
   "cell_type": "code",
   "execution_count": 72,
   "metadata": {},
   "outputs": [],
   "source": [
    "target_mean = dff8.groupby(['raceId', 'constructorId'])['points_x'].sum().rename('Team points in that race')\n",
    "\n",
    "dff8 = dff8.join(target_mean, on=['raceId', 'constructorId'])\n",
    "\n",
    "dff8['Pts Con'] = (dff8['points'] - dff8['Team points in that race'])/ (dff8['round']-1)\n",
    "\n",
    "dff8['Pts Con'].fillna(0, inplace= True)    # groupby to get team points in each race, add to the dataset, substract from total points\n",
    "                                            # and divide by the number of GP's to get the average per race"
   ]
  },
  {
   "cell_type": "code",
   "execution_count": 73,
   "metadata": {},
   "outputs": [],
   "source": [
    "dff8.sort_values(by='resultId', inplace=True)"
   ]
  },
  {
   "attachments": {},
   "cell_type": "markdown",
   "metadata": {},
   "source": [
    "4. Start from pitlane (bool)\n",
    "\n",
    "We realize that starting from pitlane for is defined by our dataset as starting in position 0, which does not make any sense, so we consider it as the position 21, because it is much worse than being in the last position of the grid, and to create a boolean about it."
   ]
  },
  {
   "cell_type": "code",
   "execution_count": 74,
   "metadata": {},
   "outputs": [],
   "source": [
    "dff8['grid'].replace(0, 21, inplace=True)\n",
    "dff8['Start From Pitlane'] = 0\n",
    "dff8['Start From Pitlane'].where(dff8['grid'] != 21, 1, inplace=True)"
   ]
  },
  {
   "attachments": {},
   "cell_type": "markdown",
   "metadata": {},
   "source": [
    "5. Gained/Lost positions"
   ]
  },
  {
   "cell_type": "code",
   "execution_count": 75,
   "metadata": {},
   "outputs": [],
   "source": [
    "dff8['Gained/Lost positions'] = dff8['grid'] - dff8['positionOrder']\n",
    "dff8['Total Gained/Lost positions'] = dff8.groupby(['driverId', 'year'])['Gained/Lost positions'].cumsum()\n",
    "dff8['TTotal Gained/Lost positions'] = dff8['Total Gained/Lost positions'] - dff8['Gained/Lost positions']\n",
    "\n",
    "# Grouped by driver and year, we get all the positions gained and lost in the whole season"
   ]
  },
  {
   "attachments": {},
   "cell_type": "markdown",
   "metadata": {},
   "source": [
    "6. DNF INDEX (DNF PER DRIVER/TEAM * AVERAGE DNF PER CIRCUIT)"
   ]
  },
  {
   "attachments": {},
   "cell_type": "markdown",
   "metadata": {},
   "source": [
    "+ Attempt to create an index to guess DNF in the race"
   ]
  },
  {
   "cell_type": "code",
   "execution_count": 76,
   "metadata": {},
   "outputs": [],
   "source": [
    "dnf_driver_mean = dff8.groupby(['year', 'driverId'])['DNF'].mean().rename('DNF/driver')\n",
    "dff8 = dff8.join(dnf_driver_mean, on=['year', 'driverId'])\n",
    "\n",
    "dnf_circuit_mean = dff8.groupby(['year', 'circuitId'])['DNF'].sum().rename('DNF/circuit')\n",
    "dff8 = dff8.join(dnf_circuit_mean, on=['year', 'circuitId'])\n",
    "\n",
    "dnf_constructor_mean = dff8.groupby(['year', 'constructorId'])['DNF'].mean().rename('DNF/constructor')\n",
    "dff8 = dff8.join(dnf_constructor_mean, on=['year', 'constructorId'])"
   ]
  },
  {
   "cell_type": "code",
   "execution_count": 77,
   "metadata": {},
   "outputs": [],
   "source": [
    "dff8['Index DNF/Driver'] = dff8['DNF/driver'] * dff8['DNF/circuit']\n",
    "dff8['Index DNF/Constructor'] = dff8['DNF/constructor'] * dff8['DNF/circuit']"
   ]
  },
  {
   "attachments": {},
   "cell_type": "markdown",
   "metadata": {},
   "source": [
    "7. Average Lost Laps in the season\n",
    "+ In order to understand and give our model a better information about the lower positions"
   ]
  },
  {
   "cell_type": "code",
   "execution_count": 78,
   "metadata": {},
   "outputs": [],
   "source": [
    "dff8['Lost Laps'] = 0\n",
    "dff8['Lost Laps'].where(dff8['statusId'] != 11, 1, inplace=True)\n",
    "dff8['Lost Laps'].where(dff8['statusId'] != 12, 2, inplace=True)\n",
    "dff8['Lost Laps'].where(dff8['statusId'] != 13, 3, inplace=True)\n",
    "dff8['Lost Laps'].where(dff8['statusId'] != 14, 4, inplace=True)\n",
    "dff8['Lost Laps'].where(dff8['statusId'] != 15, 5, inplace=True)\n",
    "dff8['Lost Laps'].where(dff8['statusId'] != 16, 6, inplace=True)\n",
    "\n",
    "dff8['Sum of Lost Laps'] = dff8.groupby(['driverId', 'year'])['Lost Laps'].cumsum()\n",
    "dff8['Sum of Lost Laps before the race'] = dff8['Sum of Lost Laps'] - dff8['Lost Laps']\n",
    "dff8['Average Lost Laps'] = dff8['Sum of Lost Laps before the race'] / (dff8['round'] - 1)\n",
    "dff8['Average Lost Laps'].fillna(0, inplace=True)"
   ]
  },
  {
   "cell_type": "code",
   "execution_count": 79,
   "metadata": {},
   "outputs": [],
   "source": [
    "dff8['position_y'][dff8['position_y'].isna()] = 20"
   ]
  },
  {
   "attachments": {},
   "cell_type": "markdown",
   "metadata": {},
   "source": [
    "8. Average Speed per circuit (Source: F1) \n",
    "* No correlation found\n",
    "* Source: F1"
   ]
  },
  {
   "cell_type": "code",
   "execution_count": 80,
   "metadata": {},
   "outputs": [],
   "source": [
    "dff8['circuitRef'].unique()\n",
    "dff8['Circuit_speed'] = dff8['circuitRef'].map({'albert_park': 211, 'bahrain': 201, 'shanghai': 194, \n",
    "      'baku': 202, 'catalunya': 193, 'monaco': 153, 'villeneuve': 202, 'ricard': 219, 'red_bull_ring':225,\n",
    "      'silverstone':225, 'hockenheimring': 207, 'hungaroring':186, 'spa':224, 'monza':241, 'marina_bay':164,\n",
    "      'sochi':211, 'suzuka': 215, 'americas': 196, 'rodriguez': 190, 'interlagos': 206,\n",
    "      'yas_marina': 192, 'mugello': 232, 'nurburgring': 196, 'portimao': 207, 'imola': 224,\n",
    "      'istanbul':207, 'zandvoort': 205, 'losail': 223, 'jeddah':240, 'miami':209})"
   ]
  },
  {
   "attachments": {},
   "cell_type": "markdown",
   "metadata": {},
   "source": [
    "9. Position in the last races"
   ]
  },
  {
   "cell_type": "code",
   "execution_count": 81,
   "metadata": {},
   "outputs": [],
   "source": [
    "def add_previous_races(df, n):\n",
    "    \"\"\"\n",
    "    Add columns to the dataframe with the results of the last n races for each driver.\n",
    "    \n",
    "    Parameters:\n",
    "    df (DataFrame): The input dataframe with driver results.\n",
    "    n (int): The number of previous races to include in the output dataframe.\n",
    "    \n",
    "    Returns:\n",
    "    None\n",
    "    \"\"\"\n",
    "    # Group the dataframe by the driver column\n",
    "    grouped = df.groupby('driverId')\n",
    "    \n",
    "    # Initialize a list to store the shifted values\n",
    "    shifted_values = []\n",
    "    \n",
    "    # Shift the values within each group n times to get the results of the previous races\n",
    "    for i in range(1, n + 1):\n",
    "        shifted_values.append(grouped['positionOrder'].shift(i))\n",
    "    \n",
    "    # Concatenate the shifted values with the original dataframe\n",
    "    new_cols = [f'Result_Race-{i}' for i in range(1, n + 1)]\n",
    "    for i, col in enumerate(new_cols):\n",
    "        df[col] = shifted_values[i]\n",
    "    \n",
    "    return None\n",
    "\n",
    "# Call the function to add the results of the last 5 races as new columns in the existing dataframe\n",
    "add_previous_races(dff8, 5)\n",
    "\n",
    "# Print the resulting dataframe"
   ]
  },
  {
   "cell_type": "code",
   "execution_count": 82,
   "metadata": {},
   "outputs": [],
   "source": [
    "dff8['Result_Race-1'].fillna(10, inplace=True)\n",
    "dff8['Result_Race-2'].fillna(10, inplace=True)\n",
    "dff8['Result_Race-3'].fillna(10, inplace=True)\n",
    "dff8['Result_Race-4'].fillna(10, inplace=True)\n",
    "dff8['Result_Race-5'].fillna(10, inplace=True)"
   ]
  },
  {
   "attachments": {},
   "cell_type": "markdown",
   "metadata": {},
   "source": [
    "## FINAL DATASET "
   ]
  },
  {
   "cell_type": "code",
   "execution_count": 83,
   "metadata": {},
   "outputs": [
    {
     "data": {
      "text/plain": [
       "Index(['ResultId', 'RaceId', 'Year', 'GP', 'CircuitId', 'DriverId',\n",
       "       'ConstructorId', 'Constructor Name', 'Driver Name', 'Circuit',\n",
       "       'Final position', 'DNF', 'Fastest Lap Rank', 'Grid position',\n",
       "       'Average pace', 'Q1', 'Q2', 'Q3', 'Qualifying position', 'Victories',\n",
       "       'Drivers points', 'Constructors points', 'Constructors victories',\n",
       "       'Start from Pitlane', 'Total gained/lost positions', 'Index DNF/Driver',\n",
       "       'Index DNF/Constructor', 'Average Lost laps', 'Circuit Speed',\n",
       "       'Result_Race-1', 'Result_Race-2', 'Result_Race-3', 'Result_Race-4',\n",
       "       'Result_Race-5'],\n",
       "      dtype='object')"
      ]
     },
     "execution_count": 83,
     "metadata": {},
     "output_type": "execute_result"
    }
   ],
   "source": [
    "dffinal = pd.DataFrame({'ResultId': dff8['resultId'], 'RaceId': dff8['raceId'], 'Year': dff8['year'], 'GP' : dff8['round'],\n",
    "                'CircuitId': dff8['circuitId'], 'DriverId': dff8['driverId'], 'ConstructorId': dff8['constructorId'],\n",
    "                'Constructor Name': dff8['name'], 'Driver Name':dff8['surname'], 'Circuit': dff8['circuitRef'],\n",
    "                'Final position': dff8['positionOrder'], 'DNF': dff8['DNF'], \n",
    "                'Fastest Lap Rank': dff8['rank'], 'Grid position': dff8['grid'], 'Average pace': dff8['milliseconds_y'], \n",
    "                'Q1': dff8['q1'], 'Q2': dff8['q2'], 'Q3': dff8['q3'], 'Qualifying position': dff8['position_y'],\n",
    "                'Victories': dff8['wins_driver'], 'Drivers points': dff8['Pts Cmp'],\n",
    "                'Constructors points': dff8['Pts Con'], 'Constructors victories': dff8['wins_constructor'],\n",
    "                'Start from Pitlane': dff8['Start From Pitlane'], \n",
    "                'Total gained/lost positions': dff8['TTotal Gained/Lost positions'], \n",
    "                'Index DNF/Driver': dff8['Index DNF/Driver'], 'Index DNF/Constructor': dff8['Index DNF/Constructor'],\n",
    "                'Average Lost laps': dff8['Average Lost Laps'], 'Circuit Speed': dff8['Circuit_speed'],\n",
    "                'Result_Race-1': dff8['Result_Race-1'], 'Result_Race-2': dff8['Result_Race-2'],\n",
    "                'Result_Race-3': dff8['Result_Race-3'], 'Result_Race-4': dff8['Result_Race-4'],\n",
    "                'Result_Race-5': dff8['Result_Race-5']})\n",
    "dffinal.columns"
   ]
  },
  {
   "attachments": {},
   "cell_type": "markdown",
   "metadata": {},
   "source": [
    "**Dataset to csv**"
   ]
  },
  {
   "cell_type": "code",
   "execution_count": 84,
   "metadata": {},
   "outputs": [],
   "source": [
    "dffinal.to_csv('F1.csv', header=True, index=True)"
   ]
  },
  {
   "attachments": {},
   "cell_type": "markdown",
   "metadata": {},
   "source": [
    "### 4. EDA + Some more featuring + Target creation"
   ]
  },
  {
   "cell_type": "code",
   "execution_count": 85,
   "metadata": {},
   "outputs": [
    {
     "data": {
      "text/html": [
       "<div>\n",
       "<style scoped>\n",
       "    .dataframe tbody tr th:only-of-type {\n",
       "        vertical-align: middle;\n",
       "    }\n",
       "\n",
       "    .dataframe tbody tr th {\n",
       "        vertical-align: top;\n",
       "    }\n",
       "\n",
       "    .dataframe thead th {\n",
       "        text-align: right;\n",
       "    }\n",
       "</style>\n",
       "<table border=\"1\" class=\"dataframe\">\n",
       "  <thead>\n",
       "    <tr style=\"text-align: right;\">\n",
       "      <th></th>\n",
       "      <th>RaceId</th>\n",
       "      <th>Year</th>\n",
       "      <th>GP</th>\n",
       "      <th>CircuitId</th>\n",
       "      <th>DriverId</th>\n",
       "      <th>ConstructorId</th>\n",
       "      <th>Constructor Name</th>\n",
       "      <th>Driver Name</th>\n",
       "      <th>Circuit</th>\n",
       "      <th>Final position</th>\n",
       "      <th>...</th>\n",
       "      <th>Total gained/lost positions</th>\n",
       "      <th>Index DNF/Driver</th>\n",
       "      <th>Index DNF/Constructor</th>\n",
       "      <th>Average Lost laps</th>\n",
       "      <th>Circuit Speed</th>\n",
       "      <th>Result_Race-1</th>\n",
       "      <th>Result_Race-2</th>\n",
       "      <th>Result_Race-3</th>\n",
       "      <th>Result_Race-4</th>\n",
       "      <th>Result_Race-5</th>\n",
       "    </tr>\n",
       "    <tr>\n",
       "      <th>ResultId</th>\n",
       "      <th></th>\n",
       "      <th></th>\n",
       "      <th></th>\n",
       "      <th></th>\n",
       "      <th></th>\n",
       "      <th></th>\n",
       "      <th></th>\n",
       "      <th></th>\n",
       "      <th></th>\n",
       "      <th></th>\n",
       "      <th></th>\n",
       "      <th></th>\n",
       "      <th></th>\n",
       "      <th></th>\n",
       "      <th></th>\n",
       "      <th></th>\n",
       "      <th></th>\n",
       "      <th></th>\n",
       "      <th></th>\n",
       "      <th></th>\n",
       "      <th></th>\n",
       "    </tr>\n",
       "  </thead>\n",
       "  <tbody>\n",
       "    <tr>\n",
       "      <th>23379.0</th>\n",
       "      <td>969</td>\n",
       "      <td>2017</td>\n",
       "      <td>1</td>\n",
       "      <td>1</td>\n",
       "      <td>20</td>\n",
       "      <td>6</td>\n",
       "      <td>Ferrari</td>\n",
       "      <td>Vettel</td>\n",
       "      <td>albert_park</td>\n",
       "      <td>1.0</td>\n",
       "      <td>...</td>\n",
       "      <td>0.0</td>\n",
       "      <td>0.70</td>\n",
       "      <td>0.875</td>\n",
       "      <td>0.0</td>\n",
       "      <td>211.0</td>\n",
       "      <td>10.0</td>\n",
       "      <td>10.0</td>\n",
       "      <td>10.0</td>\n",
       "      <td>10.0</td>\n",
       "      <td>10.0</td>\n",
       "    </tr>\n",
       "    <tr>\n",
       "      <th>23380.0</th>\n",
       "      <td>969</td>\n",
       "      <td>2017</td>\n",
       "      <td>1</td>\n",
       "      <td>1</td>\n",
       "      <td>1</td>\n",
       "      <td>131</td>\n",
       "      <td>Mercedes</td>\n",
       "      <td>Hamilton</td>\n",
       "      <td>albert_park</td>\n",
       "      <td>2.0</td>\n",
       "      <td>...</td>\n",
       "      <td>0.0</td>\n",
       "      <td>0.00</td>\n",
       "      <td>0.175</td>\n",
       "      <td>0.0</td>\n",
       "      <td>211.0</td>\n",
       "      <td>10.0</td>\n",
       "      <td>10.0</td>\n",
       "      <td>10.0</td>\n",
       "      <td>10.0</td>\n",
       "      <td>10.0</td>\n",
       "    </tr>\n",
       "    <tr>\n",
       "      <th>23381.0</th>\n",
       "      <td>969</td>\n",
       "      <td>2017</td>\n",
       "      <td>1</td>\n",
       "      <td>1</td>\n",
       "      <td>822</td>\n",
       "      <td>131</td>\n",
       "      <td>Mercedes</td>\n",
       "      <td>Bottas</td>\n",
       "      <td>albert_park</td>\n",
       "      <td>3.0</td>\n",
       "      <td>...</td>\n",
       "      <td>0.0</td>\n",
       "      <td>0.35</td>\n",
       "      <td>0.175</td>\n",
       "      <td>0.0</td>\n",
       "      <td>211.0</td>\n",
       "      <td>10.0</td>\n",
       "      <td>10.0</td>\n",
       "      <td>10.0</td>\n",
       "      <td>10.0</td>\n",
       "      <td>10.0</td>\n",
       "    </tr>\n",
       "    <tr>\n",
       "      <th>23382.0</th>\n",
       "      <td>969</td>\n",
       "      <td>2017</td>\n",
       "      <td>1</td>\n",
       "      <td>1</td>\n",
       "      <td>8</td>\n",
       "      <td>6</td>\n",
       "      <td>Ferrari</td>\n",
       "      <td>Räikkönen</td>\n",
       "      <td>albert_park</td>\n",
       "      <td>4.0</td>\n",
       "      <td>...</td>\n",
       "      <td>0.0</td>\n",
       "      <td>1.05</td>\n",
       "      <td>0.875</td>\n",
       "      <td>0.0</td>\n",
       "      <td>211.0</td>\n",
       "      <td>10.0</td>\n",
       "      <td>10.0</td>\n",
       "      <td>10.0</td>\n",
       "      <td>10.0</td>\n",
       "      <td>10.0</td>\n",
       "    </tr>\n",
       "    <tr>\n",
       "      <th>23383.0</th>\n",
       "      <td>969</td>\n",
       "      <td>2017</td>\n",
       "      <td>1</td>\n",
       "      <td>1</td>\n",
       "      <td>830</td>\n",
       "      <td>9</td>\n",
       "      <td>Red Bull</td>\n",
       "      <td>Verstappen</td>\n",
       "      <td>albert_park</td>\n",
       "      <td>5.0</td>\n",
       "      <td>...</td>\n",
       "      <td>0.0</td>\n",
       "      <td>2.45</td>\n",
       "      <td>2.275</td>\n",
       "      <td>0.0</td>\n",
       "      <td>211.0</td>\n",
       "      <td>10.0</td>\n",
       "      <td>10.0</td>\n",
       "      <td>10.0</td>\n",
       "      <td>10.0</td>\n",
       "      <td>10.0</td>\n",
       "    </tr>\n",
       "  </tbody>\n",
       "</table>\n",
       "<p>5 rows × 33 columns</p>\n",
       "</div>"
      ],
      "text/plain": [
       "          RaceId  Year  GP  CircuitId  DriverId  ConstructorId  \\\n",
       "ResultId                                                         \n",
       "23379.0      969  2017   1          1        20              6   \n",
       "23380.0      969  2017   1          1         1            131   \n",
       "23381.0      969  2017   1          1       822            131   \n",
       "23382.0      969  2017   1          1         8              6   \n",
       "23383.0      969  2017   1          1       830              9   \n",
       "\n",
       "         Constructor Name Driver Name      Circuit  Final position  ...  \\\n",
       "ResultId                                                            ...   \n",
       "23379.0           Ferrari      Vettel  albert_park             1.0  ...   \n",
       "23380.0          Mercedes    Hamilton  albert_park             2.0  ...   \n",
       "23381.0          Mercedes      Bottas  albert_park             3.0  ...   \n",
       "23382.0           Ferrari   Räikkönen  albert_park             4.0  ...   \n",
       "23383.0          Red Bull  Verstappen  albert_park             5.0  ...   \n",
       "\n",
       "          Total gained/lost positions  Index DNF/Driver  \\\n",
       "ResultId                                                  \n",
       "23379.0                           0.0              0.70   \n",
       "23380.0                           0.0              0.00   \n",
       "23381.0                           0.0              0.35   \n",
       "23382.0                           0.0              1.05   \n",
       "23383.0                           0.0              2.45   \n",
       "\n",
       "          Index DNF/Constructor  Average Lost laps Circuit Speed  \\\n",
       "ResultId                                                           \n",
       "23379.0                   0.875                0.0         211.0   \n",
       "23380.0                   0.175                0.0         211.0   \n",
       "23381.0                   0.175                0.0         211.0   \n",
       "23382.0                   0.875                0.0         211.0   \n",
       "23383.0                   2.275                0.0         211.0   \n",
       "\n",
       "         Result_Race-1 Result_Race-2  Result_Race-3  Result_Race-4  \\\n",
       "ResultId                                                             \n",
       "23379.0           10.0          10.0           10.0           10.0   \n",
       "23380.0           10.0          10.0           10.0           10.0   \n",
       "23381.0           10.0          10.0           10.0           10.0   \n",
       "23382.0           10.0          10.0           10.0           10.0   \n",
       "23383.0           10.0          10.0           10.0           10.0   \n",
       "\n",
       "          Result_Race-5  \n",
       "ResultId                 \n",
       "23379.0            10.0  \n",
       "23380.0            10.0  \n",
       "23381.0            10.0  \n",
       "23382.0            10.0  \n",
       "23383.0            10.0  \n",
       "\n",
       "[5 rows x 33 columns]"
      ]
     },
     "execution_count": 85,
     "metadata": {},
     "output_type": "execute_result"
    }
   ],
   "source": [
    "df = pd.read_csv('F1.csv', index_col='ResultId')\n",
    "df.drop(\"Unnamed: 0\", axis= 1, inplace=True)\n",
    "df.head()"
   ]
  },
  {
   "cell_type": "code",
   "execution_count": 86,
   "metadata": {},
   "outputs": [
    {
     "name": "stdout",
     "output_type": "stream",
     "text": [
      "<class 'pandas.core.frame.DataFrame'>\n",
      "Float64Index: 2460 entries, 23379.0 to 25845.0\n",
      "Data columns (total 33 columns):\n",
      " #   Column                       Non-Null Count  Dtype  \n",
      "---  ------                       --------------  -----  \n",
      " 0   RaceId                       2460 non-null   int64  \n",
      " 1   Year                         2460 non-null   int64  \n",
      " 2   GP                           2460 non-null   int64  \n",
      " 3   CircuitId                    2460 non-null   int64  \n",
      " 4   DriverId                     2460 non-null   int64  \n",
      " 5   ConstructorId                2460 non-null   int64  \n",
      " 6   Constructor Name             2460 non-null   object \n",
      " 7   Driver Name                  2460 non-null   object \n",
      " 8   Circuit                      2460 non-null   object \n",
      " 9   Final position               2460 non-null   float64\n",
      " 10  DNF                          2460 non-null   float64\n",
      " 11  Fastest Lap Rank             2460 non-null   int64  \n",
      " 12  Grid position                2460 non-null   float64\n",
      " 13  Average pace                 2389 non-null   float64\n",
      " 14  Q1                           2447 non-null   object \n",
      " 15  Q2                           2323 non-null   object \n",
      " 16  Q3                           2175 non-null   object \n",
      " 17  Qualifying position          2460 non-null   float64\n",
      " 18  Victories                    2460 non-null   int64  \n",
      " 19  Drivers points               2460 non-null   float64\n",
      " 20  Constructors points          2460 non-null   float64\n",
      " 21  Constructors victories       2460 non-null   int64  \n",
      " 22  Start from Pitlane           2460 non-null   int64  \n",
      " 23  Total gained/lost positions  2460 non-null   float64\n",
      " 24  Index DNF/Driver             2460 non-null   float64\n",
      " 25  Index DNF/Constructor        2460 non-null   float64\n",
      " 26  Average Lost laps            2460 non-null   float64\n",
      " 27  Circuit Speed                2440 non-null   float64\n",
      " 28  Result_Race-1                2460 non-null   float64\n",
      " 29  Result_Race-2                2460 non-null   float64\n",
      " 30  Result_Race-3                2460 non-null   float64\n",
      " 31  Result_Race-4                2460 non-null   float64\n",
      " 32  Result_Race-5                2460 non-null   float64\n",
      "dtypes: float64(17), int64(10), object(6)\n",
      "memory usage: 653.4+ KB\n"
     ]
    }
   ],
   "source": [
    "df.info()"
   ]
  },
  {
   "cell_type": "code",
   "execution_count": 87,
   "metadata": {},
   "outputs": [
    {
     "data": {
      "text/html": [
       "<div>\n",
       "<style scoped>\n",
       "    .dataframe tbody tr th:only-of-type {\n",
       "        vertical-align: middle;\n",
       "    }\n",
       "\n",
       "    .dataframe tbody tr th {\n",
       "        vertical-align: top;\n",
       "    }\n",
       "\n",
       "    .dataframe thead th {\n",
       "        text-align: right;\n",
       "    }\n",
       "</style>\n",
       "<table border=\"1\" class=\"dataframe\">\n",
       "  <thead>\n",
       "    <tr style=\"text-align: right;\">\n",
       "      <th></th>\n",
       "      <th>RaceId</th>\n",
       "      <th>Year</th>\n",
       "      <th>GP</th>\n",
       "      <th>CircuitId</th>\n",
       "      <th>DriverId</th>\n",
       "      <th>ConstructorId</th>\n",
       "      <th>Final position</th>\n",
       "      <th>DNF</th>\n",
       "      <th>Fastest Lap Rank</th>\n",
       "      <th>Grid position</th>\n",
       "      <th>...</th>\n",
       "      <th>Total gained/lost positions</th>\n",
       "      <th>Index DNF/Driver</th>\n",
       "      <th>Index DNF/Constructor</th>\n",
       "      <th>Average Lost laps</th>\n",
       "      <th>Circuit Speed</th>\n",
       "      <th>Result_Race-1</th>\n",
       "      <th>Result_Race-2</th>\n",
       "      <th>Result_Race-3</th>\n",
       "      <th>Result_Race-4</th>\n",
       "      <th>Result_Race-5</th>\n",
       "    </tr>\n",
       "  </thead>\n",
       "  <tbody>\n",
       "    <tr>\n",
       "      <th>count</th>\n",
       "      <td>2460.000000</td>\n",
       "      <td>2460.000000</td>\n",
       "      <td>2460.000000</td>\n",
       "      <td>2460.000000</td>\n",
       "      <td>2460.000000</td>\n",
       "      <td>2460.000000</td>\n",
       "      <td>2460.000000</td>\n",
       "      <td>2460.000000</td>\n",
       "      <td>2460.000000</td>\n",
       "      <td>2460.000000</td>\n",
       "      <td>...</td>\n",
       "      <td>2460.000000</td>\n",
       "      <td>2460.000000</td>\n",
       "      <td>2460.000000</td>\n",
       "      <td>2460.000000</td>\n",
       "      <td>2440.000000</td>\n",
       "      <td>2460.000000</td>\n",
       "      <td>2460.000000</td>\n",
       "      <td>2460.000000</td>\n",
       "      <td>2460.000000</td>\n",
       "      <td>2460.000000</td>\n",
       "    </tr>\n",
       "    <tr>\n",
       "      <th>mean</th>\n",
       "      <td>1031.341463</td>\n",
       "      <td>2019.536585</td>\n",
       "      <td>10.821138</td>\n",
       "      <td>28.308943</td>\n",
       "      <td>655.658537</td>\n",
       "      <td>69.665041</td>\n",
       "      <td>10.500000</td>\n",
       "      <td>0.151220</td>\n",
       "      <td>9.688618</td>\n",
       "      <td>10.559756</td>\n",
       "      <td>...</td>\n",
       "      <td>0.619919</td>\n",
       "      <td>0.509302</td>\n",
       "      <td>0.508935</td>\n",
       "      <td>0.337179</td>\n",
       "      <td>205.557377</td>\n",
       "      <td>10.456098</td>\n",
       "      <td>10.426423</td>\n",
       "      <td>10.408537</td>\n",
       "      <td>10.385772</td>\n",
       "      <td>10.364228</td>\n",
       "    </tr>\n",
       "    <tr>\n",
       "      <th>std</th>\n",
       "      <td>37.096936</td>\n",
       "      <td>1.731429</td>\n",
       "      <td>6.025610</td>\n",
       "      <td>26.302006</td>\n",
       "      <td>335.646406</td>\n",
       "      <td>85.020075</td>\n",
       "      <td>5.767454</td>\n",
       "      <td>0.358336</td>\n",
       "      <td>5.861194</td>\n",
       "      <td>5.830401</td>\n",
       "      <td>...</td>\n",
       "      <td>20.045086</td>\n",
       "      <td>0.526924</td>\n",
       "      <td>0.463256</td>\n",
       "      <td>0.376062</td>\n",
       "      <td>19.942126</td>\n",
       "      <td>5.721696</td>\n",
       "      <td>5.682664</td>\n",
       "      <td>5.650252</td>\n",
       "      <td>5.614674</td>\n",
       "      <td>5.577421</td>\n",
       "    </tr>\n",
       "    <tr>\n",
       "      <th>min</th>\n",
       "      <td>969.000000</td>\n",
       "      <td>2017.000000</td>\n",
       "      <td>1.000000</td>\n",
       "      <td>1.000000</td>\n",
       "      <td>1.000000</td>\n",
       "      <td>1.000000</td>\n",
       "      <td>1.000000</td>\n",
       "      <td>0.000000</td>\n",
       "      <td>0.000000</td>\n",
       "      <td>1.000000</td>\n",
       "      <td>...</td>\n",
       "      <td>-81.000000</td>\n",
       "      <td>0.000000</td>\n",
       "      <td>0.000000</td>\n",
       "      <td>0.000000</td>\n",
       "      <td>153.000000</td>\n",
       "      <td>1.000000</td>\n",
       "      <td>1.000000</td>\n",
       "      <td>1.000000</td>\n",
       "      <td>1.000000</td>\n",
       "      <td>1.000000</td>\n",
       "    </tr>\n",
       "    <tr>\n",
       "      <th>25%</th>\n",
       "      <td>999.000000</td>\n",
       "      <td>2018.000000</td>\n",
       "      <td>6.000000</td>\n",
       "      <td>9.000000</td>\n",
       "      <td>815.000000</td>\n",
       "      <td>4.000000</td>\n",
       "      <td>5.750000</td>\n",
       "      <td>0.000000</td>\n",
       "      <td>5.000000</td>\n",
       "      <td>6.000000</td>\n",
       "      <td>...</td>\n",
       "      <td>-9.000000</td>\n",
       "      <td>0.150000</td>\n",
       "      <td>0.181818</td>\n",
       "      <td>0.000000</td>\n",
       "      <td>193.000000</td>\n",
       "      <td>6.000000</td>\n",
       "      <td>6.000000</td>\n",
       "      <td>6.000000</td>\n",
       "      <td>6.000000</td>\n",
       "      <td>6.000000</td>\n",
       "    </tr>\n",
       "    <tr>\n",
       "      <th>50%</th>\n",
       "      <td>1030.000000</td>\n",
       "      <td>2019.000000</td>\n",
       "      <td>11.000000</td>\n",
       "      <td>17.000000</td>\n",
       "      <td>830.000000</td>\n",
       "      <td>9.000000</td>\n",
       "      <td>10.500000</td>\n",
       "      <td>0.000000</td>\n",
       "      <td>10.000000</td>\n",
       "      <td>11.000000</td>\n",
       "      <td>...</td>\n",
       "      <td>0.000000</td>\n",
       "      <td>0.314145</td>\n",
       "      <td>0.363636</td>\n",
       "      <td>0.272727</td>\n",
       "      <td>206.000000</td>\n",
       "      <td>10.000000</td>\n",
       "      <td>10.000000</td>\n",
       "      <td>10.000000</td>\n",
       "      <td>10.000000</td>\n",
       "      <td>10.000000</td>\n",
       "    </tr>\n",
       "    <tr>\n",
       "      <th>75%</th>\n",
       "      <td>1064.000000</td>\n",
       "      <td>2021.000000</td>\n",
       "      <td>16.000000</td>\n",
       "      <td>39.000000</td>\n",
       "      <td>842.000000</td>\n",
       "      <td>131.000000</td>\n",
       "      <td>15.250000</td>\n",
       "      <td>0.000000</td>\n",
       "      <td>15.000000</td>\n",
       "      <td>16.000000</td>\n",
       "      <td>...</td>\n",
       "      <td>12.000000</td>\n",
       "      <td>0.686364</td>\n",
       "      <td>0.714286</td>\n",
       "      <td>0.500000</td>\n",
       "      <td>224.000000</td>\n",
       "      <td>15.000000</td>\n",
       "      <td>15.000000</td>\n",
       "      <td>15.000000</td>\n",
       "      <td>15.000000</td>\n",
       "      <td>15.000000</td>\n",
       "    </tr>\n",
       "    <tr>\n",
       "      <th>max</th>\n",
       "      <td>1096.000000</td>\n",
       "      <td>2022.000000</td>\n",
       "      <td>22.000000</td>\n",
       "      <td>79.000000</td>\n",
       "      <td>856.000000</td>\n",
       "      <td>214.000000</td>\n",
       "      <td>20.000000</td>\n",
       "      <td>1.000000</td>\n",
       "      <td>20.000000</td>\n",
       "      <td>21.000000</td>\n",
       "      <td>...</td>\n",
       "      <td>66.000000</td>\n",
       "      <td>5.000000</td>\n",
       "      <td>2.800000</td>\n",
       "      <td>3.000000</td>\n",
       "      <td>241.000000</td>\n",
       "      <td>20.000000</td>\n",
       "      <td>20.000000</td>\n",
       "      <td>20.000000</td>\n",
       "      <td>20.000000</td>\n",
       "      <td>20.000000</td>\n",
       "    </tr>\n",
       "  </tbody>\n",
       "</table>\n",
       "<p>8 rows × 27 columns</p>\n",
       "</div>"
      ],
      "text/plain": [
       "            RaceId         Year           GP    CircuitId     DriverId  \\\n",
       "count  2460.000000  2460.000000  2460.000000  2460.000000  2460.000000   \n",
       "mean   1031.341463  2019.536585    10.821138    28.308943   655.658537   \n",
       "std      37.096936     1.731429     6.025610    26.302006   335.646406   \n",
       "min     969.000000  2017.000000     1.000000     1.000000     1.000000   \n",
       "25%     999.000000  2018.000000     6.000000     9.000000   815.000000   \n",
       "50%    1030.000000  2019.000000    11.000000    17.000000   830.000000   \n",
       "75%    1064.000000  2021.000000    16.000000    39.000000   842.000000   \n",
       "max    1096.000000  2022.000000    22.000000    79.000000   856.000000   \n",
       "\n",
       "       ConstructorId  Final position          DNF  Fastest Lap Rank  \\\n",
       "count    2460.000000     2460.000000  2460.000000       2460.000000   \n",
       "mean       69.665041       10.500000     0.151220          9.688618   \n",
       "std        85.020075        5.767454     0.358336          5.861194   \n",
       "min         1.000000        1.000000     0.000000          0.000000   \n",
       "25%         4.000000        5.750000     0.000000          5.000000   \n",
       "50%         9.000000       10.500000     0.000000         10.000000   \n",
       "75%       131.000000       15.250000     0.000000         15.000000   \n",
       "max       214.000000       20.000000     1.000000         20.000000   \n",
       "\n",
       "       Grid position  ...  Total gained/lost positions  Index DNF/Driver  \\\n",
       "count    2460.000000  ...                  2460.000000       2460.000000   \n",
       "mean       10.559756  ...                     0.619919          0.509302   \n",
       "std         5.830401  ...                    20.045086          0.526924   \n",
       "min         1.000000  ...                   -81.000000          0.000000   \n",
       "25%         6.000000  ...                    -9.000000          0.150000   \n",
       "50%        11.000000  ...                     0.000000          0.314145   \n",
       "75%        16.000000  ...                    12.000000          0.686364   \n",
       "max        21.000000  ...                    66.000000          5.000000   \n",
       "\n",
       "       Index DNF/Constructor  Average Lost laps  Circuit Speed  Result_Race-1  \\\n",
       "count            2460.000000        2460.000000    2440.000000    2460.000000   \n",
       "mean                0.508935           0.337179     205.557377      10.456098   \n",
       "std                 0.463256           0.376062      19.942126       5.721696   \n",
       "min                 0.000000           0.000000     153.000000       1.000000   \n",
       "25%                 0.181818           0.000000     193.000000       6.000000   \n",
       "50%                 0.363636           0.272727     206.000000      10.000000   \n",
       "75%                 0.714286           0.500000     224.000000      15.000000   \n",
       "max                 2.800000           3.000000     241.000000      20.000000   \n",
       "\n",
       "       Result_Race-2  Result_Race-3  Result_Race-4  Result_Race-5  \n",
       "count    2460.000000    2460.000000    2460.000000    2460.000000  \n",
       "mean       10.426423      10.408537      10.385772      10.364228  \n",
       "std         5.682664       5.650252       5.614674       5.577421  \n",
       "min         1.000000       1.000000       1.000000       1.000000  \n",
       "25%         6.000000       6.000000       6.000000       6.000000  \n",
       "50%        10.000000      10.000000      10.000000      10.000000  \n",
       "75%        15.000000      15.000000      15.000000      15.000000  \n",
       "max        20.000000      20.000000      20.000000      20.000000  \n",
       "\n",
       "[8 rows x 27 columns]"
      ]
     },
     "execution_count": 87,
     "metadata": {},
     "output_type": "execute_result"
    }
   ],
   "source": [
    "df.describe()"
   ]
  },
  {
   "cell_type": "code",
   "execution_count": 88,
   "metadata": {},
   "outputs": [],
   "source": [
    "import warnings\n",
    "warnings.filterwarnings(\"ignore\")"
   ]
  },
  {
   "attachments": {},
   "cell_type": "markdown",
   "metadata": {},
   "source": [
    "4.1 Establishing TARGET (Option 1)"
   ]
  },
  {
   "cell_type": "code",
   "execution_count": 89,
   "metadata": {},
   "outputs": [],
   "source": [
    "df['¿Points?'] = 0\n",
    "df['¿Points?'][df['Final position'] <=10] = 1\n",
    "df['¿Points?'][df['Final position'] > 10] = 0"
   ]
  },
  {
   "attachments": {},
   "cell_type": "markdown",
   "metadata": {},
   "source": [
    "4.2 Establishing TARGET (Option 2)"
   ]
  },
  {
   "cell_type": "code",
   "execution_count": 90,
   "metadata": {},
   "outputs": [],
   "source": [
    "df['Position 5'] = 0\n",
    "df['Position 5'][df['Final position'] <=5] = '1) 1-5'\n",
    "df['Position 5'][(df['Final position'] >= 6) & (df['Final position']<=10)] = '2) 6-10'\n",
    "df['Position 5'][(df['Final position'] >= 11) & (df['Final position']<=15)] = '3)11-15'\n",
    "df['Position 5'][df['Final position'] >= 16] = '4) 16-20'"
   ]
  },
  {
   "attachments": {},
   "cell_type": "markdown",
   "metadata": {},
   "source": [
    "* Not necessary to mention that target counts are balanced because in every race there are 10 drivers in the points and 10 that are not, same when dividing the results in groups of 5"
   ]
  },
  {
   "cell_type": "code",
   "execution_count": 91,
   "metadata": {},
   "outputs": [
    {
     "data": {
      "text/plain": [
       "<AxesSubplot:>"
      ]
     },
     "execution_count": 91,
     "metadata": {},
     "output_type": "execute_result"
    },
    {
     "data": {
      "image/png": "[encoded data removed]",
      "text/plain": [
       "<Figure size 1200x1200 with 2 Axes>"
      ]
     },
     "metadata": {},
     "output_type": "display_data"
    }
   ],
   "source": [
    "import seaborn as sns\n",
    "import matplotlib.pyplot as plt\n",
    "\n",
    "plt.figure(figsize=(12,12))\n",
    "sns.heatmap(df[['¿Points?', 'Position 5', 'Drivers points', 'Qualifying position', \n",
    "                'Total gained/lost positions', 'Start from Pitlane', 'Index DNF/Driver',\n",
    "                'Average Lost laps', 'Result_Race-1']].corr(), annot=True)"
   ]
  },
  {
   "attachments": {},
   "cell_type": "markdown",
   "metadata": {},
   "source": [
    "## MAIN MODEL"
   ]
  },
  {
   "cell_type": "code",
   "execution_count": 92,
   "metadata": {},
   "outputs": [],
   "source": [
    "X = df[['Drivers points','Qualifying position', 'Result_Race-1', \n",
    "        'Total gained/lost positions', 'Index DNF/Driver', 'Average Lost laps']][df['GP']>3]\n",
    "y = df['¿Points?'][df['GP']>3]"
   ]
  },
  {
   "attachments": {},
   "cell_type": "markdown",
   "metadata": {},
   "source": [
    "* Eliminate the first three races of each season because we consider they are not benefitial for our train"
   ]
  },
  {
   "cell_type": "code",
   "execution_count": 93,
   "metadata": {},
   "outputs": [],
   "source": [
    "from sklearn.model_selection import train_test_split\n",
    "\n",
    "X_train, X_test, y_train, y_test = train_test_split(X, y, test_size=200, shuffle=False)"
   ]
  },
  {
   "attachments": {},
   "cell_type": "markdown",
   "metadata": {},
   "source": [
    "* Choose the last ten races (200 results), because a random split would not make any sense, races are in a concrete order and with 20 drivers each"
   ]
  },
  {
   "cell_type": "code",
   "execution_count": 94,
   "metadata": {},
   "outputs": [
    {
     "data": {
      "text/plain": [
       "GridSearchCV(cv=10,\n",
       "             estimator=Pipeline(steps=[('imputer', SimpleImputer()),\n",
       "                                       ('classifier',\n",
       "                                        RandomForestClassifier())]),\n",
       "             param_grid=[{'classifier': [RandomForestClassifier(max_depth=3,\n",
       "                                                                max_features=4,\n",
       "                                                                random_state=19)],\n",
       "                          'classifier__max_depth': [3, 4, 5, 6],\n",
       "                          'classifier__max_features': [3, 4, 5, 6]},\n",
       "                         {'classifier': [SVC(random_state=19)],\n",
       "                          'classifier__C': [0.001, 0.1, 0.5,...\n",
       "                                                         missing=nan,\n",
       "                                                         monotone_constraints=None,\n",
       "                                                         n_estimators=100,\n",
       "                                                         n_jobs=None,\n",
       "                                                         num_parallel_tree=None,\n",
       "                                                         objective='binary:logistic',\n",
       "                                                         predictor=None,\n",
       "                                                         random_state=19,\n",
       "                                                         reg_alpha=None,\n",
       "                                                         sampling_method=None,\n",
       "                                                         scale_pos_weight=None, ...)],\n",
       "                          'classifier__booster': ['gbooster'],\n",
       "                          'classifier__learning_rate': [0.01, 0.1, 0.25, 0.5,\n",
       "                                                        1],\n",
       "                          'classifier__n_estimators': [200]}],\n",
       "             scoring='accuracy')"
      ]
     },
     "execution_count": 94,
     "metadata": {},
     "output_type": "execute_result"
    }
   ],
   "source": [
    "from sklearn.ensemble import RandomForestClassifier\n",
    "from sklearn.metrics import accuracy_score\n",
    "from sklearn.pipeline import Pipeline\n",
    "from sklearn import svm, datasets\n",
    "from sklearn.model_selection import GridSearchCV\n",
    "from sklearn.impute import SimpleImputer\n",
    "from sklearn.metrics import recall_score\n",
    "from sklearn.neighbors import KNeighborsClassifier\n",
    "import xgboost\n",
    "\n",
    "\n",
    "pipe = Pipeline(steps=[('imputer', SimpleImputer()),\n",
    "    ('classifier', RandomForestClassifier())\n",
    "])\n",
    "\n",
    "random_forest_params = {\n",
    "    'classifier': [RandomForestClassifier(random_state=19)],\n",
    "    'classifier__max_features': [3,4,5,6],\n",
    "    'classifier__max_depth': [3,4,5,6]\n",
    "}\n",
    "\n",
    "svm_param = {\n",
    "    'classifier': [svm.SVC(random_state=19)],\n",
    "    'classifier__C': [0.001, 0.1, 0.5, 1],\n",
    "}\n",
    "\n",
    "xgb_param = {\n",
    "    'classifier': [xgboost.XGBRFClassifier(random_state=19)],\n",
    "    'classifier__n_estimators': [200],\n",
    "    'classifier__booster': ['gbooster'],\n",
    "    'classifier__learning_rate': [0.01, 0.1, 0.25, 0.5, 1]\n",
    "}\n",
    "\n",
    "search_space = [\n",
    "    random_forest_params,\n",
    "    svm_param,\n",
    "    xgb_param\n",
    "]\n",
    "\n",
    "clf = GridSearchCV(estimator = pipe,\n",
    "                  param_grid = search_space,\n",
    "                  cv = 10,\n",
    "                  scoring= \"accuracy\")\n",
    "\n",
    "clf.fit(X_train, y_train)"
   ]
  },
  {
   "cell_type": "code",
   "execution_count": 95,
   "metadata": {},
   "outputs": [
    {
     "data": {
      "text/plain": [
       "{'classifier': RandomForestClassifier(max_depth=3, max_features=4, random_state=19),\n",
       " 'classifier__max_depth': 3,\n",
       " 'classifier__max_features': 4}"
      ]
     },
     "execution_count": 95,
     "metadata": {},
     "output_type": "execute_result"
    }
   ],
   "source": [
    "clf.best_params_"
   ]
  },
  {
   "cell_type": "code",
   "execution_count": 96,
   "metadata": {},
   "outputs": [
    {
     "data": {
      "text/plain": [
       "GridSearchCV(cv=5, estimator=RandomForestClassifier(), n_jobs=-1,\n",
       "             param_grid={'max_depth': [3, 4, 5, 6],\n",
       "                         'max_features': [3, 4, 5, 6],\n",
       "                         'max_leaf_nodes': [8, 16, 24], 'n_estimators': [200],\n",
       "                         'random_state': [42]},\n",
       "             scoring='accuracy')"
      ]
     },
     "execution_count": 96,
     "metadata": {},
     "output_type": "execute_result"
    }
   ],
   "source": [
    "parameters = {'n_estimators': [200],\n",
    "             'max_features' : [3,4,5,6],\n",
    "             \"max_depth\" : [3,4,5,6],\n",
    "             \"max_leaf_nodes\": [8, 16, 24],\n",
    "             \"random_state\" : [42]\n",
    "}\n",
    "\n",
    "rnd_clf = RandomForestClassifier()\n",
    "\n",
    "rnd_clfCV = GridSearchCV(estimator = rnd_clf,\n",
    "                  param_grid = parameters,\n",
    "                  n_jobs = -1,\n",
    "                  cv = 5,\n",
    "                  scoring=\"accuracy\")\n",
    "\n",
    "rnd_clfCV.fit(X_train, y_train)"
   ]
  },
  {
   "cell_type": "code",
   "execution_count": 97,
   "metadata": {},
   "outputs": [
    {
     "data": {
      "text/plain": [
       "{'max_depth': 4,\n",
       " 'max_features': 6,\n",
       " 'max_leaf_nodes': 8,\n",
       " 'n_estimators': 200,\n",
       " 'random_state': 42}"
      ]
     },
     "execution_count": 97,
     "metadata": {},
     "output_type": "execute_result"
    }
   ],
   "source": [
    "rnd_clfCV.best_params_"
   ]
  },
  {
   "cell_type": "code",
   "execution_count": 111,
   "metadata": {},
   "outputs": [
    {
     "data": {
      "text/plain": [
       "RandomForestClassifier(max_depth=5, max_features=5, max_leaf_nodes=8,\n",
       "                       n_estimators=200, random_state=42)"
      ]
     },
     "execution_count": 111,
     "metadata": {},
     "output_type": "execute_result"
    }
   ],
   "source": [
    "rnd_clf = RandomForestClassifier(n_estimators=200,\n",
    "                                 max_features = 5,\n",
    "                                 max_depth = 5,\n",
    "                                 max_leaf_nodes=8,\n",
    "                                 random_state=42)\n",
    "rnd_clf.fit(X_train, y_train)"
   ]
  },
  {
   "cell_type": "code",
   "execution_count": 112,
   "metadata": {},
   "outputs": [
    {
     "name": "stdout",
     "output_type": "stream",
     "text": [
      "[1 1 1 1 1 1 1 1 1 0 0 0 0 0 1 0 0 0 0 1 1 1 1 1 1 1 1 0 0 0 0 1 0 0 0 0 0\n",
      " 0 0 1 1 1 1 1 1 0 1 1 1 0 0 0 0 0 0 0 0 0 0 0 1 1 1 1 1 1 1 1 0 0 1 0 0 0\n",
      " 0 0 0 0 1 0 1 1 1 1 0 0 1 0 1 1 0 0 0 1 0 0 0 1 0 0 1 1 1 1 1 1 1 1 0 1 0\n",
      " 0 0 0 1 0 0 0 1 0 1 1 1 1 1 1 1 1 0 0 0 0 0 0 0 0 0 1 1 1 1 1 1 1 1 1 0 1\n",
      " 1 1 0 0 0 0 0 0 0 0 1 0 1 1 1 1 1 1 1 1 0 0 0 0 0 0 0 0 0 1 1 0 1 1 1 1 1\n",
      " 1 1 0 0 1 0 0 0 0 0 0 0 1 0 1]\n"
     ]
    }
   ],
   "source": [
    "predictions = rnd_clf.predict(X_test)\n",
    "print(predictions)"
   ]
  },
  {
   "cell_type": "code",
   "execution_count": 113,
   "metadata": {},
   "outputs": [
    {
     "data": {
      "text/html": [
       "<div>\n",
       "<style scoped>\n",
       "    .dataframe tbody tr th:only-of-type {\n",
       "        vertical-align: middle;\n",
       "    }\n",
       "\n",
       "    .dataframe tbody tr th {\n",
       "        vertical-align: top;\n",
       "    }\n",
       "\n",
       "    .dataframe thead th {\n",
       "        text-align: right;\n",
       "    }\n",
       "</style>\n",
       "<table border=\"1\" class=\"dataframe\">\n",
       "  <thead>\n",
       "    <tr style=\"text-align: right;\">\n",
       "      <th></th>\n",
       "      <th>reales</th>\n",
       "    </tr>\n",
       "    <tr>\n",
       "      <th>predicciones</th>\n",
       "      <th></th>\n",
       "    </tr>\n",
       "  </thead>\n",
       "  <tbody>\n",
       "    <tr>\n",
       "      <th>0</th>\n",
       "      <td>101</td>\n",
       "    </tr>\n",
       "    <tr>\n",
       "      <th>1</th>\n",
       "      <td>99</td>\n",
       "    </tr>\n",
       "  </tbody>\n",
       "</table>\n",
       "</div>"
      ],
      "text/plain": [
       "              reales\n",
       "predicciones        \n",
       "0                101\n",
       "1                 99"
      ]
     },
     "execution_count": 113,
     "metadata": {},
     "output_type": "execute_result"
    }
   ],
   "source": [
    "comprob = pd.DataFrame(data={'reales': y_test, 'predicciones': predictions})\n",
    "comprob.groupby(['predicciones']).count()"
   ]
  },
  {
   "cell_type": "code",
   "execution_count": 114,
   "metadata": {},
   "outputs": [
    {
     "data": {
      "image/png": "[encoded data removed]",
      "text/plain": [
       "<Figure size 640x480 with 2 Axes>"
      ]
     },
     "metadata": {},
     "output_type": "display_data"
    }
   ],
   "source": [
    "from sklearn.metrics import accuracy_score, confusion_matrix\n",
    "import numpy as np\n",
    "\n",
    "sns.heatmap(confusion_matrix(y_test, predictions), annot=True, \n",
    "             cmap='Blues', xticklabels=np.unique(predictions), yticklabels=np.unique(predictions));"
   ]
  },
  {
   "cell_type": "code",
   "execution_count": 115,
   "metadata": {},
   "outputs": [
    {
     "data": {
      "text/plain": [
       "<AxesSubplot:xlabel='feature'>"
      ]
     },
     "execution_count": 115,
     "metadata": {},
     "output_type": "execute_result"
    },
    {
     "data": {
      "image/png": "[encoded data removed]",
      "text/plain": [
       "<Figure size 640x480 with 1 Axes>"
      ]
     },
     "metadata": {},
     "output_type": "display_data"
    }
   ],
   "source": [
    "importances = pd.DataFrame({'feature':X_train.columns,'importance':np.round(rnd_clf.feature_importances_,3)})\n",
    "importances = importances.sort_values('importance',ascending=False).set_index('feature')\n",
    "\n",
    "importances.plot.bar()"
   ]
  },
  {
   "cell_type": "code",
   "execution_count": 116,
   "metadata": {},
   "outputs": [
    {
     "name": "stdout",
     "output_type": "stream",
     "text": [
      "Acierto: 81.5 %\n",
      "Error: 18.5 %\n"
     ]
    }
   ],
   "source": [
    "acierto = accuracy_score(y_test, predictions)\n",
    "\n",
    "error = 1 - acierto\n",
    "print(\"Acierto:\", round(acierto*100, 2), \"%\")\n",
    "print(\"Error:\", round(error*100, 2), \"%\")"
   ]
  },
  {
   "cell_type": "code",
   "execution_count": 117,
   "metadata": {},
   "outputs": [],
   "source": [
    "import pickle\n",
    "\n",
    "with open('modelo.model', \"wb\") as archivo_salida:\n",
    "    pickle.dump(rnd_clf, archivo_salida)"
   ]
  },
  {
   "attachments": {},
   "cell_type": "markdown",
   "metadata": {},
   "source": [
    "# MODEL 5-5-5-5"
   ]
  },
  {
   "cell_type": "code",
   "execution_count": 118,
   "metadata": {},
   "outputs": [],
   "source": [
    "X = df[['Drivers points', 'Qualifying position', 'Result_Race-1', \n",
    "        'Total gained/lost positions', 'Index DNF/Driver', 'Average Lost laps']][df['GP']>3]\n",
    "y = df['Position 5'][df['GP']>3]"
   ]
  },
  {
   "cell_type": "code",
   "execution_count": 129,
   "metadata": {},
   "outputs": [],
   "source": [
    "from sklearn.model_selection import train_test_split\n",
    "\n",
    "X_train, X_test, y_train, y_test = train_test_split(X, y, test_size=200, shuffle=False)"
   ]
  },
  {
   "cell_type": "code",
   "execution_count": 130,
   "metadata": {},
   "outputs": [],
   "source": [
    "from sklearn.preprocessing import StandardScaler\n",
    "scaler = StandardScaler()\n",
    "scaler.fit(X_train)\n",
    "X_train_scal = scaler.transform(X_train)\n",
    "X_test_scal = scaler.transform(X_test)"
   ]
  },
  {
   "cell_type": "code",
   "execution_count": 131,
   "metadata": {},
   "outputs": [
    {
     "data": {
      "text/plain": [
       "GridSearchCV(cv=10,\n",
       "             estimator=Pipeline(steps=[('imputer', SimpleImputer()),\n",
       "                                       ('classifier',\n",
       "                                        RandomForestClassifier())]),\n",
       "             param_grid=[{'classifier': [LogisticRegression(max_iter=1000,\n",
       "                                                            random_state=19,\n",
       "                                                            solver='liblinear')],\n",
       "                          'classifier__penalty': ['l1', 'l2']},\n",
       "                         {'classifier': [RandomForestClassifier(random_state=19)],\n",
       "                          'classifier__max_depth': [2, 3, 4],\n",
       "                          'classifier__max_features': [2, 3, 4]},\n",
       "                         {'classifier': [SVC(C=0.5, random_state=19)],\n",
       "                          'classifier__C': [0.001, 0.1, 0.5, 1, 5, 10, 100]},\n",
       "                         {'classifier': [KNeighborsClassifier()],\n",
       "                          'classifier__n_neighbors': [2, 3, 4]}],\n",
       "             scoring='accuracy')"
      ]
     },
     "execution_count": 131,
     "metadata": {},
     "output_type": "execute_result"
    }
   ],
   "source": [
    "from sklearn.linear_model import LogisticRegression\n",
    "pipe = Pipeline(steps=[('imputer', SimpleImputer()),\n",
    "    ('classifier', RandomForestClassifier())\n",
    "])\n",
    "\n",
    "logistic_params = {\n",
    "    'classifier': [LogisticRegression(max_iter=1000, solver='liblinear', random_state=19)],\n",
    "    'classifier__penalty': ['l1', 'l2']\n",
    "}\n",
    "\n",
    "random_forest_params = {\n",
    "    'classifier': [RandomForestClassifier(random_state=19)],\n",
    "    'classifier__max_features': [2,3,4],\n",
    "    'classifier__max_depth': [2,3,4]\n",
    "}\n",
    "\n",
    "svm_param = {\n",
    "    'classifier': [svm.SVC(random_state=19)],\n",
    "    'classifier__C': [0.001, 0.1, 0.5, 1, 5, 10, 100],\n",
    "}\n",
    "\n",
    "knn_param = {\n",
    "    'classifier': [KNeighborsClassifier()],\n",
    "    'classifier__n_neighbors': [2,3,4]\n",
    "}\n",
    "\n",
    "search_space = [\n",
    "    logistic_params,\n",
    "    random_forest_params,\n",
    "    svm_param,\n",
    "    knn_param\n",
    "]\n",
    "\n",
    "clf = GridSearchCV(estimator = pipe,\n",
    "                  param_grid = search_space,\n",
    "                  cv = 10,\n",
    "                  scoring= \"accuracy\")\n",
    "\n",
    "clf.fit(X_train_scal, y_train)"
   ]
  },
  {
   "cell_type": "code",
   "execution_count": 132,
   "metadata": {},
   "outputs": [
    {
     "data": {
      "text/plain": [
       "{'classifier': SVC(C=0.5, random_state=19), 'classifier__C': 0.5}"
      ]
     },
     "execution_count": 132,
     "metadata": {},
     "output_type": "execute_result"
    }
   ],
   "source": [
    "clf.best_params_"
   ]
  },
  {
   "cell_type": "code",
   "execution_count": 133,
   "metadata": {},
   "outputs": [
    {
     "data": {
      "text/plain": [
       "GridSearchCV(cv=5, estimator=RandomForestClassifier(), n_jobs=-1,\n",
       "             param_grid={'max_depth': [2, 3, 4, 5], 'max_features': [3, 4, 5],\n",
       "                         'max_leaf_nodes': [8, 16, 24],\n",
       "                         'n_estimators': [200, 300, 400],\n",
       "                         'random_state': [42]},\n",
       "             scoring='accuracy')"
      ]
     },
     "execution_count": 133,
     "metadata": {},
     "output_type": "execute_result"
    }
   ],
   "source": [
    "parameters = {'n_estimators': [200, 300, 400],\n",
    "             'max_features' : [3,4,5],\n",
    "             \"max_depth\" : [2,3,4,5],\n",
    "             \"max_leaf_nodes\": [8, 16, 24],\n",
    "             \"random_state\" : [42]\n",
    "}\n",
    "\n",
    "rnd_clf = RandomForestClassifier()\n",
    "\n",
    "rnd_clfCV = GridSearchCV(estimator = rnd_clf,\n",
    "                  param_grid = parameters,\n",
    "                  n_jobs = -1,\n",
    "                  cv = 5,\n",
    "                  scoring=\"accuracy\")\n",
    "\n",
    "rnd_clfCV.fit(X_train_scal, y_train)"
   ]
  },
  {
   "cell_type": "code",
   "execution_count": 134,
   "metadata": {},
   "outputs": [
    {
     "data": {
      "text/plain": [
       "{'max_depth': 3,\n",
       " 'max_features': 4,\n",
       " 'max_leaf_nodes': 8,\n",
       " 'n_estimators': 400,\n",
       " 'random_state': 42}"
      ]
     },
     "execution_count": 134,
     "metadata": {},
     "output_type": "execute_result"
    }
   ],
   "source": [
    "rnd_clfCV.best_params_"
   ]
  },
  {
   "cell_type": "code",
   "execution_count": 144,
   "metadata": {},
   "outputs": [
    {
     "data": {
      "text/plain": [
       "RandomForestClassifier(max_depth=3, max_features=4, max_leaf_nodes=8,\n",
       "                       n_estimators=400, random_state=42)"
      ]
     },
     "execution_count": 144,
     "metadata": {},
     "output_type": "execute_result"
    }
   ],
   "source": [
    "rnd_clf = RandomForestClassifier(n_estimators=400,\n",
    "                                 max_features = 4,\n",
    "                                 max_depth = 3,\n",
    "                                 max_leaf_nodes=8,\n",
    "                                 random_state=42)\n",
    "rnd_clf.fit(X_train_scal, y_train)"
   ]
  },
  {
   "cell_type": "code",
   "execution_count": 145,
   "metadata": {},
   "outputs": [
    {
     "name": "stdout",
     "output_type": "stream",
     "text": [
      "['1) 1-5' '1) 1-5' '1) 1-5' '1) 1-5' '1) 1-5' '1) 1-5' '1) 1-5' '2) 6-10'\n",
      " '2) 6-10' '3)11-15' '3)11-15' '3)11-15' '2) 6-10' '3)11-15' '2) 6-10'\n",
      " '3)11-15' '3)11-15' '3)11-15' '3)11-15' '2) 6-10' '1) 1-5' '1) 1-5'\n",
      " '1) 1-5' '1) 1-5' '2) 6-10' '1) 1-5' '2) 6-10' '3)11-15' '2) 6-10'\n",
      " '2) 6-10' '3)11-15' '2) 6-10' '3)11-15' '3)11-15' '2) 6-10' '3)11-15'\n",
      " '3)11-15' '3)11-15' '3)11-15' '1) 1-5' '1) 1-5' '1) 1-5' '1) 1-5'\n",
      " '1) 1-5' '1) 1-5' '3)11-15' '2) 6-10' '1) 1-5' '2) 6-10' '2) 6-10'\n",
      " '2) 6-10' '3)11-15' '2) 6-10' '3)11-15' '3)11-15' '3)11-15' '3)11-15'\n",
      " '3)11-15' '3)11-15' '2) 6-10' '1) 1-5' '1) 1-5' '1) 1-5' '1) 1-5'\n",
      " '1) 1-5' '1) 1-5' '2) 6-10' '2) 6-10' '3)11-15' '3)11-15' '2) 6-10'\n",
      " '3)11-15' '2) 6-10' '3)11-15' '3)11-15' '3)11-15' '2) 6-10' '3)11-15'\n",
      " '2) 6-10' '3)11-15' '1) 1-5' '1) 1-5' '1) 1-5' '2) 6-10' '3)11-15'\n",
      " '2) 6-10' '1) 1-5' '3)11-15' '1) 1-5' '2) 6-10' '3)11-15' '2) 6-10'\n",
      " '3)11-15' '1) 1-5' '2) 6-10' '3)11-15' '3)11-15' '2) 6-10' '3)11-15'\n",
      " '3)11-15' '1) 1-5' '1) 1-5' '1) 1-5' '2) 6-10' '1) 1-5' '2) 6-10'\n",
      " '2) 6-10' '1) 1-5' '3)11-15' '2) 6-10' '2) 6-10' '3)11-15' '3)11-15'\n",
      " '3)11-15' '2) 6-10' '3)11-15' '3)11-15' '3)11-15' '1) 1-5' '3)11-15'\n",
      " '1) 1-5' '1) 1-5' '1) 1-5' '1) 1-5' '1) 1-5' '2) 6-10' '2) 6-10'\n",
      " '2) 6-10' '3)11-15' '3)11-15' '3)11-15' '3)11-15' '2) 6-10' '3)11-15'\n",
      " '3)11-15' '3)11-15' '3)11-15' '2) 6-10' '2) 6-10' '1) 1-5' '1) 1-5'\n",
      " '1) 1-5' '1) 1-5' '1) 1-5' '1) 1-5' '1) 1-5' '2) 6-10' '2) 6-10'\n",
      " '2) 6-10' '2) 6-10' '3)11-15' '3)11-15' '2) 6-10' '3)11-15' '3)11-15'\n",
      " '3)11-15' '3)11-15' '3)11-15' '2) 6-10' '3)11-15' '1) 1-5' '1) 1-5'\n",
      " '1) 1-5' '1) 1-5' '2) 6-10' '1) 1-5' '1) 1-5' '2) 6-10' '3)11-15'\n",
      " '3)11-15' '3)11-15' '3)11-15' '3)11-15' '2) 6-10' '2) 6-10' '3)11-15'\n",
      " '3)11-15' '1) 1-5' '2) 6-10' '3)11-15' '1) 1-5' '1) 1-5' '1) 1-5'\n",
      " '1) 1-5' '1) 1-5' '2) 6-10' '2) 6-10' '3)11-15' '2) 6-10' '2) 6-10'\n",
      " '2) 6-10' '3)11-15' '3)11-15' '3)11-15' '3)11-15' '3)11-15' '3)11-15'\n",
      " '1) 1-5' '3)11-15' '2) 6-10']\n"
     ]
    }
   ],
   "source": [
    "predictions = rnd_clf.predict(X_test_scal)\n",
    "print(predictions)"
   ]
  },
  {
   "cell_type": "code",
   "execution_count": 146,
   "metadata": {},
   "outputs": [
    {
     "data": {
      "text/html": [
       "<div>\n",
       "<style scoped>\n",
       "    .dataframe tbody tr th:only-of-type {\n",
       "        vertical-align: middle;\n",
       "    }\n",
       "\n",
       "    .dataframe tbody tr th {\n",
       "        vertical-align: top;\n",
       "    }\n",
       "\n",
       "    .dataframe thead th {\n",
       "        text-align: right;\n",
       "    }\n",
       "</style>\n",
       "<table border=\"1\" class=\"dataframe\">\n",
       "  <thead>\n",
       "    <tr style=\"text-align: right;\">\n",
       "      <th></th>\n",
       "      <th>reales</th>\n",
       "    </tr>\n",
       "    <tr>\n",
       "      <th>predicciones</th>\n",
       "      <th></th>\n",
       "    </tr>\n",
       "  </thead>\n",
       "  <tbody>\n",
       "    <tr>\n",
       "      <th>1) 1-5</th>\n",
       "      <td>62</td>\n",
       "    </tr>\n",
       "    <tr>\n",
       "      <th>2) 6-10</th>\n",
       "      <td>58</td>\n",
       "    </tr>\n",
       "    <tr>\n",
       "      <th>3)11-15</th>\n",
       "      <td>80</td>\n",
       "    </tr>\n",
       "  </tbody>\n",
       "</table>\n",
       "</div>"
      ],
      "text/plain": [
       "              reales\n",
       "predicciones        \n",
       "1) 1-5            62\n",
       "2) 6-10           58\n",
       "3)11-15           80"
      ]
     },
     "execution_count": 146,
     "metadata": {},
     "output_type": "execute_result"
    }
   ],
   "source": [
    "comprob = pd.DataFrame(data={'reales': y_test, 'predicciones': predictions})\n",
    "comprob.groupby(['predicciones']).count()"
   ]
  },
  {
   "cell_type": "code",
   "execution_count": 147,
   "metadata": {},
   "outputs": [
    {
     "data": {
      "image/png": "[encoded data removed]",
      "text/plain": [
       "<Figure size 640x480 with 2 Axes>"
      ]
     },
     "metadata": {},
     "output_type": "display_data"
    }
   ],
   "source": [
    "sns.heatmap(confusion_matrix(y_test, predictions), annot=True, \n",
    "             cmap='Blues', xticklabels=np.unique(predictions), yticklabels=np.unique(predictions));"
   ]
  },
  {
   "cell_type": "code",
   "execution_count": 148,
   "metadata": {},
   "outputs": [
    {
     "data": {
      "text/plain": [
       "<AxesSubplot:xlabel='feature'>"
      ]
     },
     "execution_count": 148,
     "metadata": {},
     "output_type": "execute_result"
    },
    {
     "data": {
      "image/png": "[encoded data removed]",
      "text/plain": [
       "<Figure size 640x480 with 1 Axes>"
      ]
     },
     "metadata": {},
     "output_type": "display_data"
    }
   ],
   "source": [
    "importances = pd.DataFrame({'feature':X_train.columns,'importance':np.round(rnd_clf.feature_importances_,3)})\n",
    "importances = importances.sort_values('importance',ascending=False).set_index('feature')\n",
    "\n",
    "importances.plot.bar()"
   ]
  },
  {
   "cell_type": "code",
   "execution_count": 149,
   "metadata": {},
   "outputs": [
    {
     "name": "stdout",
     "output_type": "stream",
     "text": [
      "Acierto: 52.0 %\n",
      "Error: 48.0 %\n"
     ]
    }
   ],
   "source": [
    "acierto = accuracy_score(y_test, predictions)\n",
    "\n",
    "error = 1 - acierto\n",
    "print(\"Acierto:\", round(acierto*100, 2), \"%\")\n",
    "print(\"Error:\", round(error*100, 2), \"%\")"
   ]
  },
  {
   "cell_type": "code",
   "execution_count": 150,
   "metadata": {},
   "outputs": [],
   "source": [
    "import pickle\n",
    "\n",
    "with open('modelo5-5.model', \"wb\") as archivo_salida:\n",
    "    pickle.dump(rnd_clfCV.best_estimator_, archivo_salida)"
   ]
  },
  {
   "attachments": {},
   "cell_type": "markdown",
   "metadata": {},
   "source": [
    "MODELOS EXTRA (ANALIZANDO ERROR DNF)"
   ]
  },
  {
   "cell_type": "code",
   "execution_count": 159,
   "metadata": {},
   "outputs": [],
   "source": [
    "X = df[['Drivers points', 'Qualifying position', 'Result_Race-1', \n",
    "        'Total gained/lost positions', 'Index DNF/Driver', 'Average Lost laps', 'DNF']][df['GP']>3]\n",
    "\n",
    "y = df['¿Points?'][df['GP']>3]"
   ]
  },
  {
   "cell_type": "code",
   "execution_count": 160,
   "metadata": {},
   "outputs": [],
   "source": [
    "from sklearn.model_selection import train_test_split\n",
    "\n",
    "X_train, X_test, y_train, y_test = train_test_split(X, y, test_size=200, shuffle=False)"
   ]
  },
  {
   "cell_type": "code",
   "execution_count": 161,
   "metadata": {},
   "outputs": [],
   "source": [
    "from sklearn.preprocessing import StandardScaler\n",
    "scaler = StandardScaler()\n",
    "scaler.fit(X_train)\n",
    "X_train_scal = scaler.transform(X_train)\n",
    "X_test_scal = scaler.transform(X_test)"
   ]
  },
  {
   "cell_type": "code",
   "execution_count": 162,
   "metadata": {},
   "outputs": [
    {
     "data": {
      "text/plain": [
       "RandomForestClassifier(max_depth=5, max_features=3, max_leaf_nodes=16,\n",
       "                       n_estimators=200, random_state=42)"
      ]
     },
     "execution_count": 162,
     "metadata": {},
     "output_type": "execute_result"
    }
   ],
   "source": [
    "rnd_clf = RandomForestClassifier(n_estimators=200,\n",
    "                                 max_features = 3,\n",
    "                                 max_depth = 5,\n",
    "                                 max_leaf_nodes=16,\n",
    "                                 random_state=42)\n",
    "rnd_clf.fit(X_train_scal, y_train)"
   ]
  },
  {
   "cell_type": "code",
   "execution_count": 163,
   "metadata": {},
   "outputs": [
    {
     "name": "stdout",
     "output_type": "stream",
     "text": [
      "[1 1 1 1 1 1 1 1 1 0 0 0 0 0 1 0 0 0 0 1 1 1 1 1 1 1 1 0 1 0 0 1 0 0 1 0 0\n",
      " 0 0 0 1 1 1 1 1 1 1 1 1 1 1 0 1 0 0 0 0 0 0 0 1 1 1 1 1 1 1 1 0 0 1 0 1 0\n",
      " 0 0 0 0 0 0 1 1 1 1 0 0 1 0 1 1 0 1 0 1 0 0 0 0 0 0 1 1 1 1 1 1 1 1 0 1 1\n",
      " 0 0 0 1 0 0 0 0 0 1 1 1 1 1 1 1 1 0 0 0 0 0 0 0 0 0 0 0 0 1 1 1 1 1 1 1 1\n",
      " 1 1 0 0 0 0 0 0 0 0 1 0 1 1 1 1 1 1 1 1 0 0 0 0 0 1 0 0 0 0 0 0 1 1 1 1 1\n",
      " 1 1 0 1 1 0 0 0 0 0 0 0 1 0 0]\n"
     ]
    }
   ],
   "source": [
    "predictions = rnd_clf.predict(X_test_scal)\n",
    "print(predictions)"
   ]
  },
  {
   "cell_type": "code",
   "execution_count": 164,
   "metadata": {},
   "outputs": [
    {
     "data": {
      "text/html": [
       "<div>\n",
       "<style scoped>\n",
       "    .dataframe tbody tr th:only-of-type {\n",
       "        vertical-align: middle;\n",
       "    }\n",
       "\n",
       "    .dataframe tbody tr th {\n",
       "        vertical-align: top;\n",
       "    }\n",
       "\n",
       "    .dataframe thead th {\n",
       "        text-align: right;\n",
       "    }\n",
       "</style>\n",
       "<table border=\"1\" class=\"dataframe\">\n",
       "  <thead>\n",
       "    <tr style=\"text-align: right;\">\n",
       "      <th></th>\n",
       "      <th>reales</th>\n",
       "    </tr>\n",
       "    <tr>\n",
       "      <th>predicciones</th>\n",
       "      <th></th>\n",
       "    </tr>\n",
       "  </thead>\n",
       "  <tbody>\n",
       "    <tr>\n",
       "      <th>0</th>\n",
       "      <td>99</td>\n",
       "    </tr>\n",
       "    <tr>\n",
       "      <th>1</th>\n",
       "      <td>101</td>\n",
       "    </tr>\n",
       "  </tbody>\n",
       "</table>\n",
       "</div>"
      ],
      "text/plain": [
       "              reales\n",
       "predicciones        \n",
       "0                 99\n",
       "1                101"
      ]
     },
     "execution_count": 164,
     "metadata": {},
     "output_type": "execute_result"
    }
   ],
   "source": [
    "comprob = pd.DataFrame(data={'reales': y_test, 'predicciones': predictions})\n",
    "comprob.groupby(['predicciones']).count()"
   ]
  },
  {
   "cell_type": "code",
   "execution_count": 165,
   "metadata": {},
   "outputs": [
    {
     "data": {
      "image/png": "[encoded data removed]",
      "text/plain": [
       "<Figure size 640x480 with 2 Axes>"
      ]
     },
     "metadata": {},
     "output_type": "display_data"
    }
   ],
   "source": [
    "sns.heatmap(confusion_matrix(y_test, predictions), annot=True, \n",
    "             cmap='Blues', xticklabels=np.unique(predictions), yticklabels=np.unique(predictions));"
   ]
  },
  {
   "cell_type": "code",
   "execution_count": 166,
   "metadata": {},
   "outputs": [
    {
     "data": {
      "text/plain": [
       "<AxesSubplot:xlabel='feature'>"
      ]
     },
     "execution_count": 166,
     "metadata": {},
     "output_type": "execute_result"
    },
    {
     "data": {
      "image/png": "[encoded data removed]",
      "text/plain": [
       "<Figure size 640x480 with 1 Axes>"
      ]
     },
     "metadata": {},
     "output_type": "display_data"
    }
   ],
   "source": [
    "importances = pd.DataFrame({'feature':X_train.columns,'importance':np.round(rnd_clf.feature_importances_,3)})\n",
    "importances = importances.sort_values('importance',ascending=False).set_index('feature')\n",
    "\n",
    "importances.plot.bar()"
   ]
  },
  {
   "cell_type": "code",
   "execution_count": 167,
   "metadata": {},
   "outputs": [
    {
     "name": "stdout",
     "output_type": "stream",
     "text": [
      "Acierto: 85.5 %\n",
      "Error: 14.5 %\n"
     ]
    }
   ],
   "source": [
    "acierto = accuracy_score(y_test, predictions)\n",
    "\n",
    "error = 1 - acierto\n",
    "print(\"Acierto:\", round(acierto*100, 2), \"%\")\n",
    "print(\"Error:\", round(error*100, 2), \"%\")"
   ]
  },
  {
   "cell_type": "code",
   "execution_count": 168,
   "metadata": {},
   "outputs": [],
   "source": [
    "import pickle\n",
    "\n",
    "with open('modelo-DNF1.model', \"wb\") as archivo_salida:\n",
    "    pickle.dump(rnd_clfCV.best_estimator_, archivo_salida)"
   ]
  },
  {
   "attachments": {},
   "cell_type": "markdown",
   "metadata": {},
   "source": [
    "### OTHER EXAMPLE OF HOW ERROR WORKS"
   ]
  },
  {
   "cell_type": "code",
   "execution_count": 169,
   "metadata": {},
   "outputs": [],
   "source": [
    "X = df[['Drivers points', 'Qualifying position', 'Result_Race-1', \n",
    "        'Total gained/lost positions', 'Index DNF/Driver', 'Average Lost laps', 'DNF']][df['GP']>3]\n",
    "y = df['Position 5'][df['GP']>3]"
   ]
  },
  {
   "cell_type": "code",
   "execution_count": 170,
   "metadata": {},
   "outputs": [],
   "source": [
    "from sklearn.model_selection import train_test_split\n",
    "\n",
    "X_train, X_test, y_train, y_test = train_test_split(X, y, test_size=200, shuffle=False)"
   ]
  },
  {
   "cell_type": "code",
   "execution_count": 171,
   "metadata": {},
   "outputs": [],
   "source": [
    "from sklearn.preprocessing import StandardScaler\n",
    "scaler = StandardScaler()\n",
    "scaler.fit(X_train)\n",
    "X_train_scal = scaler.transform(X_train)\n",
    "X_test_scal = scaler.transform(X_test)"
   ]
  },
  {
   "cell_type": "code",
   "execution_count": 172,
   "metadata": {},
   "outputs": [
    {
     "data": {
      "text/plain": [
       "RandomForestClassifier(max_depth=3, max_features=4, max_leaf_nodes=16,\n",
       "                       n_estimators=400, random_state=42)"
      ]
     },
     "execution_count": 172,
     "metadata": {},
     "output_type": "execute_result"
    }
   ],
   "source": [
    "rnd_clf = RandomForestClassifier(n_estimators=400,\n",
    "                                 max_features = 4,\n",
    "                                 max_depth = 3,\n",
    "                                 max_leaf_nodes=16,\n",
    "                                 random_state=42)\n",
    "rnd_clf.fit(X_train_scal, y_train)"
   ]
  },
  {
   "cell_type": "code",
   "execution_count": 173,
   "metadata": {},
   "outputs": [
    {
     "name": "stdout",
     "output_type": "stream",
     "text": [
      "['1) 1-5' '1) 1-5' '1) 1-5' '1) 1-5' '1) 1-5' '1) 1-5' '2) 6-10' '2) 6-10'\n",
      " '2) 6-10' '3)11-15' '3)11-15' '3)11-15' '2) 6-10' '3)11-15' '2) 6-10'\n",
      " '2) 6-10' '3)11-15' '3)11-15' '3)11-15' '2) 6-10' '1) 1-5' '1) 1-5'\n",
      " '1) 1-5' '1) 1-5' '2) 6-10' '1) 1-5' '2) 6-10' '3)11-15' '2) 6-10'\n",
      " '2) 6-10' '3)11-15' '2) 6-10' '3)11-15' '3)11-15' '2) 6-10' '3)11-15'\n",
      " '3)11-15' '3)11-15' '4) 16-20' '4) 16-20' '1) 1-5' '1) 1-5' '1) 1-5'\n",
      " '1) 1-5' '1) 1-5' '2) 6-10' '2) 6-10' '1) 1-5' '2) 6-10' '2) 6-10'\n",
      " '2) 6-10' '3)11-15' '2) 6-10' '3)11-15' '3)11-15' '3)11-15' '3)11-15'\n",
      " '3)11-15' '4) 16-20' '4) 16-20' '1) 1-5' '1) 1-5' '1) 1-5' '1) 1-5'\n",
      " '1) 1-5' '1) 1-5' '2) 6-10' '2) 6-10' '3)11-15' '3)11-15' '2) 6-10'\n",
      " '3)11-15' '2) 6-10' '3)11-15' '3)11-15' '3)11-15' '4) 16-20' '4) 16-20'\n",
      " '4) 16-20' '4) 16-20' '1) 1-5' '1) 1-5' '1) 1-5' '2) 6-10' '3)11-15'\n",
      " '2) 6-10' '1) 1-5' '3)11-15' '1) 1-5' '2) 6-10' '3)11-15' '2) 6-10'\n",
      " '3)11-15' '1) 1-5' '4) 16-20' '4) 16-20' '4) 16-20' '4) 16-20' '4) 16-20'\n",
      " '4) 16-20' '1) 1-5' '1) 1-5' '1) 1-5' '2) 6-10' '1) 1-5' '2) 6-10'\n",
      " '2) 6-10' '1) 1-5' '3)11-15' '2) 6-10' '2) 6-10' '3)11-15' '3)11-15'\n",
      " '3)11-15' '2) 6-10' '3)11-15' '3)11-15' '3)11-15' '4) 16-20' '4) 16-20'\n",
      " '1) 1-5' '1) 1-5' '1) 1-5' '1) 1-5' '1) 1-5' '2) 6-10' '2) 6-10'\n",
      " '2) 6-10' '3)11-15' '3)11-15' '3)11-15' '3)11-15' '2) 6-10' '3)11-15'\n",
      " '3)11-15' '3)11-15' '3)11-15' '4) 16-20' '4) 16-20' '4) 16-20' '1) 1-5'\n",
      " '1) 1-5' '1) 1-5' '1) 1-5' '1) 1-5' '1) 1-5' '2) 6-10' '2) 6-10'\n",
      " '2) 6-10' '2) 6-10' '3)11-15' '3)11-15' '2) 6-10' '3)11-15' '3)11-15'\n",
      " '3)11-15' '3)11-15' '3)11-15' '2) 6-10' '4) 16-20' '1) 1-5' '1) 1-5'\n",
      " '1) 1-5' '1) 1-5' '2) 6-10' '1) 1-5' '1) 1-5' '2) 6-10' '3)11-15'\n",
      " '3)11-15' '2) 6-10' '3)11-15' '3)11-15' '2) 6-10' '2) 6-10' '3)11-15'\n",
      " '3)11-15' '4) 16-20' '4) 16-20' '4) 16-20' '1) 1-5' '1) 1-5' '1) 1-5'\n",
      " '1) 1-5' '1) 1-5' '2) 6-10' '2) 6-10' '3)11-15' '2) 6-10' '2) 6-10'\n",
      " '2) 6-10' '3)11-15' '3)11-15' '3)11-15' '3)11-15' '3)11-15' '3)11-15'\n",
      " '1) 1-5' '3)11-15' '4) 16-20']\n"
     ]
    }
   ],
   "source": [
    "predictions = rnd_clf.predict(X_test_scal)\n",
    "print(predictions)"
   ]
  },
  {
   "cell_type": "code",
   "execution_count": 174,
   "metadata": {},
   "outputs": [
    {
     "data": {
      "text/html": [
       "<div>\n",
       "<style scoped>\n",
       "    .dataframe tbody tr th:only-of-type {\n",
       "        vertical-align: middle;\n",
       "    }\n",
       "\n",
       "    .dataframe tbody tr th {\n",
       "        vertical-align: top;\n",
       "    }\n",
       "\n",
       "    .dataframe thead th {\n",
       "        text-align: right;\n",
       "    }\n",
       "</style>\n",
       "<table border=\"1\" class=\"dataframe\">\n",
       "  <thead>\n",
       "    <tr style=\"text-align: right;\">\n",
       "      <th></th>\n",
       "      <th>reales</th>\n",
       "    </tr>\n",
       "    <tr>\n",
       "      <th>predicciones</th>\n",
       "      <th></th>\n",
       "    </tr>\n",
       "  </thead>\n",
       "  <tbody>\n",
       "    <tr>\n",
       "      <th>1) 1-5</th>\n",
       "      <td>57</td>\n",
       "    </tr>\n",
       "    <tr>\n",
       "      <th>2) 6-10</th>\n",
       "      <td>53</td>\n",
       "    </tr>\n",
       "    <tr>\n",
       "      <th>3)11-15</th>\n",
       "      <td>66</td>\n",
       "    </tr>\n",
       "    <tr>\n",
       "      <th>4) 16-20</th>\n",
       "      <td>24</td>\n",
       "    </tr>\n",
       "  </tbody>\n",
       "</table>\n",
       "</div>"
      ],
      "text/plain": [
       "              reales\n",
       "predicciones        \n",
       "1) 1-5            57\n",
       "2) 6-10           53\n",
       "3)11-15           66\n",
       "4) 16-20          24"
      ]
     },
     "execution_count": 174,
     "metadata": {},
     "output_type": "execute_result"
    }
   ],
   "source": [
    "comprob = pd.DataFrame(data={'reales': y_test, 'predicciones': predictions})\n",
    "comprob.groupby(['predicciones']).count()"
   ]
  },
  {
   "cell_type": "code",
   "execution_count": 175,
   "metadata": {},
   "outputs": [
    {
     "data": {
      "image/png": "[encoded data removed]",
      "text/plain": [
       "<Figure size 640x480 with 2 Axes>"
      ]
     },
     "metadata": {},
     "output_type": "display_data"
    }
   ],
   "source": [
    "sns.heatmap(confusion_matrix(y_test, predictions), annot=True, \n",
    "             cmap='Blues', xticklabels=np.unique(predictions), yticklabels=np.unique(predictions));"
   ]
  },
  {
   "cell_type": "code",
   "execution_count": 176,
   "metadata": {},
   "outputs": [
    {
     "data": {
      "text/plain": [
       "<AxesSubplot:xlabel='feature'>"
      ]
     },
     "execution_count": 176,
     "metadata": {},
     "output_type": "execute_result"
    },
    {
     "data": {
      "image/png": "[encoded data removed]",
      "text/plain": [
       "<Figure size 640x480 with 1 Axes>"
      ]
     },
     "metadata": {},
     "output_type": "display_data"
    }
   ],
   "source": [
    "importances = pd.DataFrame({'feature':X_train.columns,'importance':np.round(rnd_clf.feature_importances_,3)})\n",
    "importances = importances.sort_values('importance',ascending=False).set_index('feature')\n",
    "\n",
    "importances.plot.bar()"
   ]
  },
  {
   "cell_type": "code",
   "execution_count": 177,
   "metadata": {},
   "outputs": [
    {
     "name": "stdout",
     "output_type": "stream",
     "text": [
      "Acierto: 64.0 %\n",
      "Error: 36.0 %\n"
     ]
    }
   ],
   "source": [
    "acierto = accuracy_score(y_test, predictions)\n",
    "\n",
    "error = 1 - acierto\n",
    "print(\"Acierto:\", round(acierto*100, 2), \"%\")\n",
    "print(\"Error:\", round(error*100, 2), \"%\")"
   ]
  },
  {
   "cell_type": "code",
   "execution_count": 178,
   "metadata": {},
   "outputs": [],
   "source": [
    "import pickle\n",
    "\n",
    "with open('modeloDNF5-5.model', \"wb\") as archivo_salida:\n",
    "    pickle.dump(rnd_clfCV.best_estimator_, archivo_salida)"
   ]
  },
  {
   "attachments": {},
   "cell_type": "markdown",
   "metadata": {},
   "source": [
    "### CONCLUSSIONS\n",
    "- Our results are promising but there are still options to improve them. Of course getting more than a 50% in a 1/4 classifier and an 81.5% in a binary classifier are good numbers, but as we know our dataset, we can appreciate some of the biggest mistakes of our model:\n",
    "  - For example, it cannot read and interpret DNF's, which mean most of our error.\n",
    "  - It cannot understand properly the last 5 positions.\n",
    "  - Usually tries an unbalanced number of 1's and 0's, which make it sure that there will be mistakes in every race.\n",
    "\n",
    "- It is quite good predicting the first positions.\n",
    "- Qualifying is very important to determine final position, mainly in the front rows.\n",
    "- Random Forest Classifier is almost always the best option, although SVM sometimes does a good job in terms of accuracy of train, not as well when it comes to the test results, that are always overtaken by Random Forest Classifier"
   ]
  },
  {
   "attachments": {},
   "cell_type": "markdown",
   "metadata": {},
   "source": [
    "## SOLUTIONS\n",
    "\n",
    "- Create an accurate DNF index that could predict this feature would be an interesting solution to imitate the good results that the real DNF column shows. It would be necessary, for example, check how dangerous is the first lap in each circuit, how many races have the different parts of the car taken in (to check how far are they to break), which drivers are more likely to an accident, etc.\n",
    "\n",
    "- Find a way so it chooses the 10 drivers with more options to be 1, and the 10 drivers with more options to be 0, not just when a driver is above 0.5 in the predict proba.\n",
    "\n",
    "- More data: weather as a randomizer, but also to check the laptimes with and without weather, different strategies, pit-stops, Safety-cars deployed, success in the first lap, etc.\n",
    "\n",
    "- Find a way that allows our model to choose the last positions."
   ]
  }
 ],
 "metadata": {
  "kernelspec": {
   "display_name": "Python 3",
   "language": "python",
   "name": "python3"
  },
  "language_info": {
   "codemirror_mode": {
    "name": "ipython",
    "version": 3
   },
   "file_extension": ".py",
   "mimetype": "text/x-python",
   "name": "python",
   "nbconvert_exporter": "python",
   "pygments_lexer": "ipython3",
   "version": "3.7.4"
  },
  "orig_nbformat": 4,
  "vscode": {
   "interpreter": {
    "hash": "a6bc3b96fe2a5faf034119f77c25779006d8f31484ccb855ea416176cb208743"
   }
  }
 },
 "nbformat": 4,
 "nbformat_minor": 2
}
