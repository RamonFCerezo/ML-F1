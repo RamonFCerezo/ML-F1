{
 "cells": [
  {
   "cell_type": "code",
   "execution_count": 1,
   "metadata": {},
   "outputs": [],
   "source": [
    "import pandas as pd\n",
    "import numpy as np\n",
    "import seaborn as sns\n",
    "import matplotlib.pyplot as plt"
   ]
  },
  {
   "cell_type": "code",
   "execution_count": 43,
   "metadata": {},
   "outputs": [
    {
     "data": {
      "text/html": [
       "<div>\n",
       "<style scoped>\n",
       "    .dataframe tbody tr th:only-of-type {\n",
       "        vertical-align: middle;\n",
       "    }\n",
       "\n",
       "    .dataframe tbody tr th {\n",
       "        vertical-align: top;\n",
       "    }\n",
       "\n",
       "    .dataframe thead th {\n",
       "        text-align: right;\n",
       "    }\n",
       "</style>\n",
       "<table border=\"1\" class=\"dataframe\">\n",
       "  <thead>\n",
       "    <tr style=\"text-align: right;\">\n",
       "      <th></th>\n",
       "      <th>RaceId</th>\n",
       "      <th>Year</th>\n",
       "      <th>GP</th>\n",
       "      <th>CircuitId</th>\n",
       "      <th>DriverId</th>\n",
       "      <th>ConstructorId</th>\n",
       "      <th>Constructor Name</th>\n",
       "      <th>Driver Name</th>\n",
       "      <th>Circuit</th>\n",
       "      <th>Final position</th>\n",
       "      <th>...</th>\n",
       "      <th>Total gained/lost positions</th>\n",
       "      <th>Index DNF/Driver</th>\n",
       "      <th>Index DNF/Constructor</th>\n",
       "      <th>Average Lost laps</th>\n",
       "      <th>Circuit Speed</th>\n",
       "      <th>Result_Race-1</th>\n",
       "      <th>Result_Race-2</th>\n",
       "      <th>Result_Race-3</th>\n",
       "      <th>Result_Race-4</th>\n",
       "      <th>Result_Race-5</th>\n",
       "    </tr>\n",
       "    <tr>\n",
       "      <th>ResultId</th>\n",
       "      <th></th>\n",
       "      <th></th>\n",
       "      <th></th>\n",
       "      <th></th>\n",
       "      <th></th>\n",
       "      <th></th>\n",
       "      <th></th>\n",
       "      <th></th>\n",
       "      <th></th>\n",
       "      <th></th>\n",
       "      <th></th>\n",
       "      <th></th>\n",
       "      <th></th>\n",
       "      <th></th>\n",
       "      <th></th>\n",
       "      <th></th>\n",
       "      <th></th>\n",
       "      <th></th>\n",
       "      <th></th>\n",
       "      <th></th>\n",
       "      <th></th>\n",
       "    </tr>\n",
       "  </thead>\n",
       "  <tbody>\n",
       "    <tr>\n",
       "      <th>25841.0</th>\n",
       "      <td>1096</td>\n",
       "      <td>2022</td>\n",
       "      <td>22</td>\n",
       "      <td>24</td>\n",
       "      <td>854</td>\n",
       "      <td>210</td>\n",
       "      <td>Haas F1 Team</td>\n",
       "      <td>Schumacher</td>\n",
       "      <td>yas_marina</td>\n",
       "      <td>16.0</td>\n",
       "      <td>...</td>\n",
       "      <td>-3.0</td>\n",
       "      <td>0.090909</td>\n",
       "      <td>0.136364</td>\n",
       "      <td>0.428571</td>\n",
       "      <td>192.0</td>\n",
       "      <td>13.0</td>\n",
       "      <td>16.0</td>\n",
       "      <td>15.0</td>\n",
       "      <td>17.0</td>\n",
       "      <td>13.0</td>\n",
       "    </tr>\n",
       "    <tr>\n",
       "      <th>25842.0</th>\n",
       "      <td>1096</td>\n",
       "      <td>2022</td>\n",
       "      <td>22</td>\n",
       "      <td>24</td>\n",
       "      <td>825</td>\n",
       "      <td>210</td>\n",
       "      <td>Haas F1 Team</td>\n",
       "      <td>Magnussen</td>\n",
       "      <td>yas_marina</td>\n",
       "      <td>17.0</td>\n",
       "      <td>...</td>\n",
       "      <td>-25.0</td>\n",
       "      <td>0.181818</td>\n",
       "      <td>0.136364</td>\n",
       "      <td>0.380952</td>\n",
       "      <td>192.0</td>\n",
       "      <td>19.0</td>\n",
       "      <td>17.0</td>\n",
       "      <td>9.0</td>\n",
       "      <td>14.0</td>\n",
       "      <td>12.0</td>\n",
       "    </tr>\n",
       "    <tr>\n",
       "      <th>25843.0</th>\n",
       "      <td>1096</td>\n",
       "      <td>2022</td>\n",
       "      <td>22</td>\n",
       "      <td>24</td>\n",
       "      <td>1</td>\n",
       "      <td>131</td>\n",
       "      <td>Mercedes</td>\n",
       "      <td>Hamilton</td>\n",
       "      <td>yas_marina</td>\n",
       "      <td>18.0</td>\n",
       "      <td>...</td>\n",
       "      <td>23.0</td>\n",
       "      <td>0.045455</td>\n",
       "      <td>0.045455</td>\n",
       "      <td>0.047619</td>\n",
       "      <td>192.0</td>\n",
       "      <td>2.0</td>\n",
       "      <td>2.0</td>\n",
       "      <td>2.0</td>\n",
       "      <td>5.0</td>\n",
       "      <td>9.0</td>\n",
       "    </tr>\n",
       "    <tr>\n",
       "      <th>25844.0</th>\n",
       "      <td>1096</td>\n",
       "      <td>2022</td>\n",
       "      <td>22</td>\n",
       "      <td>24</td>\n",
       "      <td>849</td>\n",
       "      <td>3</td>\n",
       "      <td>Williams</td>\n",
       "      <td>Latifi</td>\n",
       "      <td>yas_marina</td>\n",
       "      <td>19.0</td>\n",
       "      <td>...</td>\n",
       "      <td>27.0</td>\n",
       "      <td>0.181818</td>\n",
       "      <td>0.181818</td>\n",
       "      <td>0.571429</td>\n",
       "      <td>192.0</td>\n",
       "      <td>16.0</td>\n",
       "      <td>18.0</td>\n",
       "      <td>17.0</td>\n",
       "      <td>9.0</td>\n",
       "      <td>19.0</td>\n",
       "    </tr>\n",
       "    <tr>\n",
       "      <th>25845.0</th>\n",
       "      <td>1096</td>\n",
       "      <td>2022</td>\n",
       "      <td>22</td>\n",
       "      <td>24</td>\n",
       "      <td>4</td>\n",
       "      <td>214</td>\n",
       "      <td>Alpine F1 Team</td>\n",
       "      <td>Alonso</td>\n",
       "      <td>yas_marina</td>\n",
       "      <td>20.0</td>\n",
       "      <td>...</td>\n",
       "      <td>-22.0</td>\n",
       "      <td>0.227273</td>\n",
       "      <td>0.159091</td>\n",
       "      <td>0.190476</td>\n",
       "      <td>192.0</td>\n",
       "      <td>5.0</td>\n",
       "      <td>19.0</td>\n",
       "      <td>7.0</td>\n",
       "      <td>7.0</td>\n",
       "      <td>18.0</td>\n",
       "    </tr>\n",
       "  </tbody>\n",
       "</table>\n",
       "<p>5 rows × 33 columns</p>\n",
       "</div>"
      ],
      "text/plain": [
       "          RaceId  Year  GP  CircuitId  DriverId  ConstructorId  \\\n",
       "ResultId                                                         \n",
       "25841.0     1096  2022  22         24       854            210   \n",
       "25842.0     1096  2022  22         24       825            210   \n",
       "25843.0     1096  2022  22         24         1            131   \n",
       "25844.0     1096  2022  22         24       849              3   \n",
       "25845.0     1096  2022  22         24         4            214   \n",
       "\n",
       "         Constructor Name Driver Name     Circuit  Final position  ...  \\\n",
       "ResultId                                                           ...   \n",
       "25841.0      Haas F1 Team  Schumacher  yas_marina            16.0  ...   \n",
       "25842.0      Haas F1 Team   Magnussen  yas_marina            17.0  ...   \n",
       "25843.0          Mercedes    Hamilton  yas_marina            18.0  ...   \n",
       "25844.0          Williams      Latifi  yas_marina            19.0  ...   \n",
       "25845.0    Alpine F1 Team      Alonso  yas_marina            20.0  ...   \n",
       "\n",
       "          Total gained/lost positions  Index DNF/Driver  \\\n",
       "ResultId                                                  \n",
       "25841.0                          -3.0          0.090909   \n",
       "25842.0                         -25.0          0.181818   \n",
       "25843.0                          23.0          0.045455   \n",
       "25844.0                          27.0          0.181818   \n",
       "25845.0                         -22.0          0.227273   \n",
       "\n",
       "          Index DNF/Constructor  Average Lost laps Circuit Speed  \\\n",
       "ResultId                                                           \n",
       "25841.0                0.136364           0.428571         192.0   \n",
       "25842.0                0.136364           0.380952         192.0   \n",
       "25843.0                0.045455           0.047619         192.0   \n",
       "25844.0                0.181818           0.571429         192.0   \n",
       "25845.0                0.159091           0.190476         192.0   \n",
       "\n",
       "         Result_Race-1 Result_Race-2  Result_Race-3  Result_Race-4  \\\n",
       "ResultId                                                             \n",
       "25841.0           13.0          16.0           15.0           17.0   \n",
       "25842.0           19.0          17.0            9.0           14.0   \n",
       "25843.0            2.0           2.0            2.0            5.0   \n",
       "25844.0           16.0          18.0           17.0            9.0   \n",
       "25845.0            5.0          19.0            7.0            7.0   \n",
       "\n",
       "          Result_Race-5  \n",
       "ResultId                 \n",
       "25841.0            13.0  \n",
       "25842.0            12.0  \n",
       "25843.0             9.0  \n",
       "25844.0            19.0  \n",
       "25845.0            18.0  \n",
       "\n",
       "[5 rows x 33 columns]"
      ]
     },
     "execution_count": 43,
     "metadata": {},
     "output_type": "execute_result"
    }
   ],
   "source": [
    "df = pd.read_csv('F1.csv', index_col='ResultId')\n",
    "df.drop(\"Unnamed: 0\", axis= 1, inplace=True)\n",
    "df.tail()"
   ]
  },
  {
   "cell_type": "code",
   "execution_count": 3,
   "metadata": {},
   "outputs": [
    {
     "name": "stdout",
     "output_type": "stream",
     "text": [
      "<class 'pandas.core.frame.DataFrame'>\n",
      "Float64Index: 2460 entries, 23379.0 to 25845.0\n",
      "Data columns (total 33 columns):\n",
      " #   Column                       Non-Null Count  Dtype  \n",
      "---  ------                       --------------  -----  \n",
      " 0   RaceId                       2460 non-null   int64  \n",
      " 1   Year                         2460 non-null   int64  \n",
      " 2   GP                           2460 non-null   int64  \n",
      " 3   CircuitId                    2460 non-null   int64  \n",
      " 4   DriverId                     2460 non-null   int64  \n",
      " 5   ConstructorId                2460 non-null   int64  \n",
      " 6   Constructor Name             2460 non-null   object \n",
      " 7   Driver Name                  2460 non-null   object \n",
      " 8   Circuit                      2460 non-null   object \n",
      " 9   Final position               2460 non-null   float64\n",
      " 10  DNF                          2460 non-null   float64\n",
      " 11  Fastest Lap Rank             2460 non-null   int64  \n",
      " 12  Grid position                2460 non-null   float64\n",
      " 13  Average pace                 2389 non-null   float64\n",
      " 14  Q1                           2447 non-null   object \n",
      " 15  Q2                           2323 non-null   object \n",
      " 16  Q3                           2175 non-null   object \n",
      " 17  Qualifying position          2460 non-null   float64\n",
      " 18  Victories                    2460 non-null   int64  \n",
      " 19  Drivers points               2460 non-null   float64\n",
      " 20  Constructors points          2460 non-null   float64\n",
      " 21  Constructors victories       2460 non-null   int64  \n",
      " 22  Start from Pitlane           2460 non-null   int64  \n",
      " 23  Total gained/lost positions  2460 non-null   float64\n",
      " 24  Index DNF/Driver             2460 non-null   float64\n",
      " 25  Index DNF/Constructor        2460 non-null   float64\n",
      " 26  Average Lost laps            2460 non-null   float64\n",
      " 27  Circuit Speed                2440 non-null   float64\n",
      " 28  Result_Race-1                2421 non-null   float64\n",
      " 29  Result_Race-2                2386 non-null   float64\n",
      " 30  Result_Race-3                2352 non-null   float64\n",
      " 31  Result_Race-4                2318 non-null   float64\n",
      " 32  Result_Race-5                2284 non-null   float64\n",
      "dtypes: float64(17), int64(10), object(6)\n",
      "memory usage: 653.4+ KB\n"
     ]
    }
   ],
   "source": [
    "df.info()"
   ]
  },
  {
   "cell_type": "code",
   "execution_count": 4,
   "metadata": {},
   "outputs": [],
   "source": [
    "df['Drivers points'].fillna(0, inplace=True)"
   ]
  },
  {
   "cell_type": "code",
   "execution_count": 5,
   "metadata": {},
   "outputs": [
    {
     "name": "stderr",
     "output_type": "stream",
     "text": [
      "C:\\Users\\ramon\\AppData\\Roaming\\Python\\Python37\\site-packages\\ipykernel_launcher.py:2: SettingWithCopyWarning: \n",
      "A value is trying to be set on a copy of a slice from a DataFrame\n",
      "\n",
      "See the caveats in the documentation: https://pandas.pydata.org/pandas-docs/stable/user_guide/indexing.html#returning-a-view-versus-a-copy\n",
      "  \n",
      "C:\\Users\\ramon\\AppData\\Roaming\\Python\\Python37\\site-packages\\ipykernel_launcher.py:3: SettingWithCopyWarning: \n",
      "A value is trying to be set on a copy of a slice from a DataFrame\n",
      "\n",
      "See the caveats in the documentation: https://pandas.pydata.org/pandas-docs/stable/user_guide/indexing.html#returning-a-view-versus-a-copy\n",
      "  This is separate from the ipykernel package so we can avoid doing imports until\n"
     ]
    }
   ],
   "source": [
    "df['¿Points?'] = 0\n",
    "df['¿Points?'][df['Final position'] <=10] = 1\n",
    "df['¿Points?'][df['Final position'] > 10] = 0"
   ]
  },
  {
   "cell_type": "code",
   "execution_count": 6,
   "metadata": {},
   "outputs": [
    {
     "data": {
      "text/plain": [
       "Index(['RaceId', 'Year', 'GP', 'CircuitId', 'DriverId', 'ConstructorId',\n",
       "       'Constructor Name', 'Driver Name', 'Circuit', 'Final position', 'DNF',\n",
       "       'Fastest Lap Rank', 'Grid position', 'Average pace', 'Q1', 'Q2', 'Q3',\n",
       "       'Qualifying position', 'Victories', 'Drivers points',\n",
       "       'Constructors points', 'Constructors victories', 'Start from Pitlane',\n",
       "       'Total gained/lost positions', 'Index DNF/Driver',\n",
       "       'Index DNF/Constructor', 'Average Lost laps', 'Circuit Speed',\n",
       "       'Result_Race-1', 'Result_Race-2', 'Result_Race-3', 'Result_Race-4',\n",
       "       'Result_Race-5', '¿Points?'],\n",
       "      dtype='object')"
      ]
     },
     "execution_count": 6,
     "metadata": {},
     "output_type": "execute_result"
    }
   ],
   "source": [
    "df.columns"
   ]
  },
  {
   "cell_type": "code",
   "execution_count": 7,
   "metadata": {},
   "outputs": [],
   "source": [
    "df['Result_Race-1'].fillna(10, inplace=True)\n",
    "df['Result_Race-2'].fillna(10, inplace=True)\n",
    "df['Result_Race-3'].fillna(10, inplace=True)\n",
    "df['Result_Race-4'].fillna(10, inplace=True)\n",
    "df['Result_Race-5'].fillna(10, inplace=True)"
   ]
  },
  {
   "cell_type": "code",
   "execution_count": 8,
   "metadata": {},
   "outputs": [
    {
     "data": {
      "text/plain": [
       "<AxesSubplot:>"
      ]
     },
     "execution_count": 8,
     "metadata": {},
     "output_type": "execute_result"
    },
    {
     "data": {
      "image/png": "[encoded data removed]",
      "text/plain": [
       "<Figure size 1200x1200 with 2 Axes>"
      ]
     },
     "metadata": {},
     "output_type": "display_data"
    }
   ],
   "source": [
    "plt.figure(figsize=(12,12))\n",
    "sns.heatmap(df[['¿Points?','Drivers points', 'Qualifying position', \n",
    "                'Total gained/lost positions', 'Start from Pitlane', 'Index DNF/Driver',\n",
    "                'Average Lost laps', 'Result_Race-1', 'DNF']].corr(), annot=True)"
   ]
  },
  {
   "cell_type": "code",
   "execution_count": 9,
   "metadata": {},
   "outputs": [
    {
     "data": {
      "text/html": [
       "<div>\n",
       "<style scoped>\n",
       "    .dataframe tbody tr th:only-of-type {\n",
       "        vertical-align: middle;\n",
       "    }\n",
       "\n",
       "    .dataframe tbody tr th {\n",
       "        vertical-align: top;\n",
       "    }\n",
       "\n",
       "    .dataframe thead th {\n",
       "        text-align: right;\n",
       "    }\n",
       "</style>\n",
       "<table border=\"1\" class=\"dataframe\">\n",
       "  <thead>\n",
       "    <tr style=\"text-align: right;\">\n",
       "      <th></th>\n",
       "      <th>RaceId</th>\n",
       "      <th>Year</th>\n",
       "      <th>GP</th>\n",
       "      <th>CircuitId</th>\n",
       "      <th>DriverId</th>\n",
       "      <th>ConstructorId</th>\n",
       "      <th>Final position</th>\n",
       "      <th>DNF</th>\n",
       "      <th>Fastest Lap Rank</th>\n",
       "      <th>Grid position</th>\n",
       "      <th>...</th>\n",
       "      <th>Index DNF/Driver</th>\n",
       "      <th>Index DNF/Constructor</th>\n",
       "      <th>Average Lost laps</th>\n",
       "      <th>Circuit Speed</th>\n",
       "      <th>Result_Race-1</th>\n",
       "      <th>Result_Race-2</th>\n",
       "      <th>Result_Race-3</th>\n",
       "      <th>Result_Race-4</th>\n",
       "      <th>Result_Race-5</th>\n",
       "      <th>¿Points?</th>\n",
       "    </tr>\n",
       "  </thead>\n",
       "  <tbody>\n",
       "    <tr>\n",
       "      <th>count</th>\n",
       "      <td>2460.000000</td>\n",
       "      <td>2460.000000</td>\n",
       "      <td>2460.000000</td>\n",
       "      <td>2460.000000</td>\n",
       "      <td>2460.000000</td>\n",
       "      <td>2460.000000</td>\n",
       "      <td>2460.000000</td>\n",
       "      <td>2460.000000</td>\n",
       "      <td>2460.000000</td>\n",
       "      <td>2460.000000</td>\n",
       "      <td>...</td>\n",
       "      <td>2460.000000</td>\n",
       "      <td>2460.000000</td>\n",
       "      <td>2460.000000</td>\n",
       "      <td>2440.000000</td>\n",
       "      <td>2460.000000</td>\n",
       "      <td>2460.000000</td>\n",
       "      <td>2460.000000</td>\n",
       "      <td>2460.000000</td>\n",
       "      <td>2460.000000</td>\n",
       "      <td>2460.000000</td>\n",
       "    </tr>\n",
       "    <tr>\n",
       "      <th>mean</th>\n",
       "      <td>1031.341463</td>\n",
       "      <td>2019.536585</td>\n",
       "      <td>10.821138</td>\n",
       "      <td>28.308943</td>\n",
       "      <td>655.658537</td>\n",
       "      <td>69.665041</td>\n",
       "      <td>10.500000</td>\n",
       "      <td>0.151220</td>\n",
       "      <td>9.688618</td>\n",
       "      <td>10.559756</td>\n",
       "      <td>...</td>\n",
       "      <td>0.509302</td>\n",
       "      <td>0.508935</td>\n",
       "      <td>0.337179</td>\n",
       "      <td>205.557377</td>\n",
       "      <td>10.456098</td>\n",
       "      <td>10.426423</td>\n",
       "      <td>10.408537</td>\n",
       "      <td>10.385772</td>\n",
       "      <td>10.364228</td>\n",
       "      <td>0.500000</td>\n",
       "    </tr>\n",
       "    <tr>\n",
       "      <th>std</th>\n",
       "      <td>37.096936</td>\n",
       "      <td>1.731429</td>\n",
       "      <td>6.025610</td>\n",
       "      <td>26.302006</td>\n",
       "      <td>335.646406</td>\n",
       "      <td>85.020075</td>\n",
       "      <td>5.767454</td>\n",
       "      <td>0.358336</td>\n",
       "      <td>5.861194</td>\n",
       "      <td>5.830401</td>\n",
       "      <td>...</td>\n",
       "      <td>0.526924</td>\n",
       "      <td>0.463256</td>\n",
       "      <td>0.376062</td>\n",
       "      <td>19.942126</td>\n",
       "      <td>5.721696</td>\n",
       "      <td>5.682664</td>\n",
       "      <td>5.650252</td>\n",
       "      <td>5.614674</td>\n",
       "      <td>5.577421</td>\n",
       "      <td>0.500102</td>\n",
       "    </tr>\n",
       "    <tr>\n",
       "      <th>min</th>\n",
       "      <td>969.000000</td>\n",
       "      <td>2017.000000</td>\n",
       "      <td>1.000000</td>\n",
       "      <td>1.000000</td>\n",
       "      <td>1.000000</td>\n",
       "      <td>1.000000</td>\n",
       "      <td>1.000000</td>\n",
       "      <td>0.000000</td>\n",
       "      <td>0.000000</td>\n",
       "      <td>1.000000</td>\n",
       "      <td>...</td>\n",
       "      <td>0.000000</td>\n",
       "      <td>0.000000</td>\n",
       "      <td>0.000000</td>\n",
       "      <td>153.000000</td>\n",
       "      <td>1.000000</td>\n",
       "      <td>1.000000</td>\n",
       "      <td>1.000000</td>\n",
       "      <td>1.000000</td>\n",
       "      <td>1.000000</td>\n",
       "      <td>0.000000</td>\n",
       "    </tr>\n",
       "    <tr>\n",
       "      <th>25%</th>\n",
       "      <td>999.000000</td>\n",
       "      <td>2018.000000</td>\n",
       "      <td>6.000000</td>\n",
       "      <td>9.000000</td>\n",
       "      <td>815.000000</td>\n",
       "      <td>4.000000</td>\n",
       "      <td>5.750000</td>\n",
       "      <td>0.000000</td>\n",
       "      <td>5.000000</td>\n",
       "      <td>6.000000</td>\n",
       "      <td>...</td>\n",
       "      <td>0.150000</td>\n",
       "      <td>0.181818</td>\n",
       "      <td>0.000000</td>\n",
       "      <td>193.000000</td>\n",
       "      <td>6.000000</td>\n",
       "      <td>6.000000</td>\n",
       "      <td>6.000000</td>\n",
       "      <td>6.000000</td>\n",
       "      <td>6.000000</td>\n",
       "      <td>0.000000</td>\n",
       "    </tr>\n",
       "    <tr>\n",
       "      <th>50%</th>\n",
       "      <td>1030.000000</td>\n",
       "      <td>2019.000000</td>\n",
       "      <td>11.000000</td>\n",
       "      <td>17.000000</td>\n",
       "      <td>830.000000</td>\n",
       "      <td>9.000000</td>\n",
       "      <td>10.500000</td>\n",
       "      <td>0.000000</td>\n",
       "      <td>10.000000</td>\n",
       "      <td>11.000000</td>\n",
       "      <td>...</td>\n",
       "      <td>0.314145</td>\n",
       "      <td>0.363636</td>\n",
       "      <td>0.272727</td>\n",
       "      <td>206.000000</td>\n",
       "      <td>10.000000</td>\n",
       "      <td>10.000000</td>\n",
       "      <td>10.000000</td>\n",
       "      <td>10.000000</td>\n",
       "      <td>10.000000</td>\n",
       "      <td>0.500000</td>\n",
       "    </tr>\n",
       "    <tr>\n",
       "      <th>75%</th>\n",
       "      <td>1064.000000</td>\n",
       "      <td>2021.000000</td>\n",
       "      <td>16.000000</td>\n",
       "      <td>39.000000</td>\n",
       "      <td>842.000000</td>\n",
       "      <td>131.000000</td>\n",
       "      <td>15.250000</td>\n",
       "      <td>0.000000</td>\n",
       "      <td>15.000000</td>\n",
       "      <td>16.000000</td>\n",
       "      <td>...</td>\n",
       "      <td>0.686364</td>\n",
       "      <td>0.714286</td>\n",
       "      <td>0.500000</td>\n",
       "      <td>224.000000</td>\n",
       "      <td>15.000000</td>\n",
       "      <td>15.000000</td>\n",
       "      <td>15.000000</td>\n",
       "      <td>15.000000</td>\n",
       "      <td>15.000000</td>\n",
       "      <td>1.000000</td>\n",
       "    </tr>\n",
       "    <tr>\n",
       "      <th>max</th>\n",
       "      <td>1096.000000</td>\n",
       "      <td>2022.000000</td>\n",
       "      <td>22.000000</td>\n",
       "      <td>79.000000</td>\n",
       "      <td>856.000000</td>\n",
       "      <td>214.000000</td>\n",
       "      <td>20.000000</td>\n",
       "      <td>1.000000</td>\n",
       "      <td>20.000000</td>\n",
       "      <td>21.000000</td>\n",
       "      <td>...</td>\n",
       "      <td>5.000000</td>\n",
       "      <td>2.800000</td>\n",
       "      <td>3.000000</td>\n",
       "      <td>241.000000</td>\n",
       "      <td>20.000000</td>\n",
       "      <td>20.000000</td>\n",
       "      <td>20.000000</td>\n",
       "      <td>20.000000</td>\n",
       "      <td>20.000000</td>\n",
       "      <td>1.000000</td>\n",
       "    </tr>\n",
       "  </tbody>\n",
       "</table>\n",
       "<p>8 rows × 28 columns</p>\n",
       "</div>"
      ],
      "text/plain": [
       "            RaceId         Year           GP    CircuitId     DriverId  \\\n",
       "count  2460.000000  2460.000000  2460.000000  2460.000000  2460.000000   \n",
       "mean   1031.341463  2019.536585    10.821138    28.308943   655.658537   \n",
       "std      37.096936     1.731429     6.025610    26.302006   335.646406   \n",
       "min     969.000000  2017.000000     1.000000     1.000000     1.000000   \n",
       "25%     999.000000  2018.000000     6.000000     9.000000   815.000000   \n",
       "50%    1030.000000  2019.000000    11.000000    17.000000   830.000000   \n",
       "75%    1064.000000  2021.000000    16.000000    39.000000   842.000000   \n",
       "max    1096.000000  2022.000000    22.000000    79.000000   856.000000   \n",
       "\n",
       "       ConstructorId  Final position          DNF  Fastest Lap Rank  \\\n",
       "count    2460.000000     2460.000000  2460.000000       2460.000000   \n",
       "mean       69.665041       10.500000     0.151220          9.688618   \n",
       "std        85.020075        5.767454     0.358336          5.861194   \n",
       "min         1.000000        1.000000     0.000000          0.000000   \n",
       "25%         4.000000        5.750000     0.000000          5.000000   \n",
       "50%         9.000000       10.500000     0.000000         10.000000   \n",
       "75%       131.000000       15.250000     0.000000         15.000000   \n",
       "max       214.000000       20.000000     1.000000         20.000000   \n",
       "\n",
       "       Grid position  ...  Index DNF/Driver  Index DNF/Constructor  \\\n",
       "count    2460.000000  ...       2460.000000            2460.000000   \n",
       "mean       10.559756  ...          0.509302               0.508935   \n",
       "std         5.830401  ...          0.526924               0.463256   \n",
       "min         1.000000  ...          0.000000               0.000000   \n",
       "25%         6.000000  ...          0.150000               0.181818   \n",
       "50%        11.000000  ...          0.314145               0.363636   \n",
       "75%        16.000000  ...          0.686364               0.714286   \n",
       "max        21.000000  ...          5.000000               2.800000   \n",
       "\n",
       "       Average Lost laps  Circuit Speed  Result_Race-1  Result_Race-2  \\\n",
       "count        2460.000000    2440.000000    2460.000000    2460.000000   \n",
       "mean            0.337179     205.557377      10.456098      10.426423   \n",
       "std             0.376062      19.942126       5.721696       5.682664   \n",
       "min             0.000000     153.000000       1.000000       1.000000   \n",
       "25%             0.000000     193.000000       6.000000       6.000000   \n",
       "50%             0.272727     206.000000      10.000000      10.000000   \n",
       "75%             0.500000     224.000000      15.000000      15.000000   \n",
       "max             3.000000     241.000000      20.000000      20.000000   \n",
       "\n",
       "       Result_Race-3  Result_Race-4  Result_Race-5     ¿Points?  \n",
       "count    2460.000000    2460.000000    2460.000000  2460.000000  \n",
       "mean       10.408537      10.385772      10.364228     0.500000  \n",
       "std         5.650252       5.614674       5.577421     0.500102  \n",
       "min         1.000000       1.000000       1.000000     0.000000  \n",
       "25%         6.000000       6.000000       6.000000     0.000000  \n",
       "50%        10.000000      10.000000      10.000000     0.500000  \n",
       "75%        15.000000      15.000000      15.000000     1.000000  \n",
       "max        20.000000      20.000000      20.000000     1.000000  \n",
       "\n",
       "[8 rows x 28 columns]"
      ]
     },
     "execution_count": 9,
     "metadata": {},
     "output_type": "execute_result"
    }
   ],
   "source": [
    "df.describe()"
   ]
  },
  {
   "cell_type": "code",
   "execution_count": 10,
   "metadata": {},
   "outputs": [],
   "source": [
    "X = df[['Drivers points', 'Qualifying position', 'Result_Race-1', \n",
    "        'Total gained/lost positions', 'Index DNF/Driver', 'Average Lost laps', 'DNF']][df['GP']>3]\n",
    "\n",
    "y = df['¿Points?'][df['GP']>3]"
   ]
  },
  {
   "cell_type": "code",
   "execution_count": 11,
   "metadata": {},
   "outputs": [
    {
     "name": "stdout",
     "output_type": "stream",
     "text": [
      "<class 'pandas.core.frame.DataFrame'>\n",
      "Float64Index: 2100 entries, 23439.0 to 25845.0\n",
      "Data columns (total 7 columns):\n",
      " #   Column                       Non-Null Count  Dtype  \n",
      "---  ------                       --------------  -----  \n",
      " 0   Drivers points               2100 non-null   float64\n",
      " 1   Qualifying position          2100 non-null   float64\n",
      " 2   Result_Race-1                2100 non-null   float64\n",
      " 3   Total gained/lost positions  2100 non-null   float64\n",
      " 4   Index DNF/Driver             2100 non-null   float64\n",
      " 5   Average Lost laps            2100 non-null   float64\n",
      " 6   DNF                          2100 non-null   float64\n",
      "dtypes: float64(7)\n",
      "memory usage: 131.2 KB\n"
     ]
    }
   ],
   "source": [
    "X.info()"
   ]
  },
  {
   "cell_type": "code",
   "execution_count": 12,
   "metadata": {},
   "outputs": [],
   "source": [
    "from sklearn.model_selection import train_test_split\n",
    "\n",
    "X_train, X_test, y_train, y_test = train_test_split(X, y, test_size=200, shuffle=False)"
   ]
  },
  {
   "cell_type": "code",
   "execution_count": 13,
   "metadata": {},
   "outputs": [],
   "source": [
    "from sklearn.preprocessing import StandardScaler\n",
    "scaler = StandardScaler()\n",
    "scaler.fit(X_train)\n",
    "X_train_scal = scaler.transform(X_train)\n",
    "X_test_scal = scaler.transform(X_test)"
   ]
  },
  {
   "cell_type": "code",
   "execution_count": 14,
   "metadata": {},
   "outputs": [
    {
     "name": "stdout",
     "output_type": "stream",
     "text": [
      "[1 1 1 1 1 1 1 1 1 0 0 0 0 0 1 0 0 0 0 1 1 1 1 1 1 1 1 0 0 0 0 1 0 0 0 0 0\n",
      " 0 0 0 1 1 1 1 1 1 1 1 1 0 1 0 1 0 0 0 0 0 0 0 1 1 1 1 1 1 1 1 0 0 1 0 1 0\n",
      " 0 0 0 0 0 0 1 1 1 1 0 0 1 0 1 1 0 1 0 1 0 0 0 0 0 0 1 1 1 1 1 1 1 1 0 1 1\n",
      " 0 0 0 1 0 0 0 0 0 1 1 1 1 1 1 1 1 0 0 0 0 0 0 0 0 0 0 0 0 1 1 1 1 1 1 0 1\n",
      " 1 1 0 0 0 0 0 0 0 0 1 0 1 1 1 1 1 1 1 1 0 0 0 0 0 0 0 0 0 0 0 0 1 1 1 1 1\n",
      " 1 1 0 0 1 0 0 0 0 0 0 0 1 0 0]\n"
     ]
    }
   ],
   "source": [
    "from sklearn.linear_model import LogisticRegression\n",
    "model = LogisticRegression(max_iter=1000)\n",
    "model.fit(X_train, y_train)\n",
    "predictions = model.predict(X_test)\n",
    "print(predictions)"
   ]
  },
  {
   "cell_type": "code",
   "execution_count": 15,
   "metadata": {},
   "outputs": [],
   "source": [
    "from sklearn.ensemble import RandomForestClassifier\n",
    "from sklearn.metrics import accuracy_score"
   ]
  },
  {
   "cell_type": "code",
   "execution_count": 16,
   "metadata": {},
   "outputs": [],
   "source": [
    "# model = RandomForestClassifier(n_estimators=200,\n",
    "#                                  max_leaf_nodes=32,\n",
    "#                                  max_depth= 10,\n",
    "#                                  random_state=42)\n",
    "# model.fit(X_train, y_train)\n",
    "\n",
    "# y_pred_rf = model.predict(X_test)\n",
    "# # np.sum(y_test == y_pred_rf) / len(y_test) \n",
    "# accuracy_score(y_test, y_pred_rf)"
   ]
  },
  {
   "cell_type": "code",
   "execution_count": 17,
   "metadata": {},
   "outputs": [
    {
     "data": {
      "text/plain": [
       "GridSearchCV(cv=10,\n",
       "             estimator=Pipeline(steps=[('imputer', SimpleImputer()),\n",
       "                                       ('classifier',\n",
       "                                        RandomForestClassifier())]),\n",
       "             param_grid=[{'classifier': [LogisticRegression(max_iter=1000,\n",
       "                                                            random_state=19,\n",
       "                                                            solver='liblinear')],\n",
       "                          'classifier__penalty': ['l1', 'l2']},\n",
       "                         {'classifier': [RandomForestClassifier(random_state=19)],\n",
       "                          'classifier__max_depth': [2, 3, 4],\n",
       "                          'classifier__max_features': [1, 2, 3, 4]},\n",
       "                         {'classifier': [SVC(C=1, random_state=19)],\n",
       "                          'classifier__C': [0.001, 0.1, 0.5, 1, 5, 10, 100]},\n",
       "                         {'classifier': [KNeighborsClassifier()],\n",
       "                          'classifier__n_neighbors': [2, 3, 4, 5, 10]}],\n",
       "             scoring='accuracy')"
      ]
     },
     "execution_count": 17,
     "metadata": {},
     "output_type": "execute_result"
    }
   ],
   "source": [
    "from sklearn.pipeline import Pipeline\n",
    "from sklearn import svm, datasets\n",
    "from sklearn.model_selection import GridSearchCV\n",
    "from sklearn.impute import SimpleImputer\n",
    "from sklearn.metrics import recall_score\n",
    "from sklearn.neighbors import KNeighborsClassifier\n",
    "\n",
    "pipe = Pipeline(steps=[('imputer', SimpleImputer()),\n",
    "    ('classifier', RandomForestClassifier())\n",
    "])\n",
    "\n",
    "logistic_params = {\n",
    "    'classifier': [LogisticRegression(max_iter=1000, solver='liblinear', random_state=19)],\n",
    "    'classifier__penalty': ['l1', 'l2']\n",
    "}\n",
    "\n",
    "random_forest_params = {\n",
    "    'classifier': [RandomForestClassifier(random_state=19)],\n",
    "    'classifier__max_features': [1,2,3,4],\n",
    "    'classifier__max_depth': [2,3,4]\n",
    "}\n",
    "\n",
    "svm_param = {\n",
    "    'classifier': [svm.SVC(random_state=19)],\n",
    "    'classifier__C': [0.001, 0.1, 0.5, 1, 5, 10, 100],\n",
    "}\n",
    "\n",
    "knn_param = {\n",
    "    'classifier': [KNeighborsClassifier()],\n",
    "    'classifier__n_neighbors': [2,3,4,5,10]\n",
    "}\n",
    "\n",
    "search_space = [\n",
    "    logistic_params,\n",
    "    random_forest_params,\n",
    "    svm_param,\n",
    "    knn_param\n",
    "]\n",
    "\n",
    "clf = GridSearchCV(estimator = pipe,\n",
    "                  param_grid = search_space,\n",
    "                  cv = 10,\n",
    "                  scoring= \"accuracy\")\n",
    "\n",
    "clf.fit(X_train_scal, y_train)"
   ]
  },
  {
   "cell_type": "code",
   "execution_count": 18,
   "metadata": {},
   "outputs": [
    {
     "data": {
      "text/plain": [
       "{'classifier': SVC(C=1, random_state=19), 'classifier__C': 1}"
      ]
     },
     "execution_count": 18,
     "metadata": {},
     "output_type": "execute_result"
    }
   ],
   "source": [
    "clf.best_params_"
   ]
  },
  {
   "cell_type": "code",
   "execution_count": 28,
   "metadata": {},
   "outputs": [
    {
     "data": {
      "text/plain": [
       "RandomForestClassifier(max_depth=5, max_features=3, max_leaf_nodes=16,\n",
       "                       n_estimators=200, random_state=42)"
      ]
     },
     "execution_count": 28,
     "metadata": {},
     "output_type": "execute_result"
    }
   ],
   "source": [
    "rnd_clf = RandomForestClassifier(n_estimators=200,\n",
    "                                 max_features = 3,\n",
    "                                 max_depth = 5,\n",
    "                                 max_leaf_nodes=16,\n",
    "                                 random_state=42)\n",
    "rnd_clf.fit(X_train_scal, y_train)"
   ]
  },
  {
   "cell_type": "code",
   "execution_count": 20,
   "metadata": {},
   "outputs": [
    {
     "data": {
      "text/plain": [
       "GridSearchCV(cv=5, estimator=RandomForestClassifier(), n_jobs=-1,\n",
       "             param_grid={'max_depth': [2, 3, 4, 5], 'max_features': [3, 4, 5],\n",
       "                         'max_leaf_nodes': [8, 16, 24],\n",
       "                         'n_estimators': [200, 300, 400],\n",
       "                         'random_state': [42]},\n",
       "             scoring='accuracy')"
      ]
     },
     "execution_count": 20,
     "metadata": {},
     "output_type": "execute_result"
    }
   ],
   "source": [
    "parameters = {'n_estimators': [200, 300, 400],\n",
    "             'max_features' : [3,4,5],\n",
    "             \"max_depth\" : [2,3,4,5],\n",
    "             \"max_leaf_nodes\": [8, 16, 24],\n",
    "             \"random_state\" : [42]\n",
    "}\n",
    "\n",
    "rnd_clf = RandomForestClassifier()\n",
    "\n",
    "rnd_clfCV = GridSearchCV(estimator = rnd_clf,\n",
    "                  param_grid = parameters,\n",
    "                  n_jobs = -1,\n",
    "                  cv = 5,\n",
    "                  scoring=\"accuracy\")\n",
    "\n",
    "rnd_clfCV.fit(X_train_scal, y_train)"
   ]
  },
  {
   "cell_type": "code",
   "execution_count": 21,
   "metadata": {},
   "outputs": [
    {
     "name": "stdout",
     "output_type": "stream",
     "text": [
      "[1 1 1 1 1 1 1 1 1 0 0 0 0 0 1 0 0 0 0 1 1 1 1 1 1 1 1 0 0 0 0 1 0 0 0 0 0\n",
      " 0 0 0 1 1 1 1 1 1 1 1 1 0 1 0 1 0 0 0 0 0 0 0 1 1 1 1 1 1 1 1 0 0 1 0 0 0\n",
      " 0 0 0 0 0 0 1 1 1 1 0 0 1 0 1 1 0 1 0 1 0 0 0 0 0 0 1 1 1 1 1 1 1 1 0 1 1\n",
      " 0 0 0 1 0 0 0 0 0 1 1 1 1 1 1 1 0 0 0 0 0 0 0 0 0 0 0 0 0 1 1 1 1 1 1 0 1\n",
      " 1 1 0 0 0 0 0 0 0 0 1 0 1 1 1 1 1 1 1 1 0 0 0 0 0 0 0 0 0 0 0 0 1 1 1 1 1\n",
      " 1 1 0 0 1 0 0 0 0 0 0 0 1 0 0]\n"
     ]
    }
   ],
   "source": [
    "predictions = clf.predict(X_test_scal)\n",
    "print(predictions)"
   ]
  },
  {
   "cell_type": "code",
   "execution_count": 22,
   "metadata": {},
   "outputs": [
    {
     "data": {
      "text/plain": [
       "{'max_depth': 5,\n",
       " 'max_features': 3,\n",
       " 'max_leaf_nodes': 16,\n",
       " 'n_estimators': 200,\n",
       " 'random_state': 42}"
      ]
     },
     "execution_count": 22,
     "metadata": {},
     "output_type": "execute_result"
    }
   ],
   "source": [
    "rnd_clfCV.best_params_"
   ]
  },
  {
   "cell_type": "code",
   "execution_count": 23,
   "metadata": {},
   "outputs": [],
   "source": [
    "# predicions_proba = clf.predict_proba(X_test)\n",
    "# print(np.round(np.array(predicions_proba), 2))"
   ]
  },
  {
   "cell_type": "code",
   "execution_count": 24,
   "metadata": {},
   "outputs": [
    {
     "data": {
      "text/html": [
       "<div>\n",
       "<style scoped>\n",
       "    .dataframe tbody tr th:only-of-type {\n",
       "        vertical-align: middle;\n",
       "    }\n",
       "\n",
       "    .dataframe tbody tr th {\n",
       "        vertical-align: top;\n",
       "    }\n",
       "\n",
       "    .dataframe thead th {\n",
       "        text-align: right;\n",
       "    }\n",
       "</style>\n",
       "<table border=\"1\" class=\"dataframe\">\n",
       "  <thead>\n",
       "    <tr style=\"text-align: right;\">\n",
       "      <th></th>\n",
       "      <th>reales</th>\n",
       "    </tr>\n",
       "    <tr>\n",
       "      <th>predicciones</th>\n",
       "      <th></th>\n",
       "    </tr>\n",
       "  </thead>\n",
       "  <tbody>\n",
       "    <tr>\n",
       "      <th>0</th>\n",
       "      <td>107</td>\n",
       "    </tr>\n",
       "    <tr>\n",
       "      <th>1</th>\n",
       "      <td>93</td>\n",
       "    </tr>\n",
       "  </tbody>\n",
       "</table>\n",
       "</div>"
      ],
      "text/plain": [
       "              reales\n",
       "predicciones        \n",
       "0                107\n",
       "1                 93"
      ]
     },
     "execution_count": 24,
     "metadata": {},
     "output_type": "execute_result"
    }
   ],
   "source": [
    "comprob = pd.DataFrame(data={'reales': y_test, 'predicciones': predictions})\n",
    "comprob.groupby(['predicciones']).count()"
   ]
  },
  {
   "cell_type": "code",
   "execution_count": 25,
   "metadata": {},
   "outputs": [
    {
     "data": {
      "image/png": "[encoded data removed]",
      "text/plain": [
       "<Figure size 640x480 with 2 Axes>"
      ]
     },
     "metadata": {},
     "output_type": "display_data"
    }
   ],
   "source": [
    "from sklearn.metrics import accuracy_score, confusion_matrix\n",
    "# sns.heatmap(confusion_matrix(y_test, predictions, normalize='true'), annot=True, \n",
    "#              fmt='.2%', cmap='Blues', xticklabels=('1-5', '6-10', '11-15', '16-20'), yticklabels=('1-5', '6-10', '11-15', '16-20'));\n",
    "sns.heatmap(confusion_matrix(y_test, predictions), annot=True, \n",
    "             cmap='Blues', xticklabels=np.unique(predictions), yticklabels=np.unique(predictions));"
   ]
  },
  {
   "cell_type": "code",
   "execution_count": 29,
   "metadata": {},
   "outputs": [
    {
     "data": {
      "text/plain": [
       "<AxesSubplot:xlabel='feature'>"
      ]
     },
     "execution_count": 29,
     "metadata": {},
     "output_type": "execute_result"
    },
    {
     "data": {
      "image/png": "[encoded data removed]",
      "text/plain": [
       "<Figure size 640x480 with 1 Axes>"
      ]
     },
     "metadata": {},
     "output_type": "display_data"
    }
   ],
   "source": [
    "importances = pd.DataFrame({'feature':X_train.columns,'importance':np.round(rnd_clf.feature_importances_,3)})\n",
    "importances = importances.sort_values('importance',ascending=False).set_index('feature')\n",
    "\n",
    "importances.plot.bar()"
   ]
  },
  {
   "cell_type": "code",
   "execution_count": 30,
   "metadata": {},
   "outputs": [
    {
     "name": "stdout",
     "output_type": "stream",
     "text": [
      "Acierto: 84.5 %\n",
      "Error: 15.5 %\n"
     ]
    }
   ],
   "source": [
    "acierto = accuracy_score(y_test, predictions)\n",
    "\n",
    "error = 1 - acierto\n",
    "print(\"Acierto:\", round(acierto*100, 2), \"%\")\n",
    "print(\"Error:\", round(error*100, 2), \"%\")"
   ]
  },
  {
   "cell_type": "code",
   "execution_count": 35,
   "metadata": {},
   "outputs": [],
   "source": [
    "import pickle\n",
    "\n",
    "with open('modelo-DNF1.model', \"wb\") as archivo_salida:\n",
    "    pickle.dump(rnd_clfCV.best_estimator_, archivo_salida)\n"
   ]
  },
  {
   "cell_type": "code",
   "execution_count": 36,
   "metadata": {},
   "outputs": [
    {
     "name": "stdout",
     "output_type": "stream",
     "text": [
      "RandomForestClassifier(max_depth=5, max_features=3, max_leaf_nodes=16,\n",
      "                       n_estimators=200, random_state=42)\n"
     ]
    }
   ],
   "source": [
    "with open('modelo-DNF1.model', \"rb\") as archivo_entrada:\n",
    "    pipeline_importada = pickle.load(archivo_entrada)\n",
    "    \n",
    "print(pipeline_importada)"
   ]
  },
  {
   "cell_type": "code",
   "execution_count": 37,
   "metadata": {},
   "outputs": [],
   "source": [
    "X_test.to_csv('x_test.csv')"
   ]
  },
  {
   "cell_type": "code",
   "execution_count": 39,
   "metadata": {},
   "outputs": [
    {
     "data": {
      "text/plain": [
       "array([[0.10188724, 0.89811276],\n",
       "       [0.09210468, 0.90789532],\n",
       "       [0.05968624, 0.94031376],\n",
       "       [0.05740875, 0.94259125],\n",
       "       [0.10706163, 0.89293837],\n",
       "       [0.06325568, 0.93674432],\n",
       "       [0.10311159, 0.89688841],\n",
       "       [0.24200429, 0.75799571],\n",
       "       [0.13090247, 0.86909753],\n",
       "       [0.74977863, 0.25022137],\n",
       "       [0.77680398, 0.22319602],\n",
       "       [0.72057306, 0.27942694],\n",
       "       [0.61131587, 0.38868413],\n",
       "       [0.77987455, 0.22012545],\n",
       "       [0.33462301, 0.66537699],\n",
       "       [0.61754648, 0.38245352],\n",
       "       [0.84676529, 0.15323471],\n",
       "       [0.86873045, 0.13126955],\n",
       "       [0.77611986, 0.22388014],\n",
       "       [0.22941661, 0.77058339],\n",
       "       [0.04734814, 0.95265186],\n",
       "       [0.05557568, 0.94442432],\n",
       "       [0.06378274, 0.93621726],\n",
       "       [0.09576152, 0.90423848],\n",
       "       [0.23802343, 0.76197657],\n",
       "       [0.06853086, 0.93146914],\n",
       "       [0.14375368, 0.85624632],\n",
       "       [0.73750023, 0.26249977],\n",
       "       [0.47915819, 0.52084181],\n",
       "       [0.51039983, 0.48960017],\n",
       "       [0.77623159, 0.22376841],\n",
       "       [0.15738243, 0.84261757],\n",
       "       [0.78288524, 0.21711476],\n",
       "       [0.74448866, 0.25551134],\n",
       "       [0.46178103, 0.53821897],\n",
       "       [0.69844582, 0.30155418],\n",
       "       [0.78239492, 0.21760508],\n",
       "       [0.86236666, 0.13763334],\n",
       "       [0.9251421 , 0.0748579 ],\n",
       "       [0.88533391, 0.11466609],\n",
       "       [0.04782892, 0.95217108],\n",
       "       [0.07791765, 0.92208235],\n",
       "       [0.06399601, 0.93600399],\n",
       "       [0.08674235, 0.91325765],\n",
       "       [0.06304917, 0.93695083],\n",
       "       [0.48195017, 0.51804983],\n",
       "       [0.13600861, 0.86399139],\n",
       "       [0.06057511, 0.93942489],\n",
       "       [0.22778088, 0.77221912],\n",
       "       [0.4779365 , 0.5220635 ],\n",
       "       [0.42075234, 0.57924766],\n",
       "       [0.8262715 , 0.1737285 ],\n",
       "       [0.46098079, 0.53901921],\n",
       "       [0.69431506, 0.30568494],\n",
       "       [0.69551706, 0.30448294],\n",
       "       [0.86603288, 0.13396712],\n",
       "       [0.71589384, 0.28410616],\n",
       "       [0.89597566, 0.10402434],\n",
       "       [0.93426551, 0.06573449],\n",
       "       [0.91731315, 0.08268685],\n",
       "       [0.04778526, 0.95221474],\n",
       "       [0.06053488, 0.93946512],\n",
       "       [0.06746006, 0.93253994],\n",
       "       [0.07416338, 0.92583662],\n",
       "       [0.06797896, 0.93202104],\n",
       "       [0.06022067, 0.93977933],\n",
       "       [0.1372372 , 0.8627628 ],\n",
       "       [0.37490741, 0.62509259],\n",
       "       [0.73466518, 0.26533482],\n",
       "       [0.84653485, 0.15346515],\n",
       "       [0.25465891, 0.74534109],\n",
       "       [0.80720157, 0.19279843],\n",
       "       [0.41440725, 0.58559275],\n",
       "       [0.73930004, 0.26069996],\n",
       "       [0.89715276, 0.10284724],\n",
       "       [0.71010294, 0.28989706],\n",
       "       [0.92192243, 0.07807757],\n",
       "       [0.91081197, 0.08918803],\n",
       "       [0.9397479 , 0.0602521 ],\n",
       "       [0.91840509, 0.08159491],\n",
       "       [0.07030369, 0.92969631],\n",
       "       [0.06896628, 0.93103372],\n",
       "       [0.07273349, 0.92726651],\n",
       "       [0.12008561, 0.87991439],\n",
       "       [0.73633981, 0.26366019],\n",
       "       [0.58939677, 0.41060323],\n",
       "       [0.08524206, 0.91475794],\n",
       "       [0.71680006, 0.28319994],\n",
       "       [0.07963225, 0.92036775],\n",
       "       [0.30086437, 0.69913563],\n",
       "       [0.63159959, 0.36840041],\n",
       "       [0.44150713, 0.55849287],\n",
       "       [0.6842223 , 0.3157777 ],\n",
       "       [0.12825237, 0.87174763],\n",
       "       [0.9379353 , 0.0620647 ],\n",
       "       [0.92487339, 0.07512661],\n",
       "       [0.93990372, 0.06009628],\n",
       "       [0.91373297, 0.08626703],\n",
       "       [0.94989141, 0.05010859],\n",
       "       [0.94401851, 0.05598149],\n",
       "       [0.06094123, 0.93905877],\n",
       "       [0.04881217, 0.95118783],\n",
       "       [0.05172506, 0.94827494],\n",
       "       [0.17586314, 0.82413686],\n",
       "       [0.09297729, 0.90702271],\n",
       "       [0.33726563, 0.66273437],\n",
       "       [0.24497554, 0.75502446],\n",
       "       [0.14297739, 0.85702261],\n",
       "       [0.89385177, 0.10614823],\n",
       "       [0.14098834, 0.85901166],\n",
       "       [0.36678623, 0.63321377],\n",
       "       [0.7457307 , 0.2542693 ],\n",
       "       [0.70278733, 0.29721267],\n",
       "       [0.71923836, 0.28076164],\n",
       "       [0.36849781, 0.63150219],\n",
       "       [0.82883523, 0.17116477],\n",
       "       [0.79344481, 0.20655519],\n",
       "       [0.73020741, 0.26979259],\n",
       "       [0.89883225, 0.10116775],\n",
       "       [0.94754356, 0.05245644],\n",
       "       [0.04783077, 0.95216923],\n",
       "       [0.07439075, 0.92560925],\n",
       "       [0.05301243, 0.94698757],\n",
       "       [0.05213279, 0.94786721],\n",
       "       [0.09614358, 0.90385642],\n",
       "       [0.15159656, 0.84840344],\n",
       "       [0.26854704, 0.73145296],\n",
       "       [0.39121533, 0.60878467],\n",
       "       [0.74132494, 0.25867506],\n",
       "       [0.77565539, 0.22434461],\n",
       "       [0.51244598, 0.48755402],\n",
       "       [0.81046123, 0.18953877],\n",
       "       [0.57283633, 0.42716367],\n",
       "       [0.66333439, 0.33666561],\n",
       "       [0.81573888, 0.18426112],\n",
       "       [0.6618937 , 0.3381063 ],\n",
       "       [0.85687627, 0.14312373],\n",
       "       [0.89137396, 0.10862604],\n",
       "       [0.93353193, 0.06646807],\n",
       "       [0.89771471, 0.10228529],\n",
       "       [0.04800466, 0.95199534],\n",
       "       [0.07270357, 0.92729643],\n",
       "       [0.05290443, 0.94709557],\n",
       "       [0.08327037, 0.91672963],\n",
       "       [0.07867775, 0.92132225],\n",
       "       [0.07133317, 0.92866683],\n",
       "       [0.47775545, 0.52224455],\n",
       "       [0.2699348 , 0.7300652 ],\n",
       "       [0.13502528, 0.86497472],\n",
       "       [0.28790431, 0.71209569],\n",
       "       [0.72773522, 0.27226478],\n",
       "       [0.85059302, 0.14940698],\n",
       "       [0.53139154, 0.46860846],\n",
       "       [0.65109587, 0.34890413],\n",
       "       [0.79578338, 0.20421662],\n",
       "       [0.8131268 , 0.1868732 ],\n",
       "       [0.70605321, 0.29394679],\n",
       "       [0.85069245, 0.14930755],\n",
       "       [0.24621986, 0.75378014],\n",
       "       [0.92252588, 0.07747412],\n",
       "       [0.07346184, 0.92653816],\n",
       "       [0.09354662, 0.90645338],\n",
       "       [0.07007949, 0.92992051],\n",
       "       [0.12007759, 0.87992241],\n",
       "       [0.24289028, 0.75710972],\n",
       "       [0.04779055, 0.95220945],\n",
       "       [0.09273502, 0.90726498],\n",
       "       [0.24561051, 0.75438949],\n",
       "       [0.65471557, 0.34528443],\n",
       "       [0.78522573, 0.21477427],\n",
       "       [0.59659684, 0.40340316],\n",
       "       [0.84446123, 0.15553877],\n",
       "       [0.82191735, 0.17808265],\n",
       "       [0.45749652, 0.54250348],\n",
       "       [0.53594893, 0.46405107],\n",
       "       [0.89424887, 0.10575113],\n",
       "       [0.78357846, 0.21642154],\n",
       "       [0.90347483, 0.09652517],\n",
       "       [0.87521589, 0.12478411],\n",
       "       [0.9081937 , 0.0918063 ],\n",
       "       [0.05833896, 0.94166104],\n",
       "       [0.05329447, 0.94670553],\n",
       "       [0.06162969, 0.93837031],\n",
       "       [0.05566675, 0.94433325],\n",
       "       [0.07871826, 0.92128174],\n",
       "       [0.17317124, 0.82682876],\n",
       "       [0.24250568, 0.75749432],\n",
       "       [0.73097672, 0.26902328],\n",
       "       [0.48917253, 0.51082747],\n",
       "       [0.36152227, 0.63847773],\n",
       "       [0.56326561, 0.43673439],\n",
       "       [0.8129494 , 0.1870506 ],\n",
       "       [0.85565773, 0.14434227],\n",
       "       [0.78891329, 0.21108671],\n",
       "       [0.64640651, 0.35359349],\n",
       "       [0.71307372, 0.28692628],\n",
       "       [0.7561551 , 0.2438449 ],\n",
       "       [0.0687742 , 0.9312258 ],\n",
       "       [0.89536497, 0.10463503],\n",
       "       [0.88626894, 0.11373106]])"
      ]
     },
     "execution_count": 39,
     "metadata": {},
     "output_type": "execute_result"
    }
   ],
   "source": [
    "pipeline_importada.predict_proba(X_test_scal)"
   ]
  }
 ],
 "metadata": {
  "kernelspec": {
   "display_name": "Python 3",
   "language": "python",
   "name": "python3"
  },
  "language_info": {
   "codemirror_mode": {
    "name": "ipython",
    "version": 3
   },
   "file_extension": ".py",
   "mimetype": "text/x-python",
   "name": "python",
   "nbconvert_exporter": "python",
   "pygments_lexer": "ipython3",
   "version": "3.7.4"
  },
  "orig_nbformat": 4,
  "vscode": {
   "interpreter": {
    "hash": "a6bc3b96fe2a5faf034119f77c25779006d8f31484ccb855ea416176cb208743"
   }
  }
 },
 "nbformat": 4,
 "nbformat_minor": 2
}
