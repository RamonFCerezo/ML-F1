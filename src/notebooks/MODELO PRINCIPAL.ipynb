{
 "cells": [
  {
   "cell_type": "code",
   "execution_count": 2,
   "metadata": {},
   "outputs": [],
   "source": [
    "import pandas as pd\n",
    "import numpy as np\n",
    "import seaborn as sns\n",
    "import matplotlib.pyplot as plt"
   ]
  },
  {
   "cell_type": "code",
   "execution_count": 11,
   "metadata": {},
   "outputs": [],
   "source": [
    "import os"
   ]
  },
  {
   "cell_type": "code",
   "execution_count": 12,
   "metadata": {},
   "outputs": [
    {
     "data": {
      "text/plain": [
       "'c:\\\\Users\\\\ramon\\\\OneDrive\\\\Escritorio\\\\BOOTCAMP DATA SCIENCE\\\\DS TB Git\\\\ML-F1\\\\src\\\\notebooks'"
      ]
     },
     "execution_count": 12,
     "metadata": {},
     "output_type": "execute_result"
    }
   ],
   "source": [
    "os.getcwd()"
   ]
  },
  {
   "cell_type": "code",
   "execution_count": 24,
   "metadata": {},
   "outputs": [
    {
     "data": {
      "text/html": [
       "<div>\n",
       "<style scoped>\n",
       "    .dataframe tbody tr th:only-of-type {\n",
       "        vertical-align: middle;\n",
       "    }\n",
       "\n",
       "    .dataframe tbody tr th {\n",
       "        vertical-align: top;\n",
       "    }\n",
       "\n",
       "    .dataframe thead th {\n",
       "        text-align: right;\n",
       "    }\n",
       "</style>\n",
       "<table border=\"1\" class=\"dataframe\">\n",
       "  <thead>\n",
       "    <tr style=\"text-align: right;\">\n",
       "      <th></th>\n",
       "      <th>RaceId</th>\n",
       "      <th>Year</th>\n",
       "      <th>GP</th>\n",
       "      <th>CircuitId</th>\n",
       "      <th>DriverId</th>\n",
       "      <th>ConstructorId</th>\n",
       "      <th>Constructor Name</th>\n",
       "      <th>Driver Name</th>\n",
       "      <th>Circuit</th>\n",
       "      <th>Final position</th>\n",
       "      <th>...</th>\n",
       "      <th>Total gained/lost positions</th>\n",
       "      <th>Index DNF/Driver</th>\n",
       "      <th>Index DNF/Constructor</th>\n",
       "      <th>Average Lost laps</th>\n",
       "      <th>Circuit Speed</th>\n",
       "      <th>Result_Race-1</th>\n",
       "      <th>Result_Race-2</th>\n",
       "      <th>Result_Race-3</th>\n",
       "      <th>Result_Race-4</th>\n",
       "      <th>Result_Race-5</th>\n",
       "    </tr>\n",
       "    <tr>\n",
       "      <th>ResultId</th>\n",
       "      <th></th>\n",
       "      <th></th>\n",
       "      <th></th>\n",
       "      <th></th>\n",
       "      <th></th>\n",
       "      <th></th>\n",
       "      <th></th>\n",
       "      <th></th>\n",
       "      <th></th>\n",
       "      <th></th>\n",
       "      <th></th>\n",
       "      <th></th>\n",
       "      <th></th>\n",
       "      <th></th>\n",
       "      <th></th>\n",
       "      <th></th>\n",
       "      <th></th>\n",
       "      <th></th>\n",
       "      <th></th>\n",
       "      <th></th>\n",
       "      <th></th>\n",
       "    </tr>\n",
       "  </thead>\n",
       "  <tbody>\n",
       "    <tr>\n",
       "      <th>23379.0</th>\n",
       "      <td>969</td>\n",
       "      <td>2017</td>\n",
       "      <td>1</td>\n",
       "      <td>1</td>\n",
       "      <td>20</td>\n",
       "      <td>6</td>\n",
       "      <td>Ferrari</td>\n",
       "      <td>Vettel</td>\n",
       "      <td>albert_park</td>\n",
       "      <td>1.0</td>\n",
       "      <td>...</td>\n",
       "      <td>0.0</td>\n",
       "      <td>0.70</td>\n",
       "      <td>0.875</td>\n",
       "      <td>0.0</td>\n",
       "      <td>211.0</td>\n",
       "      <td>10.0</td>\n",
       "      <td>10.0</td>\n",
       "      <td>10.0</td>\n",
       "      <td>10.0</td>\n",
       "      <td>10.0</td>\n",
       "    </tr>\n",
       "    <tr>\n",
       "      <th>23380.0</th>\n",
       "      <td>969</td>\n",
       "      <td>2017</td>\n",
       "      <td>1</td>\n",
       "      <td>1</td>\n",
       "      <td>1</td>\n",
       "      <td>131</td>\n",
       "      <td>Mercedes</td>\n",
       "      <td>Hamilton</td>\n",
       "      <td>albert_park</td>\n",
       "      <td>2.0</td>\n",
       "      <td>...</td>\n",
       "      <td>0.0</td>\n",
       "      <td>0.00</td>\n",
       "      <td>0.175</td>\n",
       "      <td>0.0</td>\n",
       "      <td>211.0</td>\n",
       "      <td>10.0</td>\n",
       "      <td>10.0</td>\n",
       "      <td>10.0</td>\n",
       "      <td>10.0</td>\n",
       "      <td>10.0</td>\n",
       "    </tr>\n",
       "    <tr>\n",
       "      <th>23381.0</th>\n",
       "      <td>969</td>\n",
       "      <td>2017</td>\n",
       "      <td>1</td>\n",
       "      <td>1</td>\n",
       "      <td>822</td>\n",
       "      <td>131</td>\n",
       "      <td>Mercedes</td>\n",
       "      <td>Bottas</td>\n",
       "      <td>albert_park</td>\n",
       "      <td>3.0</td>\n",
       "      <td>...</td>\n",
       "      <td>0.0</td>\n",
       "      <td>0.35</td>\n",
       "      <td>0.175</td>\n",
       "      <td>0.0</td>\n",
       "      <td>211.0</td>\n",
       "      <td>10.0</td>\n",
       "      <td>10.0</td>\n",
       "      <td>10.0</td>\n",
       "      <td>10.0</td>\n",
       "      <td>10.0</td>\n",
       "    </tr>\n",
       "    <tr>\n",
       "      <th>23382.0</th>\n",
       "      <td>969</td>\n",
       "      <td>2017</td>\n",
       "      <td>1</td>\n",
       "      <td>1</td>\n",
       "      <td>8</td>\n",
       "      <td>6</td>\n",
       "      <td>Ferrari</td>\n",
       "      <td>Räikkönen</td>\n",
       "      <td>albert_park</td>\n",
       "      <td>4.0</td>\n",
       "      <td>...</td>\n",
       "      <td>0.0</td>\n",
       "      <td>1.05</td>\n",
       "      <td>0.875</td>\n",
       "      <td>0.0</td>\n",
       "      <td>211.0</td>\n",
       "      <td>10.0</td>\n",
       "      <td>10.0</td>\n",
       "      <td>10.0</td>\n",
       "      <td>10.0</td>\n",
       "      <td>10.0</td>\n",
       "    </tr>\n",
       "    <tr>\n",
       "      <th>23383.0</th>\n",
       "      <td>969</td>\n",
       "      <td>2017</td>\n",
       "      <td>1</td>\n",
       "      <td>1</td>\n",
       "      <td>830</td>\n",
       "      <td>9</td>\n",
       "      <td>Red Bull</td>\n",
       "      <td>Verstappen</td>\n",
       "      <td>albert_park</td>\n",
       "      <td>5.0</td>\n",
       "      <td>...</td>\n",
       "      <td>0.0</td>\n",
       "      <td>2.45</td>\n",
       "      <td>2.275</td>\n",
       "      <td>0.0</td>\n",
       "      <td>211.0</td>\n",
       "      <td>10.0</td>\n",
       "      <td>10.0</td>\n",
       "      <td>10.0</td>\n",
       "      <td>10.0</td>\n",
       "      <td>10.0</td>\n",
       "    </tr>\n",
       "  </tbody>\n",
       "</table>\n",
       "<p>5 rows × 33 columns</p>\n",
       "</div>"
      ],
      "text/plain": [
       "          RaceId  Year  GP  CircuitId  DriverId  ConstructorId  \\\n",
       "ResultId                                                         \n",
       "23379.0      969  2017   1          1        20              6   \n",
       "23380.0      969  2017   1          1         1            131   \n",
       "23381.0      969  2017   1          1       822            131   \n",
       "23382.0      969  2017   1          1         8              6   \n",
       "23383.0      969  2017   1          1       830              9   \n",
       "\n",
       "         Constructor Name Driver Name      Circuit  Final position  ...  \\\n",
       "ResultId                                                            ...   \n",
       "23379.0           Ferrari      Vettel  albert_park             1.0  ...   \n",
       "23380.0          Mercedes    Hamilton  albert_park             2.0  ...   \n",
       "23381.0          Mercedes      Bottas  albert_park             3.0  ...   \n",
       "23382.0           Ferrari   Räikkönen  albert_park             4.0  ...   \n",
       "23383.0          Red Bull  Verstappen  albert_park             5.0  ...   \n",
       "\n",
       "          Total gained/lost positions  Index DNF/Driver  \\\n",
       "ResultId                                                  \n",
       "23379.0                           0.0              0.70   \n",
       "23380.0                           0.0              0.00   \n",
       "23381.0                           0.0              0.35   \n",
       "23382.0                           0.0              1.05   \n",
       "23383.0                           0.0              2.45   \n",
       "\n",
       "          Index DNF/Constructor  Average Lost laps Circuit Speed  \\\n",
       "ResultId                                                           \n",
       "23379.0                   0.875                0.0         211.0   \n",
       "23380.0                   0.175                0.0         211.0   \n",
       "23381.0                   0.175                0.0         211.0   \n",
       "23382.0                   0.875                0.0         211.0   \n",
       "23383.0                   2.275                0.0         211.0   \n",
       "\n",
       "         Result_Race-1 Result_Race-2  Result_Race-3  Result_Race-4  \\\n",
       "ResultId                                                             \n",
       "23379.0           10.0          10.0           10.0           10.0   \n",
       "23380.0           10.0          10.0           10.0           10.0   \n",
       "23381.0           10.0          10.0           10.0           10.0   \n",
       "23382.0           10.0          10.0           10.0           10.0   \n",
       "23383.0           10.0          10.0           10.0           10.0   \n",
       "\n",
       "          Result_Race-5  \n",
       "ResultId                 \n",
       "23379.0            10.0  \n",
       "23380.0            10.0  \n",
       "23381.0            10.0  \n",
       "23382.0            10.0  \n",
       "23383.0            10.0  \n",
       "\n",
       "[5 rows x 33 columns]"
      ]
     },
     "execution_count": 24,
     "metadata": {},
     "output_type": "execute_result"
    }
   ],
   "source": [
    "df = pd.read_csv('C:\\\\Users\\\\ramon\\\\OneDrive\\\\Escritorio\\\\BOOTCAMP DATA SCIENCE\\\\DS TB Git\\\\ML-F1\\\\src\\\\data\\\\F1.csv', index_col='ResultId')\n",
    "df.drop(\"Unnamed: 0\", axis= 1, inplace=True)\n",
    "df.head()"
   ]
  },
  {
   "cell_type": "code",
   "execution_count": 83,
   "metadata": {},
   "outputs": [
    {
     "name": "stdout",
     "output_type": "stream",
     "text": [
      "<class 'pandas.core.frame.DataFrame'>\n",
      "Float64Index: 2460 entries, 23379.0 to 25845.0\n",
      "Data columns (total 33 columns):\n",
      " #   Column                       Non-Null Count  Dtype  \n",
      "---  ------                       --------------  -----  \n",
      " 0   RaceId                       2460 non-null   int64  \n",
      " 1   Year                         2460 non-null   int64  \n",
      " 2   GP                           2460 non-null   int64  \n",
      " 3   CircuitId                    2460 non-null   int64  \n",
      " 4   DriverId                     2460 non-null   int64  \n",
      " 5   ConstructorId                2460 non-null   int64  \n",
      " 6   Constructor Name             2460 non-null   object \n",
      " 7   Driver Name                  2460 non-null   object \n",
      " 8   Circuit                      2460 non-null   object \n",
      " 9   Final position               2460 non-null   float64\n",
      " 10  DNF                          2460 non-null   float64\n",
      " 11  Fastest Lap Rank             2460 non-null   int64  \n",
      " 12  Grid position                2460 non-null   float64\n",
      " 13  Average pace                 2389 non-null   float64\n",
      " 14  Q1                           2447 non-null   object \n",
      " 15  Q2                           2323 non-null   object \n",
      " 16  Q3                           2175 non-null   object \n",
      " 17  Qualifying position          2460 non-null   float64\n",
      " 18  Victories                    2460 non-null   int64  \n",
      " 19  Drivers points               2460 non-null   float64\n",
      " 20  Constructors points          2460 non-null   float64\n",
      " 21  Constructors victories       2460 non-null   int64  \n",
      " 22  Start from Pitlane           2460 non-null   int64  \n",
      " 23  Total gained/lost positions  2460 non-null   float64\n",
      " 24  Index DNF/Driver             2460 non-null   float64\n",
      " 25  Index DNF/Constructor        2460 non-null   float64\n",
      " 26  Average Lost laps            2460 non-null   float64\n",
      " 27  Circuit Speed                2440 non-null   float64\n",
      " 28  Result_Race-1                2421 non-null   float64\n",
      " 29  Result_Race-2                2386 non-null   float64\n",
      " 30  Result_Race-3                2352 non-null   float64\n",
      " 31  Result_Race-4                2318 non-null   float64\n",
      " 32  Result_Race-5                2284 non-null   float64\n",
      "dtypes: float64(17), int64(10), object(6)\n",
      "memory usage: 653.4+ KB\n"
     ]
    }
   ],
   "source": [
    "df.info()"
   ]
  },
  {
   "cell_type": "code",
   "execution_count": 25,
   "metadata": {},
   "outputs": [],
   "source": [
    "df['Drivers points'].fillna(0, inplace=True)"
   ]
  },
  {
   "cell_type": "code",
   "execution_count": 26,
   "metadata": {},
   "outputs": [
    {
     "name": "stderr",
     "output_type": "stream",
     "text": [
      "C:\\Users\\ramon\\AppData\\Roaming\\Python\\Python37\\site-packages\\ipykernel_launcher.py:2: SettingWithCopyWarning: \n",
      "A value is trying to be set on a copy of a slice from a DataFrame\n",
      "\n",
      "See the caveats in the documentation: https://pandas.pydata.org/pandas-docs/stable/user_guide/indexing.html#returning-a-view-versus-a-copy\n",
      "  \n",
      "C:\\Users\\ramon\\AppData\\Roaming\\Python\\Python37\\site-packages\\ipykernel_launcher.py:3: SettingWithCopyWarning: \n",
      "A value is trying to be set on a copy of a slice from a DataFrame\n",
      "\n",
      "See the caveats in the documentation: https://pandas.pydata.org/pandas-docs/stable/user_guide/indexing.html#returning-a-view-versus-a-copy\n",
      "  This is separate from the ipykernel package so we can avoid doing imports until\n"
     ]
    }
   ],
   "source": [
    "df['¿Points?'] = 0\n",
    "df['¿Points?'][df['Final position'] <=10] = 1\n",
    "df['¿Points?'][df['Final position'] > 10] = 0"
   ]
  },
  {
   "cell_type": "code",
   "execution_count": 27,
   "metadata": {},
   "outputs": [
    {
     "data": {
      "text/plain": [
       "Index(['RaceId', 'Year', 'GP', 'CircuitId', 'DriverId', 'ConstructorId',\n",
       "       'Constructor Name', 'Driver Name', 'Circuit', 'Final position', 'DNF',\n",
       "       'Fastest Lap Rank', 'Grid position', 'Average pace', 'Q1', 'Q2', 'Q3',\n",
       "       'Qualifying position', 'Victories', 'Drivers points',\n",
       "       'Constructors points', 'Constructors victories', 'Start from Pitlane',\n",
       "       'Total gained/lost positions', 'Index DNF/Driver',\n",
       "       'Index DNF/Constructor', 'Average Lost laps', 'Circuit Speed',\n",
       "       'Result_Race-1', 'Result_Race-2', 'Result_Race-3', 'Result_Race-4',\n",
       "       'Result_Race-5', '¿Points?'],\n",
       "      dtype='object')"
      ]
     },
     "execution_count": 27,
     "metadata": {},
     "output_type": "execute_result"
    }
   ],
   "source": [
    "df.columns"
   ]
  },
  {
   "cell_type": "code",
   "execution_count": 28,
   "metadata": {},
   "outputs": [],
   "source": [
    "df['Result_Race-1'].fillna(10, inplace=True)\n",
    "df['Result_Race-2'].fillna(10, inplace=True)\n",
    "df['Result_Race-3'].fillna(10, inplace=True)\n",
    "df['Result_Race-4'].fillna(10, inplace=True)\n",
    "df['Result_Race-5'].fillna(10, inplace=True)"
   ]
  },
  {
   "cell_type": "code",
   "execution_count": 29,
   "metadata": {},
   "outputs": [
    {
     "data": {
      "text/plain": [
       "<AxesSubplot:>"
      ]
     },
     "execution_count": 29,
     "metadata": {},
     "output_type": "execute_result"
    },
    {
     "data": {
      "image/png": "[encoded data removed]",
      "text/plain": [
       "<Figure size 1200x1200 with 2 Axes>"
      ]
     },
     "metadata": {},
     "output_type": "display_data"
    }
   ],
   "source": [
    "plt.figure(figsize=(12,12))\n",
    "sns.heatmap(df[['¿Points?','Drivers points', 'Qualifying position', \n",
    "                'Total gained/lost positions', 'Start from Pitlane', 'Index DNF/Driver',\n",
    "                'Average Lost laps', 'Result_Race-1']].corr(), annot=True)"
   ]
  },
  {
   "cell_type": "code",
   "execution_count": 30,
   "metadata": {},
   "outputs": [
    {
     "data": {
      "text/html": [
       "<div>\n",
       "<style scoped>\n",
       "    .dataframe tbody tr th:only-of-type {\n",
       "        vertical-align: middle;\n",
       "    }\n",
       "\n",
       "    .dataframe tbody tr th {\n",
       "        vertical-align: top;\n",
       "    }\n",
       "\n",
       "    .dataframe thead th {\n",
       "        text-align: right;\n",
       "    }\n",
       "</style>\n",
       "<table border=\"1\" class=\"dataframe\">\n",
       "  <thead>\n",
       "    <tr style=\"text-align: right;\">\n",
       "      <th></th>\n",
       "      <th>RaceId</th>\n",
       "      <th>Year</th>\n",
       "      <th>GP</th>\n",
       "      <th>CircuitId</th>\n",
       "      <th>DriverId</th>\n",
       "      <th>ConstructorId</th>\n",
       "      <th>Final position</th>\n",
       "      <th>DNF</th>\n",
       "      <th>Fastest Lap Rank</th>\n",
       "      <th>Grid position</th>\n",
       "      <th>...</th>\n",
       "      <th>Index DNF/Driver</th>\n",
       "      <th>Index DNF/Constructor</th>\n",
       "      <th>Average Lost laps</th>\n",
       "      <th>Circuit Speed</th>\n",
       "      <th>Result_Race-1</th>\n",
       "      <th>Result_Race-2</th>\n",
       "      <th>Result_Race-3</th>\n",
       "      <th>Result_Race-4</th>\n",
       "      <th>Result_Race-5</th>\n",
       "      <th>¿Points?</th>\n",
       "    </tr>\n",
       "  </thead>\n",
       "  <tbody>\n",
       "    <tr>\n",
       "      <th>count</th>\n",
       "      <td>2460.000000</td>\n",
       "      <td>2460.000000</td>\n",
       "      <td>2460.000000</td>\n",
       "      <td>2460.000000</td>\n",
       "      <td>2460.000000</td>\n",
       "      <td>2460.000000</td>\n",
       "      <td>2460.000000</td>\n",
       "      <td>2460.000000</td>\n",
       "      <td>2460.000000</td>\n",
       "      <td>2460.000000</td>\n",
       "      <td>...</td>\n",
       "      <td>2460.000000</td>\n",
       "      <td>2460.000000</td>\n",
       "      <td>2460.000000</td>\n",
       "      <td>2440.000000</td>\n",
       "      <td>2460.000000</td>\n",
       "      <td>2460.000000</td>\n",
       "      <td>2460.000000</td>\n",
       "      <td>2460.000000</td>\n",
       "      <td>2460.000000</td>\n",
       "      <td>2460.000000</td>\n",
       "    </tr>\n",
       "    <tr>\n",
       "      <th>mean</th>\n",
       "      <td>1031.341463</td>\n",
       "      <td>2019.536585</td>\n",
       "      <td>10.821138</td>\n",
       "      <td>28.308943</td>\n",
       "      <td>655.658537</td>\n",
       "      <td>69.665041</td>\n",
       "      <td>10.500000</td>\n",
       "      <td>0.151220</td>\n",
       "      <td>9.688618</td>\n",
       "      <td>10.559756</td>\n",
       "      <td>...</td>\n",
       "      <td>0.509302</td>\n",
       "      <td>0.508935</td>\n",
       "      <td>0.337179</td>\n",
       "      <td>205.557377</td>\n",
       "      <td>10.456098</td>\n",
       "      <td>10.426423</td>\n",
       "      <td>10.408537</td>\n",
       "      <td>10.385772</td>\n",
       "      <td>10.364228</td>\n",
       "      <td>0.500000</td>\n",
       "    </tr>\n",
       "    <tr>\n",
       "      <th>std</th>\n",
       "      <td>37.096936</td>\n",
       "      <td>1.731429</td>\n",
       "      <td>6.025610</td>\n",
       "      <td>26.302006</td>\n",
       "      <td>335.646406</td>\n",
       "      <td>85.020075</td>\n",
       "      <td>5.767454</td>\n",
       "      <td>0.358336</td>\n",
       "      <td>5.861194</td>\n",
       "      <td>5.830401</td>\n",
       "      <td>...</td>\n",
       "      <td>0.526924</td>\n",
       "      <td>0.463256</td>\n",
       "      <td>0.376062</td>\n",
       "      <td>19.942126</td>\n",
       "      <td>5.721696</td>\n",
       "      <td>5.682664</td>\n",
       "      <td>5.650252</td>\n",
       "      <td>5.614674</td>\n",
       "      <td>5.577421</td>\n",
       "      <td>0.500102</td>\n",
       "    </tr>\n",
       "    <tr>\n",
       "      <th>min</th>\n",
       "      <td>969.000000</td>\n",
       "      <td>2017.000000</td>\n",
       "      <td>1.000000</td>\n",
       "      <td>1.000000</td>\n",
       "      <td>1.000000</td>\n",
       "      <td>1.000000</td>\n",
       "      <td>1.000000</td>\n",
       "      <td>0.000000</td>\n",
       "      <td>0.000000</td>\n",
       "      <td>1.000000</td>\n",
       "      <td>...</td>\n",
       "      <td>0.000000</td>\n",
       "      <td>0.000000</td>\n",
       "      <td>0.000000</td>\n",
       "      <td>153.000000</td>\n",
       "      <td>1.000000</td>\n",
       "      <td>1.000000</td>\n",
       "      <td>1.000000</td>\n",
       "      <td>1.000000</td>\n",
       "      <td>1.000000</td>\n",
       "      <td>0.000000</td>\n",
       "    </tr>\n",
       "    <tr>\n",
       "      <th>25%</th>\n",
       "      <td>999.000000</td>\n",
       "      <td>2018.000000</td>\n",
       "      <td>6.000000</td>\n",
       "      <td>9.000000</td>\n",
       "      <td>815.000000</td>\n",
       "      <td>4.000000</td>\n",
       "      <td>5.750000</td>\n",
       "      <td>0.000000</td>\n",
       "      <td>5.000000</td>\n",
       "      <td>6.000000</td>\n",
       "      <td>...</td>\n",
       "      <td>0.150000</td>\n",
       "      <td>0.181818</td>\n",
       "      <td>0.000000</td>\n",
       "      <td>193.000000</td>\n",
       "      <td>6.000000</td>\n",
       "      <td>6.000000</td>\n",
       "      <td>6.000000</td>\n",
       "      <td>6.000000</td>\n",
       "      <td>6.000000</td>\n",
       "      <td>0.000000</td>\n",
       "    </tr>\n",
       "    <tr>\n",
       "      <th>50%</th>\n",
       "      <td>1030.000000</td>\n",
       "      <td>2019.000000</td>\n",
       "      <td>11.000000</td>\n",
       "      <td>17.000000</td>\n",
       "      <td>830.000000</td>\n",
       "      <td>9.000000</td>\n",
       "      <td>10.500000</td>\n",
       "      <td>0.000000</td>\n",
       "      <td>10.000000</td>\n",
       "      <td>11.000000</td>\n",
       "      <td>...</td>\n",
       "      <td>0.314145</td>\n",
       "      <td>0.363636</td>\n",
       "      <td>0.272727</td>\n",
       "      <td>206.000000</td>\n",
       "      <td>10.000000</td>\n",
       "      <td>10.000000</td>\n",
       "      <td>10.000000</td>\n",
       "      <td>10.000000</td>\n",
       "      <td>10.000000</td>\n",
       "      <td>0.500000</td>\n",
       "    </tr>\n",
       "    <tr>\n",
       "      <th>75%</th>\n",
       "      <td>1064.000000</td>\n",
       "      <td>2021.000000</td>\n",
       "      <td>16.000000</td>\n",
       "      <td>39.000000</td>\n",
       "      <td>842.000000</td>\n",
       "      <td>131.000000</td>\n",
       "      <td>15.250000</td>\n",
       "      <td>0.000000</td>\n",
       "      <td>15.000000</td>\n",
       "      <td>16.000000</td>\n",
       "      <td>...</td>\n",
       "      <td>0.686364</td>\n",
       "      <td>0.714286</td>\n",
       "      <td>0.500000</td>\n",
       "      <td>224.000000</td>\n",
       "      <td>15.000000</td>\n",
       "      <td>15.000000</td>\n",
       "      <td>15.000000</td>\n",
       "      <td>15.000000</td>\n",
       "      <td>15.000000</td>\n",
       "      <td>1.000000</td>\n",
       "    </tr>\n",
       "    <tr>\n",
       "      <th>max</th>\n",
       "      <td>1096.000000</td>\n",
       "      <td>2022.000000</td>\n",
       "      <td>22.000000</td>\n",
       "      <td>79.000000</td>\n",
       "      <td>856.000000</td>\n",
       "      <td>214.000000</td>\n",
       "      <td>20.000000</td>\n",
       "      <td>1.000000</td>\n",
       "      <td>20.000000</td>\n",
       "      <td>21.000000</td>\n",
       "      <td>...</td>\n",
       "      <td>5.000000</td>\n",
       "      <td>2.800000</td>\n",
       "      <td>3.000000</td>\n",
       "      <td>241.000000</td>\n",
       "      <td>20.000000</td>\n",
       "      <td>20.000000</td>\n",
       "      <td>20.000000</td>\n",
       "      <td>20.000000</td>\n",
       "      <td>20.000000</td>\n",
       "      <td>1.000000</td>\n",
       "    </tr>\n",
       "  </tbody>\n",
       "</table>\n",
       "<p>8 rows × 28 columns</p>\n",
       "</div>"
      ],
      "text/plain": [
       "            RaceId         Year           GP    CircuitId     DriverId  \\\n",
       "count  2460.000000  2460.000000  2460.000000  2460.000000  2460.000000   \n",
       "mean   1031.341463  2019.536585    10.821138    28.308943   655.658537   \n",
       "std      37.096936     1.731429     6.025610    26.302006   335.646406   \n",
       "min     969.000000  2017.000000     1.000000     1.000000     1.000000   \n",
       "25%     999.000000  2018.000000     6.000000     9.000000   815.000000   \n",
       "50%    1030.000000  2019.000000    11.000000    17.000000   830.000000   \n",
       "75%    1064.000000  2021.000000    16.000000    39.000000   842.000000   \n",
       "max    1096.000000  2022.000000    22.000000    79.000000   856.000000   \n",
       "\n",
       "       ConstructorId  Final position          DNF  Fastest Lap Rank  \\\n",
       "count    2460.000000     2460.000000  2460.000000       2460.000000   \n",
       "mean       69.665041       10.500000     0.151220          9.688618   \n",
       "std        85.020075        5.767454     0.358336          5.861194   \n",
       "min         1.000000        1.000000     0.000000          0.000000   \n",
       "25%         4.000000        5.750000     0.000000          5.000000   \n",
       "50%         9.000000       10.500000     0.000000         10.000000   \n",
       "75%       131.000000       15.250000     0.000000         15.000000   \n",
       "max       214.000000       20.000000     1.000000         20.000000   \n",
       "\n",
       "       Grid position  ...  Index DNF/Driver  Index DNF/Constructor  \\\n",
       "count    2460.000000  ...       2460.000000            2460.000000   \n",
       "mean       10.559756  ...          0.509302               0.508935   \n",
       "std         5.830401  ...          0.526924               0.463256   \n",
       "min         1.000000  ...          0.000000               0.000000   \n",
       "25%         6.000000  ...          0.150000               0.181818   \n",
       "50%        11.000000  ...          0.314145               0.363636   \n",
       "75%        16.000000  ...          0.686364               0.714286   \n",
       "max        21.000000  ...          5.000000               2.800000   \n",
       "\n",
       "       Average Lost laps  Circuit Speed  Result_Race-1  Result_Race-2  \\\n",
       "count        2460.000000    2440.000000    2460.000000    2460.000000   \n",
       "mean            0.337179     205.557377      10.456098      10.426423   \n",
       "std             0.376062      19.942126       5.721696       5.682664   \n",
       "min             0.000000     153.000000       1.000000       1.000000   \n",
       "25%             0.000000     193.000000       6.000000       6.000000   \n",
       "50%             0.272727     206.000000      10.000000      10.000000   \n",
       "75%             0.500000     224.000000      15.000000      15.000000   \n",
       "max             3.000000     241.000000      20.000000      20.000000   \n",
       "\n",
       "       Result_Race-3  Result_Race-4  Result_Race-5     ¿Points?  \n",
       "count    2460.000000    2460.000000    2460.000000  2460.000000  \n",
       "mean       10.408537      10.385772      10.364228     0.500000  \n",
       "std         5.650252       5.614674       5.577421     0.500102  \n",
       "min         1.000000       1.000000       1.000000     0.000000  \n",
       "25%         6.000000       6.000000       6.000000     0.000000  \n",
       "50%        10.000000      10.000000      10.000000     0.500000  \n",
       "75%        15.000000      15.000000      15.000000     1.000000  \n",
       "max        20.000000      20.000000      20.000000     1.000000  \n",
       "\n",
       "[8 rows x 28 columns]"
      ]
     },
     "execution_count": 30,
     "metadata": {},
     "output_type": "execute_result"
    }
   ],
   "source": [
    "df.describe()"
   ]
  },
  {
   "cell_type": "code",
   "execution_count": 31,
   "metadata": {},
   "outputs": [],
   "source": [
    "X = df[['Drivers points','Qualifying position', 'Result_Race-1', \n",
    "        'Total gained/lost positions', 'Index DNF/Driver', 'Average Lost laps']][df['GP']>2]\n",
    "y = df['¿Points?'][df['GP']>2]"
   ]
  },
  {
   "cell_type": "code",
   "execution_count": 91,
   "metadata": {},
   "outputs": [
    {
     "data": {
      "text/plain": [
       "<AxesSubplot:>"
      ]
     },
     "execution_count": 91,
     "metadata": {},
     "output_type": "execute_result"
    },
    {
     "data": {
      "image/png": "[encoded data removed]",
      "text/plain": [
       "<Figure size 640x480 with 2 Axes>"
      ]
     },
     "metadata": {},
     "output_type": "display_data"
    }
   ],
   "source": [
    "sns.heatmap(X.corr(), annot=True)"
   ]
  },
  {
   "cell_type": "code",
   "execution_count": 92,
   "metadata": {},
   "outputs": [
    {
     "data": {
      "text/html": [
       "<div>\n",
       "<style scoped>\n",
       "    .dataframe tbody tr th:only-of-type {\n",
       "        vertical-align: middle;\n",
       "    }\n",
       "\n",
       "    .dataframe tbody tr th {\n",
       "        vertical-align: top;\n",
       "    }\n",
       "\n",
       "    .dataframe thead th {\n",
       "        text-align: right;\n",
       "    }\n",
       "</style>\n",
       "<table border=\"1\" class=\"dataframe\">\n",
       "  <thead>\n",
       "    <tr style=\"text-align: right;\">\n",
       "      <th></th>\n",
       "      <th>Drivers points</th>\n",
       "      <th>Qualifying position</th>\n",
       "      <th>Result_Race-1</th>\n",
       "      <th>Total gained/lost positions</th>\n",
       "      <th>Index DNF/Driver</th>\n",
       "      <th>Average Lost laps</th>\n",
       "    </tr>\n",
       "    <tr>\n",
       "      <th>ResultId</th>\n",
       "      <th></th>\n",
       "      <th></th>\n",
       "      <th></th>\n",
       "      <th></th>\n",
       "      <th></th>\n",
       "      <th></th>\n",
       "    </tr>\n",
       "  </thead>\n",
       "  <tbody>\n",
       "    <tr>\n",
       "      <th>23419.0</th>\n",
       "      <td>21.500000</td>\n",
       "      <td>3.0</td>\n",
       "      <td>2.0</td>\n",
       "      <td>1.0</td>\n",
       "      <td>0.600000</td>\n",
       "      <td>0.000000</td>\n",
       "    </tr>\n",
       "    <tr>\n",
       "      <th>23420.0</th>\n",
       "      <td>21.500000</td>\n",
       "      <td>2.0</td>\n",
       "      <td>1.0</td>\n",
       "      <td>-1.0</td>\n",
       "      <td>0.000000</td>\n",
       "      <td>0.000000</td>\n",
       "    </tr>\n",
       "    <tr>\n",
       "      <th>23421.0</th>\n",
       "      <td>11.500000</td>\n",
       "      <td>1.0</td>\n",
       "      <td>6.0</td>\n",
       "      <td>-3.0</td>\n",
       "      <td>0.300000</td>\n",
       "      <td>0.000000</td>\n",
       "    </tr>\n",
       "    <tr>\n",
       "      <th>23422.0</th>\n",
       "      <td>11.000000</td>\n",
       "      <td>5.0</td>\n",
       "      <td>5.0</td>\n",
       "      <td>-1.0</td>\n",
       "      <td>0.900000</td>\n",
       "      <td>0.000000</td>\n",
       "    </tr>\n",
       "    <tr>\n",
       "      <th>23423.0</th>\n",
       "      <td>6.000000</td>\n",
       "      <td>4.0</td>\n",
       "      <td>4.0</td>\n",
       "      <td>5.0</td>\n",
       "      <td>1.800000</td>\n",
       "      <td>0.000000</td>\n",
       "    </tr>\n",
       "    <tr>\n",
       "      <th>...</th>\n",
       "      <td>...</td>\n",
       "      <td>...</td>\n",
       "      <td>...</td>\n",
       "      <td>...</td>\n",
       "      <td>...</td>\n",
       "      <td>...</td>\n",
       "    </tr>\n",
       "    <tr>\n",
       "      <th>25841.0</th>\n",
       "      <td>0.571429</td>\n",
       "      <td>13.0</td>\n",
       "      <td>13.0</td>\n",
       "      <td>-3.0</td>\n",
       "      <td>0.090909</td>\n",
       "      <td>0.428571</td>\n",
       "    </tr>\n",
       "    <tr>\n",
       "      <th>25842.0</th>\n",
       "      <td>1.190476</td>\n",
       "      <td>16.0</td>\n",
       "      <td>19.0</td>\n",
       "      <td>-25.0</td>\n",
       "      <td>0.181818</td>\n",
       "      <td>0.380952</td>\n",
       "    </tr>\n",
       "    <tr>\n",
       "      <th>25843.0</th>\n",
       "      <td>11.428571</td>\n",
       "      <td>5.0</td>\n",
       "      <td>2.0</td>\n",
       "      <td>23.0</td>\n",
       "      <td>0.045455</td>\n",
       "      <td>0.047619</td>\n",
       "    </tr>\n",
       "    <tr>\n",
       "      <th>25844.0</th>\n",
       "      <td>0.095238</td>\n",
       "      <td>20.0</td>\n",
       "      <td>16.0</td>\n",
       "      <td>27.0</td>\n",
       "      <td>0.181818</td>\n",
       "      <td>0.571429</td>\n",
       "    </tr>\n",
       "    <tr>\n",
       "      <th>25845.0</th>\n",
       "      <td>3.857143</td>\n",
       "      <td>11.0</td>\n",
       "      <td>5.0</td>\n",
       "      <td>-22.0</td>\n",
       "      <td>0.227273</td>\n",
       "      <td>0.190476</td>\n",
       "    </tr>\n",
       "  </tbody>\n",
       "</table>\n",
       "<p>2220 rows × 6 columns</p>\n",
       "</div>"
      ],
      "text/plain": [
       "          Drivers points  Qualifying position  Result_Race-1  \\\n",
       "ResultId                                                       \n",
       "23419.0        21.500000                  3.0            2.0   \n",
       "23420.0        21.500000                  2.0            1.0   \n",
       "23421.0        11.500000                  1.0            6.0   \n",
       "23422.0        11.000000                  5.0            5.0   \n",
       "23423.0         6.000000                  4.0            4.0   \n",
       "...                  ...                  ...            ...   \n",
       "25841.0         0.571429                 13.0           13.0   \n",
       "25842.0         1.190476                 16.0           19.0   \n",
       "25843.0        11.428571                  5.0            2.0   \n",
       "25844.0         0.095238                 20.0           16.0   \n",
       "25845.0         3.857143                 11.0            5.0   \n",
       "\n",
       "          Total gained/lost positions  Index DNF/Driver  Average Lost laps  \n",
       "ResultId                                                                    \n",
       "23419.0                           1.0          0.600000           0.000000  \n",
       "23420.0                          -1.0          0.000000           0.000000  \n",
       "23421.0                          -3.0          0.300000           0.000000  \n",
       "23422.0                          -1.0          0.900000           0.000000  \n",
       "23423.0                           5.0          1.800000           0.000000  \n",
       "...                               ...               ...                ...  \n",
       "25841.0                          -3.0          0.090909           0.428571  \n",
       "25842.0                         -25.0          0.181818           0.380952  \n",
       "25843.0                          23.0          0.045455           0.047619  \n",
       "25844.0                          27.0          0.181818           0.571429  \n",
       "25845.0                         -22.0          0.227273           0.190476  \n",
       "\n",
       "[2220 rows x 6 columns]"
      ]
     },
     "execution_count": 92,
     "metadata": {},
     "output_type": "execute_result"
    }
   ],
   "source": [
    "X"
   ]
  },
  {
   "cell_type": "code",
   "execution_count": 93,
   "metadata": {},
   "outputs": [
    {
     "name": "stdout",
     "output_type": "stream",
     "text": [
      "<class 'pandas.core.frame.DataFrame'>\n",
      "Float64Index: 2220 entries, 23419.0 to 25845.0\n",
      "Data columns (total 6 columns):\n",
      " #   Column                       Non-Null Count  Dtype  \n",
      "---  ------                       --------------  -----  \n",
      " 0   Drivers points               2220 non-null   float64\n",
      " 1   Qualifying position          2220 non-null   float64\n",
      " 2   Result_Race-1                2220 non-null   float64\n",
      " 3   Total gained/lost positions  2220 non-null   float64\n",
      " 4   Index DNF/Driver             2220 non-null   float64\n",
      " 5   Average Lost laps            2220 non-null   float64\n",
      "dtypes: float64(6)\n",
      "memory usage: 121.4 KB\n"
     ]
    }
   ],
   "source": [
    "X.info()"
   ]
  },
  {
   "cell_type": "code",
   "execution_count": 33,
   "metadata": {},
   "outputs": [],
   "source": [
    "from sklearn.model_selection import train_test_split\n",
    "\n",
    "X_train, X_test, y_train, y_test = train_test_split(X, y, test_size=200, shuffle=False)"
   ]
  },
  {
   "cell_type": "code",
   "execution_count": 60,
   "metadata": {},
   "outputs": [],
   "source": [
    "from sklearn.preprocessing import StandardScaler\n",
    "scaler = StandardScaler()\n",
    "scaler.fit(X_train)\n",
    "X_train_scal = scaler.transform(X_train)\n",
    "X_test_scal = scaler.transform(X_test)"
   ]
  },
  {
   "cell_type": "code",
   "execution_count": 96,
   "metadata": {},
   "outputs": [
    {
     "name": "stdout",
     "output_type": "stream",
     "text": [
      "[1 1 1 1 1 1 1 1 1 0 0 0 0 0 1 0 0 0 0 1 1 1 1 1 1 1 1 0 0 0 0 1 0 0 0 0 0\n",
      " 0 0 1 1 1 1 1 1 0 1 1 1 0 1 0 1 0 0 0 0 0 0 0 1 1 1 1 1 1 1 1 1 0 1 0 0 0\n",
      " 0 0 1 0 1 0 1 1 1 1 0 0 1 0 1 1 0 0 0 1 0 0 0 1 0 0 1 1 1 1 1 1 1 1 0 1 1\n",
      " 0 0 0 0 0 0 0 1 0 1 1 1 1 1 1 1 0 0 0 0 0 0 0 0 0 0 1 1 1 1 1 1 1 1 1 1 1\n",
      " 1 1 0 0 0 0 0 0 0 0 1 0 1 1 1 1 1 1 1 1 0 0 0 0 0 0 0 0 0 1 1 0 1 1 1 1 1\n",
      " 1 1 0 1 1 0 0 0 0 0 0 0 1 0 1]\n"
     ]
    }
   ],
   "source": [
    "from sklearn.linear_model import LogisticRegression\n",
    "model = LogisticRegression(max_iter=1000)\n",
    "model.fit(X_train, y_train)\n",
    "predictions = model.predict(X_test)\n",
    "print(predictions)"
   ]
  },
  {
   "cell_type": "code",
   "execution_count": 97,
   "metadata": {},
   "outputs": [],
   "source": [
    "from sklearn.ensemble import RandomForestClassifier\n",
    "from sklearn.metrics import accuracy_score"
   ]
  },
  {
   "cell_type": "code",
   "execution_count": 98,
   "metadata": {},
   "outputs": [],
   "source": [
    "# model = RandomForestClassifier(n_estimators=200,\n",
    "#                                  max_leaf_nodes=32,\n",
    "#                                  max_depth= 10,\n",
    "#                                  random_state=42)\n",
    "# model.fit(X_train, y_train)\n",
    "\n",
    "# y_pred_rf = model.predict(X_test)\n",
    "# # np.sum(y_test == y_pred_rf) / len(y_test) \n",
    "# accuracy_score(y_test, y_pred_rf)"
   ]
  },
  {
   "cell_type": "code",
   "execution_count": 99,
   "metadata": {},
   "outputs": [
    {
     "name": "stderr",
     "output_type": "stream",
     "text": [
      "c:\\Users\\ramon\\AppData\\Local\\Programs\\Python\\Python37\\lib\\site-packages\\sklearn\\model_selection\\_validation.py:372: FitFailedWarning: \n",
      "50 fits failed out of a total of 210.\n",
      "The score on these train-test partitions for these parameters will be set to nan.\n",
      "If these failures are not expected, you can try to debug them by setting error_score='raise'.\n",
      "\n",
      "Below are more details about the failures:\n",
      "--------------------------------------------------------------------------------\n",
      "1 fits failed with the following error:\n",
      "Traceback (most recent call last):\n",
      "  File \"c:\\Users\\ramon\\AppData\\Local\\Programs\\Python\\Python37\\lib\\site-packages\\sklearn\\model_selection\\_validation.py\", line 680, in _fit_and_score\n",
      "    estimator.fit(X_train, y_train, **fit_params)\n",
      "  File \"c:\\Users\\ramon\\AppData\\Local\\Programs\\Python\\Python37\\lib\\site-packages\\sklearn\\pipeline.py\", line 394, in fit\n",
      "    self._final_estimator.fit(Xt, y, **fit_params_last_step)\n",
      "  File \"c:\\Users\\ramon\\AppData\\Local\\Programs\\Python\\Python37\\lib\\site-packages\\xgboost\\core.py\", line 575, in inner_f\n",
      "    return f(**kwargs)\n",
      "  File \"c:\\Users\\ramon\\AppData\\Local\\Programs\\Python\\Python37\\lib\\site-packages\\xgboost\\sklearn.py\", line 1577, in fit\n",
      "    super().fit(**args)\n",
      "  File \"c:\\Users\\ramon\\AppData\\Local\\Programs\\Python\\Python37\\lib\\site-packages\\xgboost\\core.py\", line 575, in inner_f\n",
      "    return f(**kwargs)\n",
      "  File \"c:\\Users\\ramon\\AppData\\Local\\Programs\\Python\\Python37\\lib\\site-packages\\xgboost\\sklearn.py\", line 1411, in fit\n",
      "    callbacks=callbacks,\n",
      "  File \"c:\\Users\\ramon\\AppData\\Local\\Programs\\Python\\Python37\\lib\\site-packages\\xgboost\\core.py\", line 575, in inner_f\n",
      "    return f(**kwargs)\n",
      "  File \"c:\\Users\\ramon\\AppData\\Local\\Programs\\Python\\Python37\\lib\\site-packages\\xgboost\\training.py\", line 181, in train\n",
      "    bst.update(dtrain, i, obj)\n",
      "  File \"c:\\Users\\ramon\\AppData\\Local\\Programs\\Python\\Python37\\lib\\site-packages\\xgboost\\core.py\", line 1780, in update\n",
      "    dtrain.handle))\n",
      "  File \"c:\\Users\\ramon\\AppData\\Local\\Programs\\Python\\Python37\\lib\\site-packages\\xgboost\\core.py\", line 246, in _check_call\n",
      "    raise XGBoostError(py_str(_LIB.XGBGetLastError()))\n",
      "xgboost.core.XGBoostError: [17:01:08] C:\\Users\\administrator\\workspace\\xgboost-win64_release_1.6.0\\src\\gbm\\gbm.cc:24: Unknown gbm type gbooster\n",
      "\n",
      "--------------------------------------------------------------------------------\n",
      "49 fits failed with the following error:\n",
      "Traceback (most recent call last):\n",
      "  File \"c:\\Users\\ramon\\AppData\\Local\\Programs\\Python\\Python37\\lib\\site-packages\\sklearn\\model_selection\\_validation.py\", line 680, in _fit_and_score\n",
      "    estimator.fit(X_train, y_train, **fit_params)\n",
      "  File \"c:\\Users\\ramon\\AppData\\Local\\Programs\\Python\\Python37\\lib\\site-packages\\sklearn\\pipeline.py\", line 394, in fit\n",
      "    self._final_estimator.fit(Xt, y, **fit_params_last_step)\n",
      "  File \"c:\\Users\\ramon\\AppData\\Local\\Programs\\Python\\Python37\\lib\\site-packages\\xgboost\\core.py\", line 575, in inner_f\n",
      "    return f(**kwargs)\n",
      "  File \"c:\\Users\\ramon\\AppData\\Local\\Programs\\Python\\Python37\\lib\\site-packages\\xgboost\\sklearn.py\", line 1577, in fit\n",
      "    super().fit(**args)\n",
      "  File \"c:\\Users\\ramon\\AppData\\Local\\Programs\\Python\\Python37\\lib\\site-packages\\xgboost\\core.py\", line 575, in inner_f\n",
      "    return f(**kwargs)\n",
      "  File \"c:\\Users\\ramon\\AppData\\Local\\Programs\\Python\\Python37\\lib\\site-packages\\xgboost\\sklearn.py\", line 1411, in fit\n",
      "    callbacks=callbacks,\n",
      "  File \"c:\\Users\\ramon\\AppData\\Local\\Programs\\Python\\Python37\\lib\\site-packages\\xgboost\\core.py\", line 575, in inner_f\n",
      "    return f(**kwargs)\n",
      "  File \"c:\\Users\\ramon\\AppData\\Local\\Programs\\Python\\Python37\\lib\\site-packages\\xgboost\\training.py\", line 181, in train\n",
      "    bst.update(dtrain, i, obj)\n",
      "  File \"c:\\Users\\ramon\\AppData\\Local\\Programs\\Python\\Python37\\lib\\site-packages\\xgboost\\core.py\", line 1780, in update\n",
      "    dtrain.handle))\n",
      "  File \"c:\\Users\\ramon\\AppData\\Local\\Programs\\Python\\Python37\\lib\\site-packages\\xgboost\\core.py\", line 246, in _check_call\n",
      "    raise XGBoostError(py_str(_LIB.XGBGetLastError()))\n",
      "xgboost.core.XGBoostError: [17:01:09] C:\\Users\\administrator\\workspace\\xgboost-win64_release_1.6.0\\src\\gbm\\gbm.cc:24: Unknown gbm type gbooster\n",
      "\n",
      "  warnings.warn(some_fits_failed_message, FitFailedWarning)\n",
      "c:\\Users\\ramon\\AppData\\Local\\Programs\\Python\\Python37\\lib\\site-packages\\sklearn\\model_selection\\_search.py:972: UserWarning: One or more of the test scores are non-finite: [0.76039604 0.75990099 0.7549505  0.75148515 0.77029703 0.76881188\n",
      " 0.76732673 0.76881188 0.77128713 0.76980198 0.76881188 0.77079208\n",
      " 0.76039604 0.77623762 0.77871287 0.77871287        nan        nan\n",
      "        nan        nan        nan]\n",
      "  category=UserWarning,\n"
     ]
    },
    {
     "data": {
      "text/plain": [
       "GridSearchCV(cv=10,\n",
       "             estimator=Pipeline(steps=[('imputer', SimpleImputer()),\n",
       "                                       ('classifier',\n",
       "                                        RandomForestClassifier())]),\n",
       "             param_grid=[{'classifier': [RandomForestClassifier(random_state=19)],\n",
       "                          'classifier__max_depth': [2, 3, 4],\n",
       "                          'classifier__max_features': [3, 4, 5, 6]},\n",
       "                         {'classifier': [SVC(C=0.5, random_state=19)],\n",
       "                          'classifier__C': [0.001, 0.1, 0.5, 1]},\n",
       "                         {'classifier': [XGBR...\n",
       "                                                         missing=nan,\n",
       "                                                         monotone_constraints=None,\n",
       "                                                         n_estimators=100,\n",
       "                                                         n_jobs=None,\n",
       "                                                         num_parallel_tree=None,\n",
       "                                                         objective='binary:logistic',\n",
       "                                                         predictor=None,\n",
       "                                                         random_state=19,\n",
       "                                                         reg_alpha=None,\n",
       "                                                         sampling_method=None,\n",
       "                                                         scale_pos_weight=None, ...)],\n",
       "                          'classifier__booster': ['gbooster'],\n",
       "                          'classifier__learning_rate': [0.01, 0.1, 0.25, 0.5,\n",
       "                                                        1],\n",
       "                          'classifier__n_estimators': [200]}],\n",
       "             scoring='accuracy')"
      ]
     },
     "execution_count": 99,
     "metadata": {},
     "output_type": "execute_result"
    }
   ],
   "source": [
    "from sklearn.pipeline import Pipeline\n",
    "from sklearn import svm, datasets\n",
    "from sklearn.model_selection import GridSearchCV\n",
    "from sklearn.impute import SimpleImputer\n",
    "from sklearn.metrics import recall_score\n",
    "from sklearn.neighbors import KNeighborsClassifier\n",
    "import xgboost\n",
    "\n",
    "pipe = Pipeline(steps=[('imputer', SimpleImputer()),\n",
    "    ('classifier', RandomForestClassifier())\n",
    "])\n",
    "\n",
    "# logistic_params = {\n",
    "#     'classifier': [LogisticRegression(max_iter=1000, solver='liblinear', random_state=19)],\n",
    "#     'classifier__penalty': ['l1', 'l2']\n",
    "# }\n",
    "\n",
    "random_forest_params = {\n",
    "    'classifier': [RandomForestClassifier(random_state=19)],\n",
    "    'classifier__max_features': [3,4,5,6],\n",
    "    'classifier__max_depth': [3,4,5,6]\n",
    "}\n",
    "\n",
    "svm_param = {\n",
    "    'classifier': [svm.SVC(random_state=19)],\n",
    "    'classifier__C': [0.001, 0.1, 0.5, 1],\n",
    "}\n",
    "\n",
    "# knn_param = {\n",
    "#     'classifier': [KNeighborsClassifier()],\n",
    "#     'classifier__n_neighbors': [2,3,4,5,10]\n",
    "# }\n",
    "\n",
    "xgb_param = {\n",
    "    'classifier': [xgboost.XGBRFClassifier(random_state=19)],\n",
    "    'classifier__n_estimators': [200],\n",
    "    'classifier__booster': ['gbooster'],\n",
    "    'classifier__learning_rate': [0.01, 0.1, 0.25, 0.5, 1]\n",
    "}\n",
    "\n",
    "\n",
    "search_space = [\n",
    "    random_forest_params,\n",
    "    svm_param,\n",
    "    xgb_param\n",
    "]\n",
    "\n",
    "clf = GridSearchCV(estimator = pipe,\n",
    "                  param_grid = search_space,\n",
    "                  cv = 10,\n",
    "                  scoring= \"accuracy\")\n",
    "\n",
    "clf.fit(X_train_scal, y_train)"
   ]
  },
  {
   "cell_type": "code",
   "execution_count": 100,
   "metadata": {},
   "outputs": [
    {
     "data": {
      "text/plain": [
       "{'classifier': SVC(C=0.5, random_state=19), 'classifier__C': 0.5}"
      ]
     },
     "execution_count": 100,
     "metadata": {},
     "output_type": "execute_result"
    }
   ],
   "source": [
    "clf.best_params_"
   ]
  },
  {
   "cell_type": "code",
   "execution_count": 116,
   "metadata": {},
   "outputs": [
    {
     "data": {
      "text/plain": [
       "RandomForestClassifier(max_depth=5, max_features=5, max_leaf_nodes=8,\n",
       "                       n_estimators=200, random_state=42)"
      ]
     },
     "execution_count": 116,
     "metadata": {},
     "output_type": "execute_result"
    }
   ],
   "source": [
    "rnd_clf = RandomForestClassifier(n_estimators=200,\n",
    "                                 max_features = 5,\n",
    "                                 max_depth = 5,\n",
    "                                 max_leaf_nodes=8,\n",
    "                                 random_state=42)\n",
    "rnd_clf.fit(X_train_scal, y_train)"
   ]
  },
  {
   "cell_type": "code",
   "execution_count": 109,
   "metadata": {},
   "outputs": [
    {
     "data": {
      "text/plain": [
       "GridSearchCV(cv=5, estimator=RandomForestClassifier(), n_jobs=-1,\n",
       "             param_grid={'max_depth': [3, 4, 5, 6],\n",
       "                         'max_features': [3, 4, 5, 6],\n",
       "                         'max_leaf_nodes': [8, 16, 24], 'n_estimators': [200],\n",
       "                         'random_state': [42]},\n",
       "             scoring='accuracy')"
      ]
     },
     "execution_count": 109,
     "metadata": {},
     "output_type": "execute_result"
    }
   ],
   "source": [
    "parameters = {'n_estimators': [200],\n",
    "             'max_features' : [3,4,5,6],\n",
    "             \"max_depth\" : [3,4,5,6],\n",
    "             \"max_leaf_nodes\": [8, 16, 24],\n",
    "             \"random_state\" : [42]\n",
    "}\n",
    "\n",
    "rnd_clf = RandomForestClassifier()\n",
    "\n",
    "rnd_clfCV = GridSearchCV(estimator = rnd_clf,\n",
    "                  param_grid = parameters,\n",
    "                  n_jobs = -1,\n",
    "                  cv = 5,\n",
    "                  scoring=\"accuracy\")\n",
    "\n",
    "rnd_clfCV.fit(X_train_scal, y_train)"
   ]
  },
  {
   "cell_type": "code",
   "execution_count": 118,
   "metadata": {},
   "outputs": [
    {
     "name": "stdout",
     "output_type": "stream",
     "text": [
      "[1 1 1 1 1 1 1 1 1 0 0 0 0 0 1 0 0 0 0 1 1 1 1 1 1 1 1 0 0 0 0 1 0 0 0 0 0\n",
      " 0 0 1 1 1 1 1 1 0 1 1 1 0 0 0 0 0 0 0 0 0 0 0 1 1 1 1 1 1 1 1 0 0 1 0 0 0\n",
      " 0 0 0 0 1 0 1 1 1 1 0 0 1 0 1 1 0 0 0 1 0 0 0 1 0 0 1 1 1 1 1 1 1 1 0 1 1\n",
      " 0 0 0 1 0 0 0 1 0 1 1 1 1 1 1 1 1 0 0 0 0 0 0 0 0 0 1 0 1 1 1 1 1 1 1 0 1\n",
      " 1 1 0 0 0 0 0 0 0 0 1 0 1 1 1 1 1 1 1 1 0 0 0 0 0 0 0 0 0 1 1 0 1 1 1 1 1\n",
      " 1 1 0 0 1 0 0 0 0 0 0 0 1 0 1]\n"
     ]
    }
   ],
   "source": [
    "predictions = rnd_clf.predict(X_test_scal)\n",
    "print(predictions)"
   ]
  },
  {
   "cell_type": "code",
   "execution_count": 110,
   "metadata": {},
   "outputs": [
    {
     "data": {
      "text/plain": [
       "{'max_depth': 6,\n",
       " 'max_features': 4,\n",
       " 'max_leaf_nodes': 16,\n",
       " 'n_estimators': 200,\n",
       " 'random_state': 42}"
      ]
     },
     "execution_count": 110,
     "metadata": {},
     "output_type": "execute_result"
    }
   ],
   "source": [
    "rnd_clfCV.best_params_"
   ]
  },
  {
   "cell_type": "code",
   "execution_count": 105,
   "metadata": {},
   "outputs": [],
   "source": [
    "# predicions_proba = clf.predict_proba(X_test)\n",
    "# print(np.round(np.array(predicions_proba), 2))"
   ]
  },
  {
   "cell_type": "code",
   "execution_count": 114,
   "metadata": {},
   "outputs": [
    {
     "data": {
      "text/html": [
       "<div>\n",
       "<style scoped>\n",
       "    .dataframe tbody tr th:only-of-type {\n",
       "        vertical-align: middle;\n",
       "    }\n",
       "\n",
       "    .dataframe tbody tr th {\n",
       "        vertical-align: top;\n",
       "    }\n",
       "\n",
       "    .dataframe thead th {\n",
       "        text-align: right;\n",
       "    }\n",
       "</style>\n",
       "<table border=\"1\" class=\"dataframe\">\n",
       "  <thead>\n",
       "    <tr style=\"text-align: right;\">\n",
       "      <th></th>\n",
       "      <th>reales</th>\n",
       "    </tr>\n",
       "    <tr>\n",
       "      <th>predicciones</th>\n",
       "      <th></th>\n",
       "    </tr>\n",
       "  </thead>\n",
       "  <tbody>\n",
       "    <tr>\n",
       "      <th>0</th>\n",
       "      <td>100</td>\n",
       "    </tr>\n",
       "    <tr>\n",
       "      <th>1</th>\n",
       "      <td>100</td>\n",
       "    </tr>\n",
       "  </tbody>\n",
       "</table>\n",
       "</div>"
      ],
      "text/plain": [
       "              reales\n",
       "predicciones        \n",
       "0                100\n",
       "1                100"
      ]
     },
     "execution_count": 114,
     "metadata": {},
     "output_type": "execute_result"
    }
   ],
   "source": [
    "comprob = pd.DataFrame(data={'reales': y_test, 'predicciones': predictions})\n",
    "comprob.groupby(['predicciones']).count()"
   ]
  },
  {
   "cell_type": "code",
   "execution_count": 119,
   "metadata": {},
   "outputs": [
    {
     "data": {
      "image/png": "[encoded data removed]",
      "text/plain": [
       "<Figure size 640x480 with 2 Axes>"
      ]
     },
     "metadata": {},
     "output_type": "display_data"
    }
   ],
   "source": [
    "from sklearn.metrics import accuracy_score, confusion_matrix\n",
    "# sns.heatmap(confusion_matrix(y_test, predictions, normalize='true'), annot=True, \n",
    "#              fmt='.2%', cmap='Blues', xticklabels=('1-5', '6-10', '11-15', '16-20'), yticklabels=('1-5', '6-10', '11-15', '16-20'));\n",
    "sns.heatmap(confusion_matrix(y_test, predictions), annot=True, \n",
    "             cmap='Blues', xticklabels=np.unique(predictions), yticklabels=np.unique(predictions));"
   ]
  },
  {
   "cell_type": "code",
   "execution_count": 120,
   "metadata": {},
   "outputs": [
    {
     "data": {
      "text/plain": [
       "<AxesSubplot:xlabel='feature'>"
      ]
     },
     "execution_count": 120,
     "metadata": {},
     "output_type": "execute_result"
    },
    {
     "data": {
      "image/png": "[encoded data removed]",
      "text/plain": [
       "<Figure size 640x480 with 1 Axes>"
      ]
     },
     "metadata": {},
     "output_type": "display_data"
    }
   ],
   "source": [
    "importances = pd.DataFrame({'feature':X_train.columns,'importance':np.round(rnd_clf.feature_importances_,3)})\n",
    "importances = importances.sort_values('importance',ascending=False).set_index('feature')\n",
    "\n",
    "importances.plot.bar()"
   ]
  },
  {
   "cell_type": "code",
   "execution_count": null,
   "metadata": {},
   "outputs": [
    {
     "name": "stdout",
     "output_type": "stream",
     "text": [
      "Acierto: 81.5 %\n",
      "Error: 18.5 %\n"
     ]
    }
   ],
   "source": [
    "acierto = accuracy_score(y_test, predictions)\n",
    "\n",
    "error = 1 - acierto\n",
    "print(\"Acierto:\", round(acierto*100, 2), \"%\")\n",
    "print(\"Error:\", round(error*100, 2), \"%\")"
   ]
  },
  {
   "cell_type": "code",
   "execution_count": 142,
   "metadata": {},
   "outputs": [],
   "source": [
    "import pickle\n",
    "\n",
    "with open('modelo.model', \"wb\") as archivo_salida:\n",
    "    pickle.dump(rnd_clf, archivo_salida)\n"
   ]
  },
  {
   "cell_type": "code",
   "execution_count": 143,
   "metadata": {},
   "outputs": [
    {
     "name": "stdout",
     "output_type": "stream",
     "text": [
      "RandomForestClassifier(max_depth=5, max_features=5, max_leaf_nodes=8,\n",
      "                       n_estimators=200, random_state=42)\n"
     ]
    }
   ],
   "source": [
    "with open('modelo.model', \"rb\") as archivo_entrada:\n",
    "    pipeline_importada = pickle.load(archivo_entrada)\n",
    "    \n",
    "print(pipeline_importada)"
   ]
  },
  {
   "cell_type": "code",
   "execution_count": 68,
   "metadata": {},
   "outputs": [],
   "source": [
    "X_train.to_csv('X_train.csv')"
   ]
  },
  {
   "cell_type": "code",
   "execution_count": 69,
   "metadata": {},
   "outputs": [],
   "source": [
    "y_train.to_csv('y_train.csv')"
   ]
  },
  {
   "cell_type": "code",
   "execution_count": 58,
   "metadata": {},
   "outputs": [],
   "source": [
    "y_test.to_csv('y_test.csv')"
   ]
  },
  {
   "cell_type": "code",
   "execution_count": 67,
   "metadata": {},
   "outputs": [],
   "source": [
    "X_test.to_csv('x_test.csv')"
   ]
  },
  {
   "cell_type": "code",
   "execution_count": 57,
   "metadata": {},
   "outputs": [
    {
     "data": {
      "text/html": [
       "<div>\n",
       "<style scoped>\n",
       "    .dataframe tbody tr th:only-of-type {\n",
       "        vertical-align: middle;\n",
       "    }\n",
       "\n",
       "    .dataframe tbody tr th {\n",
       "        vertical-align: top;\n",
       "    }\n",
       "\n",
       "    .dataframe thead th {\n",
       "        text-align: right;\n",
       "    }\n",
       "</style>\n",
       "<table border=\"1\" class=\"dataframe\">\n",
       "  <thead>\n",
       "    <tr style=\"text-align: right;\">\n",
       "      <th></th>\n",
       "      <th>Drivers points</th>\n",
       "      <th>Qualifying position</th>\n",
       "      <th>Result_Race-1</th>\n",
       "      <th>Total gained/lost positions</th>\n",
       "      <th>Index DNF/Driver</th>\n",
       "      <th>Average Lost laps</th>\n",
       "    </tr>\n",
       "    <tr>\n",
       "      <th>ResultId</th>\n",
       "      <th></th>\n",
       "      <th></th>\n",
       "      <th></th>\n",
       "      <th></th>\n",
       "      <th></th>\n",
       "      <th></th>\n",
       "    </tr>\n",
       "  </thead>\n",
       "  <tbody>\n",
       "    <tr>\n",
       "      <th>23419.0</th>\n",
       "      <td>21.500000</td>\n",
       "      <td>3.0</td>\n",
       "      <td>2.0</td>\n",
       "      <td>1.0</td>\n",
       "      <td>0.600000</td>\n",
       "      <td>0.000000</td>\n",
       "    </tr>\n",
       "    <tr>\n",
       "      <th>23420.0</th>\n",
       "      <td>21.500000</td>\n",
       "      <td>2.0</td>\n",
       "      <td>1.0</td>\n",
       "      <td>-1.0</td>\n",
       "      <td>0.000000</td>\n",
       "      <td>0.000000</td>\n",
       "    </tr>\n",
       "    <tr>\n",
       "      <th>23421.0</th>\n",
       "      <td>11.500000</td>\n",
       "      <td>1.0</td>\n",
       "      <td>6.0</td>\n",
       "      <td>-3.0</td>\n",
       "      <td>0.300000</td>\n",
       "      <td>0.000000</td>\n",
       "    </tr>\n",
       "    <tr>\n",
       "      <th>23422.0</th>\n",
       "      <td>11.000000</td>\n",
       "      <td>5.0</td>\n",
       "      <td>5.0</td>\n",
       "      <td>-1.0</td>\n",
       "      <td>0.900000</td>\n",
       "      <td>0.000000</td>\n",
       "    </tr>\n",
       "    <tr>\n",
       "      <th>23423.0</th>\n",
       "      <td>6.000000</td>\n",
       "      <td>4.0</td>\n",
       "      <td>4.0</td>\n",
       "      <td>5.0</td>\n",
       "      <td>1.800000</td>\n",
       "      <td>0.000000</td>\n",
       "    </tr>\n",
       "    <tr>\n",
       "      <th>...</th>\n",
       "      <td>...</td>\n",
       "      <td>...</td>\n",
       "      <td>...</td>\n",
       "      <td>...</td>\n",
       "      <td>...</td>\n",
       "      <td>...</td>\n",
       "    </tr>\n",
       "    <tr>\n",
       "      <th>25641.0</th>\n",
       "      <td>0.454545</td>\n",
       "      <td>18.0</td>\n",
       "      <td>14.0</td>\n",
       "      <td>-1.0</td>\n",
       "      <td>0.909091</td>\n",
       "      <td>0.272727</td>\n",
       "    </tr>\n",
       "    <tr>\n",
       "      <th>25642.0</th>\n",
       "      <td>0.000000</td>\n",
       "      <td>20.0</td>\n",
       "      <td>19.0</td>\n",
       "      <td>22.0</td>\n",
       "      <td>0.727273</td>\n",
       "      <td>0.545455</td>\n",
       "    </tr>\n",
       "    <tr>\n",
       "      <th>25643.0</th>\n",
       "      <td>2.000000</td>\n",
       "      <td>10.0</td>\n",
       "      <td>8.0</td>\n",
       "      <td>-19.0</td>\n",
       "      <td>0.727273</td>\n",
       "      <td>0.363636</td>\n",
       "    </tr>\n",
       "    <tr>\n",
       "      <th>25644.0</th>\n",
       "      <td>15.454545</td>\n",
       "      <td>1.0</td>\n",
       "      <td>1.0</td>\n",
       "      <td>-31.0</td>\n",
       "      <td>0.545455</td>\n",
       "      <td>0.000000</td>\n",
       "    </tr>\n",
       "    <tr>\n",
       "      <th>25645.0</th>\n",
       "      <td>1.000000</td>\n",
       "      <td>8.0</td>\n",
       "      <td>16.0</td>\n",
       "      <td>1.0</td>\n",
       "      <td>1.090909</td>\n",
       "      <td>0.454545</td>\n",
       "    </tr>\n",
       "  </tbody>\n",
       "</table>\n",
       "<p>2020 rows × 6 columns</p>\n",
       "</div>"
      ],
      "text/plain": [
       "          Drivers points  Qualifying position  Result_Race-1  \\\n",
       "ResultId                                                       \n",
       "23419.0        21.500000                  3.0            2.0   \n",
       "23420.0        21.500000                  2.0            1.0   \n",
       "23421.0        11.500000                  1.0            6.0   \n",
       "23422.0        11.000000                  5.0            5.0   \n",
       "23423.0         6.000000                  4.0            4.0   \n",
       "...                  ...                  ...            ...   \n",
       "25641.0         0.454545                 18.0           14.0   \n",
       "25642.0         0.000000                 20.0           19.0   \n",
       "25643.0         2.000000                 10.0            8.0   \n",
       "25644.0        15.454545                  1.0            1.0   \n",
       "25645.0         1.000000                  8.0           16.0   \n",
       "\n",
       "          Total gained/lost positions  Index DNF/Driver  Average Lost laps  \n",
       "ResultId                                                                    \n",
       "23419.0                           1.0          0.600000           0.000000  \n",
       "23420.0                          -1.0          0.000000           0.000000  \n",
       "23421.0                          -3.0          0.300000           0.000000  \n",
       "23422.0                          -1.0          0.900000           0.000000  \n",
       "23423.0                           5.0          1.800000           0.000000  \n",
       "...                               ...               ...                ...  \n",
       "25641.0                          -1.0          0.909091           0.272727  \n",
       "25642.0                          22.0          0.727273           0.545455  \n",
       "25643.0                         -19.0          0.727273           0.363636  \n",
       "25644.0                         -31.0          0.545455           0.000000  \n",
       "25645.0                           1.0          1.090909           0.454545  \n",
       "\n",
       "[2020 rows x 6 columns]"
      ]
     },
     "execution_count": 57,
     "metadata": {},
     "output_type": "execute_result"
    }
   ],
   "source": [
    "pd.read_csv('X_train.csv', index_col='ResultId')"
   ]
  },
  {
   "cell_type": "code",
   "execution_count": 70,
   "metadata": {},
   "outputs": [
    {
     "ename": "NameError",
     "evalue": "name 'pipeline_importada' is not defined",
     "output_type": "error",
     "traceback": [
      "\u001b[1;31m---------------------------------------------------------------------------\u001b[0m",
      "\u001b[1;31mNameError\u001b[0m                                 Traceback (most recent call last)",
      "\u001b[1;32m~\\AppData\\Local\\Temp\\ipykernel_16144\\426297613.py\u001b[0m in \u001b[0;36m<module>\u001b[1;34m\u001b[0m\n\u001b[1;32m----> 1\u001b[1;33m \u001b[0mpipeline_importada\u001b[0m\u001b[1;33m.\u001b[0m\u001b[0mpredict\u001b[0m\u001b[1;33m(\u001b[0m\u001b[0mX_test\u001b[0m\u001b[1;33m)\u001b[0m\u001b[1;33m\u001b[0m\u001b[1;33m\u001b[0m\u001b[0m\n\u001b[0m",
      "\u001b[1;31mNameError\u001b[0m: name 'pipeline_importada' is not defined"
     ]
    }
   ],
   "source": [
    "pipeline_importada.predict(X_test)"
   ]
  },
  {
   "cell_type": "code",
   "execution_count": 144,
   "metadata": {},
   "outputs": [
    {
     "data": {
      "text/plain": [
       "array([[0.22319737, 0.77680263],\n",
       "       [0.17886144, 0.82113856],\n",
       "       [0.12462905, 0.87537095],\n",
       "       [0.12191749, 0.87808251],\n",
       "       [0.22844796, 0.77155204],\n",
       "       [0.12001579, 0.87998421],\n",
       "       [0.12965429, 0.87034571],\n",
       "       [0.21193155, 0.78806845],\n",
       "       [0.14821277, 0.85178723],\n",
       "       [0.80928411, 0.19071589],\n",
       "       [0.85305709, 0.14694291],\n",
       "       [0.78416443, 0.21583557],\n",
       "       [0.66422997, 0.33577003],\n",
       "       [0.82389646, 0.17610354],\n",
       "       [0.41896717, 0.58103283],\n",
       "       [0.6930647 , 0.3069353 ],\n",
       "       [0.88471611, 0.11528389],\n",
       "       [0.89164856, 0.10835144],\n",
       "       [0.83303322, 0.16696678],\n",
       "       [0.26423417, 0.73576583]])"
      ]
     },
     "execution_count": 144,
     "metadata": {},
     "output_type": "execute_result"
    }
   ],
   "source": [
    "pipeline_importada.predict_proba(X_test_scal)[-200:-180]"
   ]
  },
  {
   "cell_type": "markdown",
   "metadata": {},
   "source": []
  }
 ],
 "metadata": {
  "kernelspec": {
   "display_name": "Python 3",
   "language": "python",
   "name": "python3"
  },
  "language_info": {
   "codemirror_mode": {
    "name": "ipython",
    "version": 3
   },
   "file_extension": ".py",
   "mimetype": "text/x-python",
   "name": "python",
   "nbconvert_exporter": "python",
   "pygments_lexer": "ipython3",
   "version": "3.7.4"
  },
  "orig_nbformat": 4,
  "vscode": {
   "interpreter": {
    "hash": "a6bc3b96fe2a5faf034119f77c25779006d8f31484ccb855ea416176cb208743"
   }
  }
 },
 "nbformat": 4,
 "nbformat_minor": 2
}
