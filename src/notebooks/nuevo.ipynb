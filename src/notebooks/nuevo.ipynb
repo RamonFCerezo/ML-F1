{
 "cells": [
  {
   "cell_type": "code",
   "execution_count": 90,
   "metadata": {},
   "outputs": [],
   "source": [
    "import pandas as pd\n",
    "import numpy as np\n",
    "import seaborn as sns\n",
    "import matplotlib.pyplot as plt"
   ]
  },
  {
   "cell_type": "code",
   "execution_count": 91,
   "metadata": {},
   "outputs": [],
   "source": [
    "df = pd.read_csv('F1.csv', index_col='ResultId')\n",
    "df.head()\n",
    "\n",
    "X = df[['Drivers points', 'Qualifying position', 'Total gained/lost positions', 'Start from Pitlane', 'Index DNF/Driver', \n",
    "    'Average Lost laps']]\n",
    "\n",
    "y = df['Final position']"
   ]
  },
  {
   "cell_type": "code",
   "execution_count": 92,
   "metadata": {},
   "outputs": [],
   "source": [
    "from sklearn.model_selection import train_test_split\n",
    "\n",
    "X_train, X_test, y_train, y_test = train_test_split(X, y, test_size=200, shuffle=False)"
   ]
  },
  {
   "cell_type": "code",
   "execution_count": 93,
   "metadata": {},
   "outputs": [],
   "source": [
    "from sklearn.preprocessing import StandardScaler\n",
    "scaler = StandardScaler()\n",
    "scaler.fit(X_train)\n",
    "X_train_scal = scaler.transform(X_train)\n",
    "X_test_scal = scaler.transform(X_test)"
   ]
  },
  {
   "cell_type": "code",
   "execution_count": 94,
   "metadata": {},
   "outputs": [
    {
     "name": "stdout",
     "output_type": "stream",
     "text": [
      "[ 6.52793505  7.06474737  4.30318467  4.4720058   7.86996098  4.50560427\n",
      "  6.5445171   8.06015639  7.23848605 13.15491146 12.07372928 15.31575355\n",
      " 11.76186845 12.30998662  9.51448956 11.18387007 13.33776882 14.69975349\n",
      " 12.69597296  8.6629504   2.99446159  4.96311792  5.18775571  7.18880049\n",
      "  8.74072713  5.33550181  7.61773853 12.7530723  13.0089355  10.70878378\n",
      " 12.41418673  9.17150589 16.58087578 12.79934656 10.77557456 13.77174334\n",
      " 12.64158802 14.04448996 14.0699944   7.08537873  2.96498924  6.39089256\n",
      "  4.62759564  5.95048261  5.71161965 11.4282807   8.04183478  5.54798019\n",
      " 10.4206908  10.75946604 10.84785993 13.04049798  9.91295968 13.90416587\n",
      " 13.85210469 13.12611996 13.13867475 15.28152537 12.46745901 10.78492049\n",
      "  3.42496624  4.56545981  6.46075502  6.34296689  6.44732165  5.59032068\n",
      "  8.26840548 10.38805369 10.97795007 13.64560817 10.28150997 14.90850884\n",
      " 11.47340187 13.83308409 14.21146112 14.71384183  9.86944221 14.16424249\n",
      " 10.76923128 13.37370017  5.09533804  4.87666054  7.50834629  8.08240056\n",
      " 13.78670053 11.94538519  5.92943878 12.39772548  5.80831593  9.88024333\n",
      " 13.80934764 11.25842782 12.31441511 10.31270712 12.63059981 13.37279393\n",
      " 15.58083846  9.33387977 16.32451606 14.56911602  3.02437899  5.30660865\n",
      "  4.51151806  7.70268803  6.82763721  9.83220608  8.90183107  7.45582766\n",
      " 15.30000995  9.1449791  10.58241874 14.18602892 12.33177274 13.8689737\n",
      " 11.0217323  12.8866696  12.69522893 13.14190211  5.6340895  13.33634936\n",
      "  3.84291063  6.48411135  4.67929474  5.39575037  6.77377161  8.50099167\n",
      "  9.96095096 11.10280412 13.2930348  13.45782935 14.713607   13.12958459\n",
      " 11.53764949 11.70370742 14.37755445 13.1652     15.50340863  9.49099304\n",
      " 10.51804933  5.24788688  2.88297874  5.49080023  5.18869343  5.03883251\n",
      "  6.1661878   6.34593789 10.38631399  9.56812013  8.23495081  8.27886963\n",
      " 11.7257283  14.20131849 11.69804682 12.81804855 13.60608397 12.90218935\n",
      " 12.38207448 14.97391892  9.34167526 11.91921661  5.46806767  7.50704172\n",
      "  6.83668793  7.93940733  9.12106949  3.3283284   7.39891878  8.2852558\n",
      " 13.76735503 12.72581905 11.56937511 14.34617258 14.79914001 11.36952192\n",
      " 11.56917363 13.97382818 16.75001329  6.9600718   7.30461337 11.99447485\n",
      "  2.89772504  4.78602136  4.4017134   5.69461588  6.43548038  7.92074801\n",
      "  8.86202467 12.07310725  9.99213846  9.69026103 11.53045208 12.90310258\n",
      " 14.26295877 12.99177141 13.16839081 11.71373287 12.78732141  6.12497481\n",
      " 15.05755416 10.09791973]\n"
     ]
    }
   ],
   "source": [
    "from sklearn.linear_model import LinearRegression\n",
    "model = LinearRegression()\n",
    "model.fit(X_train_scal, y_train)\n",
    "predictions = model.predict(X_test_scal)\n",
    "print(predictions)"
   ]
  },
  {
   "cell_type": "code",
   "execution_count": 95,
   "metadata": {},
   "outputs": [
    {
     "name": "stdout",
     "output_type": "stream",
     "text": [
      "MAE: 3.1771242011341645\n",
      "MSE: 17.47863146046761\n",
      "RMSE: 4.180745323559857\n"
     ]
    }
   ],
   "source": [
    "from sklearn import metrics\n",
    "\n",
    "model.score(X_test_scal, y_test)\n",
    "\n",
    "print('MAE:', metrics.mean_absolute_error(y_test, predictions))\n",
    "print('MSE:', metrics.mean_squared_error(y_test, predictions))\n",
    "print('RMSE:', np.sqrt(metrics.mean_squared_error(y_test, predictions)))"
   ]
  },
  {
   "cell_type": "code",
   "execution_count": 96,
   "metadata": {},
   "outputs": [
    {
     "data": {
      "text/plain": [
       "LinearRegression()"
      ]
     },
     "execution_count": 96,
     "metadata": {},
     "output_type": "execute_result"
    }
   ],
   "source": [
    "from sklearn.preprocessing import PolynomialFeatures\n",
    "\n",
    "poly_reg = PolynomialFeatures(degree=2)\n",
    "poly_reg.fit(X_train_scal)\n",
    "X_train_poly = poly_reg.transform(X_train_scal)\n",
    "\n",
    "pol_reg_2 = LinearRegression()\n",
    "pol_reg_2.fit(X_train_poly, y_train)"
   ]
  },
  {
   "cell_type": "code",
   "execution_count": 97,
   "metadata": {},
   "outputs": [],
   "source": [
    "import pandas as pd\n",
    "import pickle"
   ]
  },
  {
   "cell_type": "code",
   "execution_count": 98,
   "metadata": {},
   "outputs": [
    {
     "name": "stdout",
     "output_type": "stream",
     "text": [
      "Pipeline(steps=[('imputer', SimpleImputer()),\n",
      "                ('classifier', SVC(C=0.5, random_state=19))])\n"
     ]
    }
   ],
   "source": [
    "with open('modelo.model', \"rb\") as archivo_entrada:\n",
    "    pipeline_importada = pickle.load(archivo_entrada)\n",
    "    \n",
    "print(pipeline_importada)"
   ]
  },
  {
   "cell_type": "code",
   "execution_count": 99,
   "metadata": {},
   "outputs": [
    {
     "ename": "ValueError",
     "evalue": "Index resultId invalid",
     "output_type": "error",
     "traceback": [
      "\u001b[1;31m---------------------------------------------------------------------------\u001b[0m",
      "\u001b[1;31mValueError\u001b[0m                                Traceback (most recent call last)",
      "\u001b[1;32m~\\AppData\\Local\\Temp\\ipykernel_30524\\699057366.py\u001b[0m in \u001b[0;36m<module>\u001b[1;34m\u001b[0m\n\u001b[1;32m----> 1\u001b[1;33m \u001b[0mX_test\u001b[0m \u001b[1;33m=\u001b[0m \u001b[0mpd\u001b[0m\u001b[1;33m.\u001b[0m\u001b[0mread_csv\u001b[0m\u001b[1;33m(\u001b[0m\u001b[1;34m'x_test.csv'\u001b[0m\u001b[1;33m,\u001b[0m \u001b[0mindex_col\u001b[0m\u001b[1;33m=\u001b[0m \u001b[1;34m'resultId'\u001b[0m\u001b[1;33m)\u001b[0m\u001b[1;33m\u001b[0m\u001b[1;33m\u001b[0m\u001b[0m\n\u001b[0m",
      "\u001b[1;32mc:\\Users\\ramon\\AppData\\Local\\Programs\\Python\\Python37\\lib\\site-packages\\pandas\\util\\_decorators.py\u001b[0m in \u001b[0;36mwrapper\u001b[1;34m(*args, **kwargs)\u001b[0m\n\u001b[0;32m    309\u001b[0m                     \u001b[0mstacklevel\u001b[0m\u001b[1;33m=\u001b[0m\u001b[0mstacklevel\u001b[0m\u001b[1;33m,\u001b[0m\u001b[1;33m\u001b[0m\u001b[1;33m\u001b[0m\u001b[0m\n\u001b[0;32m    310\u001b[0m                 )\n\u001b[1;32m--> 311\u001b[1;33m             \u001b[1;32mreturn\u001b[0m \u001b[0mfunc\u001b[0m\u001b[1;33m(\u001b[0m\u001b[1;33m*\u001b[0m\u001b[0margs\u001b[0m\u001b[1;33m,\u001b[0m \u001b[1;33m**\u001b[0m\u001b[0mkwargs\u001b[0m\u001b[1;33m)\u001b[0m\u001b[1;33m\u001b[0m\u001b[1;33m\u001b[0m\u001b[0m\n\u001b[0m\u001b[0;32m    312\u001b[0m \u001b[1;33m\u001b[0m\u001b[0m\n\u001b[0;32m    313\u001b[0m         \u001b[1;32mreturn\u001b[0m \u001b[0mwrapper\u001b[0m\u001b[1;33m\u001b[0m\u001b[1;33m\u001b[0m\u001b[0m\n",
      "\u001b[1;32mc:\\Users\\ramon\\AppData\\Local\\Programs\\Python\\Python37\\lib\\site-packages\\pandas\\io\\parsers\\readers.py\u001b[0m in \u001b[0;36mread_csv\u001b[1;34m(filepath_or_buffer, sep, delimiter, header, names, index_col, usecols, squeeze, prefix, mangle_dupe_cols, dtype, engine, converters, true_values, false_values, skipinitialspace, skiprows, skipfooter, nrows, na_values, keep_default_na, na_filter, verbose, skip_blank_lines, parse_dates, infer_datetime_format, keep_date_col, date_parser, dayfirst, cache_dates, iterator, chunksize, compression, thousands, decimal, lineterminator, quotechar, quoting, doublequote, escapechar, comment, encoding, encoding_errors, dialect, error_bad_lines, warn_bad_lines, on_bad_lines, delim_whitespace, low_memory, memory_map, float_precision, storage_options)\u001b[0m\n\u001b[0;32m    584\u001b[0m     \u001b[0mkwds\u001b[0m\u001b[1;33m.\u001b[0m\u001b[0mupdate\u001b[0m\u001b[1;33m(\u001b[0m\u001b[0mkwds_defaults\u001b[0m\u001b[1;33m)\u001b[0m\u001b[1;33m\u001b[0m\u001b[1;33m\u001b[0m\u001b[0m\n\u001b[0;32m    585\u001b[0m \u001b[1;33m\u001b[0m\u001b[0m\n\u001b[1;32m--> 586\u001b[1;33m     \u001b[1;32mreturn\u001b[0m \u001b[0m_read\u001b[0m\u001b[1;33m(\u001b[0m\u001b[0mfilepath_or_buffer\u001b[0m\u001b[1;33m,\u001b[0m \u001b[0mkwds\u001b[0m\u001b[1;33m)\u001b[0m\u001b[1;33m\u001b[0m\u001b[1;33m\u001b[0m\u001b[0m\n\u001b[0m\u001b[0;32m    587\u001b[0m \u001b[1;33m\u001b[0m\u001b[0m\n\u001b[0;32m    588\u001b[0m \u001b[1;33m\u001b[0m\u001b[0m\n",
      "\u001b[1;32mc:\\Users\\ramon\\AppData\\Local\\Programs\\Python\\Python37\\lib\\site-packages\\pandas\\io\\parsers\\readers.py\u001b[0m in \u001b[0;36m_read\u001b[1;34m(filepath_or_buffer, kwds)\u001b[0m\n\u001b[0;32m    486\u001b[0m \u001b[1;33m\u001b[0m\u001b[0m\n\u001b[0;32m    487\u001b[0m     \u001b[1;32mwith\u001b[0m \u001b[0mparser\u001b[0m\u001b[1;33m:\u001b[0m\u001b[1;33m\u001b[0m\u001b[1;33m\u001b[0m\u001b[0m\n\u001b[1;32m--> 488\u001b[1;33m         \u001b[1;32mreturn\u001b[0m \u001b[0mparser\u001b[0m\u001b[1;33m.\u001b[0m\u001b[0mread\u001b[0m\u001b[1;33m(\u001b[0m\u001b[0mnrows\u001b[0m\u001b[1;33m)\u001b[0m\u001b[1;33m\u001b[0m\u001b[1;33m\u001b[0m\u001b[0m\n\u001b[0m\u001b[0;32m    489\u001b[0m \u001b[1;33m\u001b[0m\u001b[0m\n\u001b[0;32m    490\u001b[0m \u001b[1;33m\u001b[0m\u001b[0m\n",
      "\u001b[1;32mc:\\Users\\ramon\\AppData\\Local\\Programs\\Python\\Python37\\lib\\site-packages\\pandas\\io\\parsers\\readers.py\u001b[0m in \u001b[0;36mread\u001b[1;34m(self, nrows)\u001b[0m\n\u001b[0;32m   1045\u001b[0m     \u001b[1;32mdef\u001b[0m \u001b[0mread\u001b[0m\u001b[1;33m(\u001b[0m\u001b[0mself\u001b[0m\u001b[1;33m,\u001b[0m \u001b[0mnrows\u001b[0m\u001b[1;33m=\u001b[0m\u001b[1;32mNone\u001b[0m\u001b[1;33m)\u001b[0m\u001b[1;33m:\u001b[0m\u001b[1;33m\u001b[0m\u001b[1;33m\u001b[0m\u001b[0m\n\u001b[0;32m   1046\u001b[0m         \u001b[0mnrows\u001b[0m \u001b[1;33m=\u001b[0m \u001b[0mvalidate_integer\u001b[0m\u001b[1;33m(\u001b[0m\u001b[1;34m\"nrows\"\u001b[0m\u001b[1;33m,\u001b[0m \u001b[0mnrows\u001b[0m\u001b[1;33m)\u001b[0m\u001b[1;33m\u001b[0m\u001b[1;33m\u001b[0m\u001b[0m\n\u001b[1;32m-> 1047\u001b[1;33m         \u001b[0mindex\u001b[0m\u001b[1;33m,\u001b[0m \u001b[0mcolumns\u001b[0m\u001b[1;33m,\u001b[0m \u001b[0mcol_dict\u001b[0m \u001b[1;33m=\u001b[0m \u001b[0mself\u001b[0m\u001b[1;33m.\u001b[0m\u001b[0m_engine\u001b[0m\u001b[1;33m.\u001b[0m\u001b[0mread\u001b[0m\u001b[1;33m(\u001b[0m\u001b[0mnrows\u001b[0m\u001b[1;33m)\u001b[0m\u001b[1;33m\u001b[0m\u001b[1;33m\u001b[0m\u001b[0m\n\u001b[0m\u001b[0;32m   1048\u001b[0m \u001b[1;33m\u001b[0m\u001b[0m\n\u001b[0;32m   1049\u001b[0m         \u001b[1;32mif\u001b[0m \u001b[0mindex\u001b[0m \u001b[1;32mis\u001b[0m \u001b[1;32mNone\u001b[0m\u001b[1;33m:\u001b[0m\u001b[1;33m\u001b[0m\u001b[1;33m\u001b[0m\u001b[0m\n",
      "\u001b[1;32mc:\\Users\\ramon\\AppData\\Local\\Programs\\Python\\Python37\\lib\\site-packages\\pandas\\io\\parsers\\c_parser_wrapper.py\u001b[0m in \u001b[0;36mread\u001b[1;34m(self, nrows)\u001b[0m\n\u001b[0;32m    308\u001b[0m \u001b[1;33m\u001b[0m\u001b[0m\n\u001b[0;32m    309\u001b[0m             \u001b[0mnames\u001b[0m\u001b[1;33m,\u001b[0m \u001b[0mdata\u001b[0m \u001b[1;33m=\u001b[0m \u001b[0mself\u001b[0m\u001b[1;33m.\u001b[0m\u001b[0m_do_date_conversions\u001b[0m\u001b[1;33m(\u001b[0m\u001b[0mnames\u001b[0m\u001b[1;33m,\u001b[0m \u001b[0mdata\u001b[0m\u001b[1;33m)\u001b[0m\u001b[1;33m\u001b[0m\u001b[1;33m\u001b[0m\u001b[0m\n\u001b[1;32m--> 310\u001b[1;33m             \u001b[0mindex\u001b[0m\u001b[1;33m,\u001b[0m \u001b[0mnames\u001b[0m \u001b[1;33m=\u001b[0m \u001b[0mself\u001b[0m\u001b[1;33m.\u001b[0m\u001b[0m_make_index\u001b[0m\u001b[1;33m(\u001b[0m\u001b[0mdata\u001b[0m\u001b[1;33m,\u001b[0m \u001b[0malldata\u001b[0m\u001b[1;33m,\u001b[0m \u001b[0mnames\u001b[0m\u001b[1;33m)\u001b[0m\u001b[1;33m\u001b[0m\u001b[1;33m\u001b[0m\u001b[0m\n\u001b[0m\u001b[0;32m    311\u001b[0m \u001b[1;33m\u001b[0m\u001b[0m\n\u001b[0;32m    312\u001b[0m         \u001b[1;31m# maybe create a mi on the columns\u001b[0m\u001b[1;33m\u001b[0m\u001b[1;33m\u001b[0m\u001b[1;33m\u001b[0m\u001b[0m\n",
      "\u001b[1;32mc:\\Users\\ramon\\AppData\\Local\\Programs\\Python\\Python37\\lib\\site-packages\\pandas\\io\\parsers\\base_parser.py\u001b[0m in \u001b[0;36m_make_index\u001b[1;34m(self, data, alldata, columns, indexnamerow)\u001b[0m\n\u001b[0;32m    413\u001b[0m \u001b[1;33m\u001b[0m\u001b[0m\n\u001b[0;32m    414\u001b[0m         \u001b[1;32melif\u001b[0m \u001b[1;32mnot\u001b[0m \u001b[0mself\u001b[0m\u001b[1;33m.\u001b[0m\u001b[0m_has_complex_date_col\u001b[0m\u001b[1;33m:\u001b[0m\u001b[1;33m\u001b[0m\u001b[1;33m\u001b[0m\u001b[0m\n\u001b[1;32m--> 415\u001b[1;33m             \u001b[0mindex\u001b[0m \u001b[1;33m=\u001b[0m \u001b[0mself\u001b[0m\u001b[1;33m.\u001b[0m\u001b[0m_get_simple_index\u001b[0m\u001b[1;33m(\u001b[0m\u001b[0malldata\u001b[0m\u001b[1;33m,\u001b[0m \u001b[0mcolumns\u001b[0m\u001b[1;33m)\u001b[0m\u001b[1;33m\u001b[0m\u001b[1;33m\u001b[0m\u001b[0m\n\u001b[0m\u001b[0;32m    416\u001b[0m             \u001b[0mindex\u001b[0m \u001b[1;33m=\u001b[0m \u001b[0mself\u001b[0m\u001b[1;33m.\u001b[0m\u001b[0m_agg_index\u001b[0m\u001b[1;33m(\u001b[0m\u001b[0mindex\u001b[0m\u001b[1;33m)\u001b[0m\u001b[1;33m\u001b[0m\u001b[1;33m\u001b[0m\u001b[0m\n\u001b[0;32m    417\u001b[0m         \u001b[1;32melif\u001b[0m \u001b[0mself\u001b[0m\u001b[1;33m.\u001b[0m\u001b[0m_has_complex_date_col\u001b[0m\u001b[1;33m:\u001b[0m\u001b[1;33m\u001b[0m\u001b[1;33m\u001b[0m\u001b[0m\n",
      "\u001b[1;32mc:\\Users\\ramon\\AppData\\Local\\Programs\\Python\\Python37\\lib\\site-packages\\pandas\\io\\parsers\\base_parser.py\u001b[0m in \u001b[0;36m_get_simple_index\u001b[1;34m(self, data, columns)\u001b[0m\n\u001b[0;32m    445\u001b[0m         \u001b[0mindex\u001b[0m \u001b[1;33m=\u001b[0m \u001b[1;33m[\u001b[0m\u001b[1;33m]\u001b[0m\u001b[1;33m\u001b[0m\u001b[1;33m\u001b[0m\u001b[0m\n\u001b[0;32m    446\u001b[0m         \u001b[1;32mfor\u001b[0m \u001b[0midx\u001b[0m \u001b[1;32min\u001b[0m \u001b[0mself\u001b[0m\u001b[1;33m.\u001b[0m\u001b[0mindex_col\u001b[0m\u001b[1;33m:\u001b[0m\u001b[1;33m\u001b[0m\u001b[1;33m\u001b[0m\u001b[0m\n\u001b[1;32m--> 447\u001b[1;33m             \u001b[0mi\u001b[0m \u001b[1;33m=\u001b[0m \u001b[0mix\u001b[0m\u001b[1;33m(\u001b[0m\u001b[0midx\u001b[0m\u001b[1;33m)\u001b[0m\u001b[1;33m\u001b[0m\u001b[1;33m\u001b[0m\u001b[0m\n\u001b[0m\u001b[0;32m    448\u001b[0m             \u001b[0mto_remove\u001b[0m\u001b[1;33m.\u001b[0m\u001b[0mappend\u001b[0m\u001b[1;33m(\u001b[0m\u001b[0mi\u001b[0m\u001b[1;33m)\u001b[0m\u001b[1;33m\u001b[0m\u001b[1;33m\u001b[0m\u001b[0m\n\u001b[0;32m    449\u001b[0m             \u001b[0mindex\u001b[0m\u001b[1;33m.\u001b[0m\u001b[0mappend\u001b[0m\u001b[1;33m(\u001b[0m\u001b[0mdata\u001b[0m\u001b[1;33m[\u001b[0m\u001b[0mi\u001b[0m\u001b[1;33m]\u001b[0m\u001b[1;33m)\u001b[0m\u001b[1;33m\u001b[0m\u001b[1;33m\u001b[0m\u001b[0m\n",
      "\u001b[1;32mc:\\Users\\ramon\\AppData\\Local\\Programs\\Python\\Python37\\lib\\site-packages\\pandas\\io\\parsers\\base_parser.py\u001b[0m in \u001b[0;36mix\u001b[1;34m(col)\u001b[0m\n\u001b[0;32m    440\u001b[0m             \u001b[1;32mif\u001b[0m \u001b[1;32mnot\u001b[0m \u001b[0misinstance\u001b[0m\u001b[1;33m(\u001b[0m\u001b[0mcol\u001b[0m\u001b[1;33m,\u001b[0m \u001b[0mstr\u001b[0m\u001b[1;33m)\u001b[0m\u001b[1;33m:\u001b[0m\u001b[1;33m\u001b[0m\u001b[1;33m\u001b[0m\u001b[0m\n\u001b[0;32m    441\u001b[0m                 \u001b[1;32mreturn\u001b[0m \u001b[0mcol\u001b[0m\u001b[1;33m\u001b[0m\u001b[1;33m\u001b[0m\u001b[0m\n\u001b[1;32m--> 442\u001b[1;33m             \u001b[1;32mraise\u001b[0m \u001b[0mValueError\u001b[0m\u001b[1;33m(\u001b[0m\u001b[1;34mf\"Index {col} invalid\"\u001b[0m\u001b[1;33m)\u001b[0m\u001b[1;33m\u001b[0m\u001b[1;33m\u001b[0m\u001b[0m\n\u001b[0m\u001b[0;32m    443\u001b[0m \u001b[1;33m\u001b[0m\u001b[0m\n\u001b[0;32m    444\u001b[0m         \u001b[0mto_remove\u001b[0m \u001b[1;33m=\u001b[0m \u001b[1;33m[\u001b[0m\u001b[1;33m]\u001b[0m\u001b[1;33m\u001b[0m\u001b[1;33m\u001b[0m\u001b[0m\n",
      "\u001b[1;31mValueError\u001b[0m: Index resultId invalid"
     ]
    }
   ],
   "source": [
    "X_test = pd.read_csv('x_test.csv', index_col= 'resultId')"
   ]
  },
  {
   "cell_type": "code",
   "execution_count": null,
   "metadata": {},
   "outputs": [
    {
     "data": {
      "text/plain": [
       "array([[0.78717915, 0.21282085],\n",
       "       [0.76786209, 0.23213791],\n",
       "       [0.91151002, 0.08848998],\n",
       "       [0.83916392, 0.16083608],\n",
       "       [0.75925799, 0.24074201],\n",
       "       [0.88981539, 0.11018461],\n",
       "       [0.82739542, 0.17260458],\n",
       "       [0.67093647, 0.32906353],\n",
       "       [0.76885934, 0.23114066],\n",
       "       [0.18339165, 0.81660835],\n",
       "       [0.13070716, 0.86929284],\n",
       "       [0.16803341, 0.83196659],\n",
       "       [0.15867483, 0.84132517],\n",
       "       [0.19333627, 0.80666373],\n",
       "       [0.51318588, 0.48681412],\n",
       "       [0.43331326, 0.56668674],\n",
       "       [0.06403403, 0.93596597],\n",
       "       [0.03617674, 0.96382326],\n",
       "       [0.12768859, 0.87231141],\n",
       "       [0.62626544, 0.37373456],\n",
       "       [0.90677821, 0.09322179],\n",
       "       [0.9113879 , 0.0886121 ],\n",
       "       [0.86030956, 0.13969044],\n",
       "       [0.7528262 , 0.2471738 ],\n",
       "       [0.71708384, 0.28291616],\n",
       "       [0.84133072, 0.15866928],\n",
       "       [0.76655103, 0.23344897],\n",
       "       [0.3181752 , 0.6818248 ],\n",
       "       [0.27582821, 0.72417179],\n",
       "       [0.19226481, 0.80773519],\n",
       "       [0.10543651, 0.89456349],\n",
       "       [0.68481192, 0.31518808],\n",
       "       [0.09130627, 0.90869373],\n",
       "       [0.14264007, 0.85735993],\n",
       "       [0.39136576, 0.60863424],\n",
       "       [0.28999534, 0.71000466],\n",
       "       [0.19333627, 0.80666373],\n",
       "       [0.05184523, 0.94815477],\n",
       "       [0.22579241, 0.77420759],\n",
       "       [0.74522621, 0.25477379],\n",
       "       [0.89154747, 0.10845253],\n",
       "       [0.82206631, 0.17793369],\n",
       "       [0.89194055, 0.10805945],\n",
       "       [0.80992891, 0.19007109],\n",
       "       [0.8481127 , 0.1518873 ],\n",
       "       [0.49685942, 0.50314058],\n",
       "       [0.75991458, 0.24008542],\n",
       "       [0.79443452, 0.20556548],\n",
       "       [0.56763804, 0.43236196],\n",
       "       [0.1989178 , 0.8010822 ],\n",
       "       [0.29884957, 0.70115043],\n",
       "       [0.08033442, 0.91966558],\n",
       "       [0.3657274 , 0.6342726 ],\n",
       "       [0.23788777, 0.76211223],\n",
       "       [0.28999534, 0.71000466],\n",
       "       [0.1279792 , 0.8720208 ],\n",
       "       [0.23253573, 0.76746427],\n",
       "       [0.03617674, 0.96382326],\n",
       "       [0.3250685 , 0.6749315 ],\n",
       "       [0.26044311, 0.73955689],\n",
       "       [0.85971968, 0.14028032],\n",
       "       [0.89464121, 0.10535879],\n",
       "       [0.80438275, 0.19561725],\n",
       "       [0.79017461, 0.20982539],\n",
       "       [0.77668871, 0.22331129],\n",
       "       [0.85576694, 0.14423306],\n",
       "       [0.75275865, 0.24724135],\n",
       "       [0.53209608, 0.46790392],\n",
       "       [0.08282213, 0.91717787],\n",
       "       [0.1279792 , 0.8720208 ],\n",
       "       [0.59500357, 0.40499643],\n",
       "       [0.11349411, 0.88650589],\n",
       "       [0.44301701, 0.55698299],\n",
       "       [0.14232161, 0.85767839],\n",
       "       [0.04633791, 0.95366209],\n",
       "       [0.22023024, 0.77976976],\n",
       "       [0.42339677, 0.57660323],\n",
       "       [0.08295629, 0.91704371],\n",
       "       [0.57734862, 0.42265138],\n",
       "       [0.23921706, 0.76078294],\n",
       "       [0.87794847, 0.12205153],\n",
       "       [0.88314508, 0.11685492],\n",
       "       [0.75452676, 0.24547324],\n",
       "       [0.76851771, 0.23148229],\n",
       "       [0.33025422, 0.66974578],\n",
       "       [0.28498859, 0.71501141],\n",
       "       [0.71068068, 0.28931932],\n",
       "       [0.36883128, 0.63116872],\n",
       "       [0.80730267, 0.19269733],\n",
       "       [0.46667079, 0.53332921],\n",
       "       [0.3250685 , 0.6749315 ],\n",
       "       [0.37819518, 0.62180482],\n",
       "       [0.19448014, 0.80551986],\n",
       "       [0.66591695, 0.33408305],\n",
       "       [0.19582662, 0.80417338],\n",
       "       [0.37914093, 0.62085907],\n",
       "       [0.050237  , 0.949763  ],\n",
       "       [0.71888944, 0.28111056],\n",
       "       [0.0285815 , 0.9714185 ],\n",
       "       [0.09159314, 0.90840686],\n",
       "       [0.85040053, 0.14959947],\n",
       "       [0.85863857, 0.14136143],\n",
       "       [0.82304903, 0.17695097],\n",
       "       [0.75715825, 0.24284175],\n",
       "       [0.73950503, 0.26049497],\n",
       "       [0.57626163, 0.42373837],\n",
       "       [0.66555196, 0.33444804],\n",
       "       [0.74383775, 0.25616225],\n",
       "       [0.03617674, 0.96382326],\n",
       "       [0.65036598, 0.34963402],\n",
       "       [0.43467849, 0.56532151],\n",
       "       [0.13593042, 0.86406958],\n",
       "       [0.14321724, 0.85678276],\n",
       "       [0.16438929, 0.83561071],\n",
       "       [0.44301701, 0.55698299],\n",
       "       [0.10257606, 0.89742394],\n",
       "       [0.15816008, 0.84183992],\n",
       "       [0.19875265, 0.80124735],\n",
       "       [0.75973661, 0.24026339],\n",
       "       [0.07154308, 0.92845692],\n",
       "       [0.79003281, 0.20996719],\n",
       "       [0.75102573, 0.24897427],\n",
       "       [0.84337672, 0.15662328],\n",
       "       [0.80907748, 0.19092252],\n",
       "       [0.78430769, 0.21569231],\n",
       "       [0.70370439, 0.29629561],\n",
       "       [0.59832221, 0.40167779],\n",
       "       [0.46989484, 0.53010516],\n",
       "       [0.2438669 , 0.7561331 ],\n",
       "       [0.11510277, 0.88489723],\n",
       "       [0.36103856, 0.63896144],\n",
       "       [0.10257606, 0.89742394],\n",
       "       [0.12606997, 0.87393003],\n",
       "       [0.24306175, 0.75693825],\n",
       "       [0.10214356, 0.89785644],\n",
       "       [0.26595151, 0.73404849],\n",
       "       [0.03572812, 0.96427188],\n",
       "       [0.41470127, 0.58529873],\n",
       "       [0.50547424, 0.49452576],\n",
       "       [0.80251064, 0.19748936],\n",
       "       [0.80441955, 0.19558045],\n",
       "       [0.81486335, 0.18513665],\n",
       "       [0.83339335, 0.16660665],\n",
       "       [0.84830985, 0.15169015],\n",
       "       [0.65856488, 0.34143512],\n",
       "       [0.67170884, 0.32829116],\n",
       "       [0.43467849, 0.56532151],\n",
       "       [0.60645572, 0.39354428],\n",
       "       [0.69279636, 0.30720364],\n",
       "       [0.6279767 , 0.3720233 ],\n",
       "       [0.22073671, 0.77926329],\n",
       "       [0.050237  , 0.949763  ],\n",
       "       [0.12807366, 0.87192634],\n",
       "       [0.3157192 , 0.6842808 ],\n",
       "       [0.15134407, 0.84865593],\n",
       "       [0.14216854, 0.85783146],\n",
       "       [0.26519758, 0.73480242],\n",
       "       [0.03572812, 0.96427188],\n",
       "       [0.58895512, 0.41104488],\n",
       "       [0.14242492, 0.85757508],\n",
       "       [0.8115454 , 0.1884546 ],\n",
       "       [0.66808552, 0.33191448],\n",
       "       [0.633412  , 0.366588  ],\n",
       "       [0.6252758 , 0.3747242 ],\n",
       "       [0.64804845, 0.35195155],\n",
       "       [0.74924299, 0.25075701],\n",
       "       [0.64938479, 0.35061521],\n",
       "       [0.71263151, 0.28736849],\n",
       "       [0.27133269, 0.72866731],\n",
       "       [0.20622023, 0.79377977],\n",
       "       [0.43244896, 0.56755104],\n",
       "       [0.07275229, 0.92724771],\n",
       "       [0.09120224, 0.90879776],\n",
       "       [0.26687145, 0.73312855],\n",
       "       [0.12606997, 0.87393003],\n",
       "       [0.05766086, 0.94233914],\n",
       "       [0.07257666, 0.92742334],\n",
       "       [0.78397555, 0.21602445],\n",
       "       [0.67484304, 0.32515696],\n",
       "       [0.33673996, 0.66326004],\n",
       "       [0.76282234, 0.23717766],\n",
       "       [0.78788518, 0.21211482],\n",
       "       [0.81082654, 0.18917346],\n",
       "       [0.69396497, 0.30603503],\n",
       "       [0.7141399 , 0.2858601 ],\n",
       "       [0.71356251, 0.28643749],\n",
       "       [0.65282657, 0.34717343],\n",
       "       [0.22637031, 0.77362969],\n",
       "       [0.51681837, 0.48318163],\n",
       "       [0.49656907, 0.50343093],\n",
       "       [0.15843997, 0.84156003],\n",
       "       [0.09159314, 0.90840686],\n",
       "       [0.050237  , 0.949763  ],\n",
       "       [0.16278987, 0.83721013],\n",
       "       [0.26878112, 0.73121888],\n",
       "       [0.19448014, 0.80551986],\n",
       "       [0.24030453, 0.75969547],\n",
       "       [0.67167582, 0.32832418],\n",
       "       [0.03572812, 0.96427188],\n",
       "       [0.51102418, 0.48897582]])"
      ]
     },
     "execution_count": 11,
     "metadata": {},
     "output_type": "execute_result"
    }
   ],
   "source": [
    "pipeline_importada.predict_proba(X_test)"
   ]
  },
  {
   "cell_type": "code",
   "execution_count": null,
   "metadata": {},
   "outputs": [
    {
     "name": "stderr",
     "output_type": "stream",
     "text": [
      "ERROR: Ignored the following versions that require a different python version: 2.1 Requires-Python >=3.8; 2.1.1 Requires-Python >=3.8; 2.1.10 Requires-Python >=3.8; 2.1.11 Requires-Python >=3.8; 2.1.12 Requires-Python >=3.8; 2.1.13 Requires-Python >=3.8; 2.1.2 Requires-Python >=3.8; 2.1.3 Requires-Python >=3.8; 2.1.4 Requires-Python >=3.8; 2.1.5 Requires-Python >=3.8; 2.1.6 Requires-Python >=3.8; 2.1.7 Requires-Python >=3.8; 2.1.8 Requires-Python >=3.8; 2.1.9 Requires-Python >=3.8; 2.2.0 Requires-Python >=3.8; 2.2.1 Requires-Python >=3.8; 2.2.2 Requires-Python >=3.8; 2.2.3 Requires-Python >=3.8; 2.2.4 Requires-Python >=3.8; 2.2.5 Requires-Python >=3.8; 2.2.6 Requires-Python >=3.8; 2.2.7 Requires-Python >=3.8; 2.2.8 Requires-Python >=3.8; 2.2.9 Requires-Python >=3.8; 2.3.0 Requires-Python >=3.8\n",
      "ERROR: Could not find a version that satisfies the requirement fastf1 (from versions: none)\n",
      "ERROR: No matching distribution found for fastf1\n"
     ]
    }
   ],
   "source": [
    "!pip install fastf1"
   ]
  },
  {
   "cell_type": "code",
   "execution_count": null,
   "metadata": {},
   "outputs": [
    {
     "ename": "ModuleNotFoundError",
     "evalue": "No module named 'fastf1'",
     "output_type": "error",
     "traceback": [
      "\u001b[1;31m---------------------------------------------------------------------------\u001b[0m",
      "\u001b[1;31mModuleNotFoundError\u001b[0m                       Traceback (most recent call last)",
      "\u001b[1;32m~\\AppData\\Local\\Temp\\ipykernel_21348\\4118671713.py\u001b[0m in \u001b[0;36m<module>\u001b[1;34m\u001b[0m\n\u001b[0;32m      1\u001b[0m \u001b[1;32mfrom\u001b[0m \u001b[0mmatplotlib\u001b[0m \u001b[1;32mimport\u001b[0m \u001b[0mpyplot\u001b[0m \u001b[1;32mas\u001b[0m \u001b[0mplt\u001b[0m\u001b[1;33m\u001b[0m\u001b[1;33m\u001b[0m\u001b[0m\n\u001b[1;32m----> 2\u001b[1;33m \u001b[1;32mimport\u001b[0m \u001b[0mfastf1\u001b[0m\u001b[1;33m\u001b[0m\u001b[1;33m\u001b[0m\u001b[0m\n\u001b[0m\u001b[0;32m      3\u001b[0m \u001b[1;32mimport\u001b[0m \u001b[0mfastf1\u001b[0m\u001b[1;33m.\u001b[0m\u001b[0mplotting\u001b[0m\u001b[1;33m\u001b[0m\u001b[1;33m\u001b[0m\u001b[0m\n\u001b[0;32m      4\u001b[0m \u001b[1;33m\u001b[0m\u001b[0m\n\u001b[0;32m      5\u001b[0m \u001b[0mfastf1\u001b[0m\u001b[1;33m.\u001b[0m\u001b[0mplotting\u001b[0m\u001b[1;33m.\u001b[0m\u001b[0msetup_mpl\u001b[0m\u001b[1;33m(\u001b[0m\u001b[1;33m)\u001b[0m\u001b[1;33m\u001b[0m\u001b[1;33m\u001b[0m\u001b[0m\n",
      "\u001b[1;31mModuleNotFoundError\u001b[0m: No module named 'fastf1'"
     ]
    }
   ],
   "source": [
    "from matplotlib import pyplot as plt\n",
    "import fastf1\n",
    "import fastf1.plotting\n",
    "\n",
    "fastf1.plotting.setup_mpl()\n",
    "\n",
    "session = fastf1.get_session(2019, 'Monza', 'Q')\n",
    "\n",
    "session.load()\n",
    "fast_leclerc = session.laps.pick_driver('LEC').pick_fastest()\n",
    "lec_car_data = fast_leclerc.get_car_data()\n",
    "t = lec_car_data['Time']\n",
    "vCar = lec_car_data['Speed']\n",
    "\n",
    "# The rest is just plotting\n",
    "fig, ax = plt.subplots()\n",
    "ax.plot(t, vCar, label='Fast')\n",
    "ax.set_xlabel('Time')\n",
    "ax.set_ylabel('Speed [Km/h]')\n",
    "ax.set_title('Leclerc is')\n",
    "ax.legend()\n",
    "plt.show()"
   ]
  }
 ],
 "metadata": {
  "kernelspec": {
   "display_name": "Python 3",
   "language": "python",
   "name": "python3"
  },
  "language_info": {
   "codemirror_mode": {
    "name": "ipython",
    "version": 3
   },
   "file_extension": ".py",
   "mimetype": "text/x-python",
   "name": "python",
   "nbconvert_exporter": "python",
   "pygments_lexer": "ipython3",
   "version": "3.7.4"
  },
  "orig_nbformat": 4,
  "vscode": {
   "interpreter": {
    "hash": "a6bc3b96fe2a5faf034119f77c25779006d8f31484ccb855ea416176cb208743"
   }
  }
 },
 "nbformat": 4,
 "nbformat_minor": 2
}
